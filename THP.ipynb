{
 "cells": [
  {
   "cell_type": "code",
   "execution_count": 1,
   "id": "e3d31436",
   "metadata": {},
   "outputs": [],
   "source": [
    "# Pandas is a software library written for the Python programming language for data manipulation and analysis.\n",
    "import pandas as pd\n",
    "# NumPy is a library for the Python programming language, adding support for large, multi-dimensional arrays and matrices, along with a large collection of high-level mathematical functions to operate on these arrays\n",
    "import numpy as np\n",
    "# Matplotlib is a plotting library for python and pyplot gives us a MatLab like plotting framework. We will use this in our plotter function to plot data.\n",
    "import matplotlib.pyplot as plt\n",
    "#Seaborn is a Python data visualization library based on matplotlib. It provides a high-level interface for drawing attractive and informative statistical graphics\n",
    "import seaborn as sns\n",
    "# Preprocessing allows us to standarsize our data\n",
    "from sklearn import preprocessing\n",
    "# Allows us to split our data into training and testing data\n",
    "from sklearn.model_selection import train_test_split\n",
    "# Allows us to test parameters of classification algorithms and find the best one\n",
    "from sklearn.model_selection import GridSearchCV\n",
    "# Logistic Regression classification algorithm\n",
    "from sklearn.linear_model import LogisticRegression\n",
    "# Support Vector Machine classification algorithm\n",
    "from sklearn.svm import SVC\n",
    "# Decision Tree classification algorithm\n",
    "from sklearn import metrics\n",
    "import matplotlib.pyplot as plt\n",
    "from sklearn.tree import DecisionTreeClassifier\n",
    "# K Nearest Neighbors classification algorithm\n",
    "from sklearn.neighbors import KNeighborsClassifier\n",
    " "
   ]
  },
  {
   "cell_type": "code",
   "execution_count": 2,
   "id": "6448e4b3-4d39-4e38-851e-b480605482fd",
   "metadata": {},
   "outputs": [
    {
     "data": {
      "text/html": [
       "<div>\n",
       "<style scoped>\n",
       "    .dataframe tbody tr th:only-of-type {\n",
       "        vertical-align: middle;\n",
       "    }\n",
       "\n",
       "    .dataframe tbody tr th {\n",
       "        vertical-align: top;\n",
       "    }\n",
       "\n",
       "    .dataframe thead th {\n",
       "        text-align: right;\n",
       "    }\n",
       "</style>\n",
       "<table border=\"1\" class=\"dataframe\">\n",
       "  <thead>\n",
       "    <tr style=\"text-align: right;\">\n",
       "      <th></th>\n",
       "      <th>Emancipation Age</th>\n",
       "      <th>Youth ID</th>\n",
       "      <th>Gender</th>\n",
       "      <th>Entry Date</th>\n",
       "      <th>DOB</th>\n",
       "      <th>Current Age</th>\n",
       "      <th>Proj. Emancipation Date</th>\n",
       "      <th>Exit Date</th>\n",
       "      <th>Parent</th>\n",
       "      <th>Permanency/Navigating Wellfare Sys</th>\n",
       "      <th>Daily Living</th>\n",
       "      <th>Self Care</th>\n",
       "      <th>Relationships &amp; Communication</th>\n",
       "      <th>Housing &amp; Money Management</th>\n",
       "      <th>Work &amp; Study Life</th>\n",
       "      <th>Career &amp; Education Planning</th>\n",
       "      <th>Looking Forward</th>\n",
       "      <th>Total</th>\n",
       "      <th>Catagorical</th>\n",
       "      <th>Result Score</th>\n",
       "    </tr>\n",
       "  </thead>\n",
       "  <tbody>\n",
       "    <tr>\n",
       "      <th>0</th>\n",
       "      <td>21.0</td>\n",
       "      <td>1</td>\n",
       "      <td>1.0</td>\n",
       "      <td>16-Dec-2019</td>\n",
       "      <td>19-Jun-2001</td>\n",
       "      <td>18.0</td>\n",
       "      <td>19-Jun-2022</td>\n",
       "      <td>10-Sep-2020</td>\n",
       "      <td>0.0</td>\n",
       "      <td>3.80</td>\n",
       "      <td>4.47</td>\n",
       "      <td>4.41</td>\n",
       "      <td>4.33</td>\n",
       "      <td>3.96</td>\n",
       "      <td>4.10</td>\n",
       "      <td>5.00</td>\n",
       "      <td>5.00</td>\n",
       "      <td>35.07</td>\n",
       "      <td>Good</td>\n",
       "      <td>1.0</td>\n",
       "    </tr>\n",
       "    <tr>\n",
       "      <th>1</th>\n",
       "      <td>NaN</td>\n",
       "      <td>2</td>\n",
       "      <td>1.0</td>\n",
       "      <td>22-Nov-2020</td>\n",
       "      <td>9-Mar-2001</td>\n",
       "      <td>19.0</td>\n",
       "      <td>9-Mar-2022</td>\n",
       "      <td>9-Mar-2022</td>\n",
       "      <td>0.0</td>\n",
       "      <td>4.00</td>\n",
       "      <td>4.41</td>\n",
       "      <td>4.53</td>\n",
       "      <td>4.78</td>\n",
       "      <td>3.70</td>\n",
       "      <td>4.40</td>\n",
       "      <td>4.10</td>\n",
       "      <td>4.00</td>\n",
       "      <td>33.92</td>\n",
       "      <td>Good</td>\n",
       "      <td>1.0</td>\n",
       "    </tr>\n",
       "    <tr>\n",
       "      <th>2</th>\n",
       "      <td>NaN</td>\n",
       "      <td>3</td>\n",
       "      <td>1.0</td>\n",
       "      <td>18-Feb-2020</td>\n",
       "      <td>14-Feb-2002</td>\n",
       "      <td>18.0</td>\n",
       "      <td>14-Feb-2023</td>\n",
       "      <td>7-Apr-2020</td>\n",
       "      <td>0.0</td>\n",
       "      <td>4.30</td>\n",
       "      <td>4.65</td>\n",
       "      <td>4.29</td>\n",
       "      <td>4.78</td>\n",
       "      <td>3.78</td>\n",
       "      <td>4.60</td>\n",
       "      <td>4.11</td>\n",
       "      <td>4.50</td>\n",
       "      <td>35.01</td>\n",
       "      <td>Bad</td>\n",
       "      <td>0.0</td>\n",
       "    </tr>\n",
       "    <tr>\n",
       "      <th>3</th>\n",
       "      <td>NaN</td>\n",
       "      <td>4</td>\n",
       "      <td>1.0</td>\n",
       "      <td>7-Apr-2020</td>\n",
       "      <td>27-Nov-2001</td>\n",
       "      <td>18.0</td>\n",
       "      <td>27-Nov-2022</td>\n",
       "      <td>15-Oct-2022</td>\n",
       "      <td>0.0</td>\n",
       "      <td>3.55</td>\n",
       "      <td>2.24</td>\n",
       "      <td>2.71</td>\n",
       "      <td>3.83</td>\n",
       "      <td>2.09</td>\n",
       "      <td>2.70</td>\n",
       "      <td>2.11</td>\n",
       "      <td>3.25</td>\n",
       "      <td>22.48</td>\n",
       "      <td>Good</td>\n",
       "      <td>1.0</td>\n",
       "    </tr>\n",
       "    <tr>\n",
       "      <th>4</th>\n",
       "      <td>NaN</td>\n",
       "      <td>5</td>\n",
       "      <td>0.0</td>\n",
       "      <td>30-Jun-2020</td>\n",
       "      <td>11-Sep-2001</td>\n",
       "      <td>18.0</td>\n",
       "      <td>11-Sep-2022</td>\n",
       "      <td>1-Mar-2021</td>\n",
       "      <td>1.0</td>\n",
       "      <td>4.90</td>\n",
       "      <td>4.71</td>\n",
       "      <td>4.76</td>\n",
       "      <td>4.83</td>\n",
       "      <td>3.35</td>\n",
       "      <td>4.65</td>\n",
       "      <td>4.78</td>\n",
       "      <td>5.00</td>\n",
       "      <td>36.98</td>\n",
       "      <td>Bad</td>\n",
       "      <td>0.0</td>\n",
       "    </tr>\n",
       "  </tbody>\n",
       "</table>\n",
       "</div>"
      ],
      "text/plain": [
       "   Emancipation Age Youth ID  Gender   Entry Date          DOB  Current Age  \\\n",
       "0              21.0        1     1.0  16-Dec-2019  19-Jun-2001         18.0   \n",
       "1               NaN        2     1.0  22-Nov-2020   9-Mar-2001         19.0   \n",
       "2               NaN        3     1.0  18-Feb-2020  14-Feb-2002         18.0   \n",
       "3               NaN        4     1.0   7-Apr-2020  27-Nov-2001         18.0   \n",
       "4               NaN        5     0.0  30-Jun-2020  11-Sep-2001         18.0   \n",
       "\n",
       "  Proj. Emancipation Date    Exit Date   Parent  \\\n",
       "0              19-Jun-2022  10-Sep-2020     0.0   \n",
       "1               9-Mar-2022   9-Mar-2022     0.0   \n",
       "2              14-Feb-2023   7-Apr-2020     0.0   \n",
       "3              27-Nov-2022  15-Oct-2022     0.0   \n",
       "4              11-Sep-2022   1-Mar-2021     1.0   \n",
       "\n",
       "   Permanency/Navigating Wellfare Sys  Daily Living   Self Care  \\\n",
       "0                                3.80           4.47       4.41   \n",
       "1                                4.00           4.41       4.53   \n",
       "2                                4.30           4.65       4.29   \n",
       "3                                3.55           2.24       2.71   \n",
       "4                                4.90           4.71       4.76   \n",
       "\n",
       "   Relationships & Communication  Housing & Money Management   \\\n",
       "0                           4.33                         3.96   \n",
       "1                           4.78                         3.70   \n",
       "2                           4.78                         3.78   \n",
       "3                           3.83                         2.09   \n",
       "4                           4.83                         3.35   \n",
       "\n",
       "   Work & Study Life   Career & Education Planning  Looking Forward  Total  \\\n",
       "0                4.10                         5.00             5.00  35.07   \n",
       "1                4.40                         4.10             4.00  33.92   \n",
       "2                4.60                         4.11             4.50  35.01   \n",
       "3                2.70                         2.11             3.25  22.48   \n",
       "4                4.65                         4.78             5.00  36.98   \n",
       "\n",
       "  Catagorical   Result Score   \n",
       "0         Good            1.0  \n",
       "1         Good            1.0  \n",
       "2          Bad            0.0  \n",
       "3         Good            1.0  \n",
       "4          Bad            0.0  "
      ]
     },
     "execution_count": 2,
     "metadata": {},
     "output_type": "execute_result"
    }
   ],
   "source": [
    "thp_df = pd.read_csv(\"/Users/oakmoreroadinc./Desktop/Data Science /Portfolio Data Science /THP NMD Classification Model  copy.csv\", encoding=\"utf-8\")\n",
    "# To display the top 5 rows\n",
    "thp_df.head()\n"
   ]
  },
  {
   "cell_type": "markdown",
   "id": "15f6e52f-0c34-4c2f-b859-60823332ad98",
   "metadata": {},
   "source": [
    "The Categorical Column and Result Score work together. Good = 1 and Bad = 0. Good/1 means the applicant left voluntarily from the program with no issues. Bad/0 means the applicant was removed from the program involuntarily; had issues or left on bad terms. Under Gender, 1=Male & 0=Female. \n",
    "Under parent, 1 = parent; 0 = not a parent.  \n",
    "\n",
    "This model will attempt to perdict future applicants that will be either Good or Bad for the program.\n"
   ]
  },
  {
   "cell_type": "code",
   "execution_count": 7,
   "id": "63d185e0",
   "metadata": {},
   "outputs": [
    {
     "data": {
      "text/plain": [
       "Emancipation Age                      float64\n",
       "Youth ID                               object\n",
       "Gender                                float64\n",
       "Entry Date                             object\n",
       "DOB                                    object\n",
       "Current Age                           float64\n",
       "Proj. Emancipation Date                object\n",
       "Exit Date                              object\n",
       "Parent                                float64\n",
       "Permanency/Navigating Wellfare Sys    float64\n",
       "Daily Living                          float64\n",
       "Self Care                             float64\n",
       "Relationships & Communication         float64\n",
       "Housing & Money Management            float64\n",
       "Work & Study Life                     float64\n",
       "Career & Education Planning           float64\n",
       "Looking Forward                       float64\n",
       "Total                                 float64\n",
       "Catagorical                            object\n",
       "Result Score                          float64\n",
       "dtype: object"
      ]
     },
     "execution_count": 7,
     "metadata": {},
     "output_type": "execute_result"
    }
   ],
   "source": [
    "thp_df.dtypes"
   ]
  },
  {
   "cell_type": "code",
   "execution_count": 3,
   "id": "307e7825-ae21-4622-a2c4-62c71ea904d4",
   "metadata": {},
   "outputs": [
    {
     "data": {
      "text/plain": [
       "Index(['Emancipation Age', 'Youth ID', 'Gender', 'Entry Date', 'DOB',\n",
       "       'Current Age', 'Proj. Emancipation Date ', 'Exit Date ', 'Parent',\n",
       "       'Permanency/Navigating Wellfare Sys', 'Daily Living ', 'Self Care',\n",
       "       'Relationships & Communication', 'Housing & Money Management ',\n",
       "       'Work & Study Life ', 'Career & Education Planning', 'Looking Forward',\n",
       "       'Total', 'Catagorical ', 'Result Score '],\n",
       "      dtype='object')"
      ]
     },
     "execution_count": 3,
     "metadata": {},
     "output_type": "execute_result"
    }
   ],
   "source": [
    "thp_df.columns"
   ]
  },
  {
   "cell_type": "code",
   "execution_count": 4,
   "id": "f2c86f20-bf11-4151-bab4-aacb78c0fab0",
   "metadata": {},
   "outputs": [
    {
     "data": {
      "text/html": [
       "<div>\n",
       "<style scoped>\n",
       "    .dataframe tbody tr th:only-of-type {\n",
       "        vertical-align: middle;\n",
       "    }\n",
       "\n",
       "    .dataframe tbody tr th {\n",
       "        vertical-align: top;\n",
       "    }\n",
       "\n",
       "    .dataframe thead th {\n",
       "        text-align: right;\n",
       "    }\n",
       "</style>\n",
       "<table border=\"1\" class=\"dataframe\">\n",
       "  <thead>\n",
       "    <tr style=\"text-align: right;\">\n",
       "      <th></th>\n",
       "      <th>Youth ID</th>\n",
       "      <th>Entry Date</th>\n",
       "      <th>Gender</th>\n",
       "      <th>Current Age</th>\n",
       "      <th>Parent</th>\n",
       "      <th>Permanency/Navigating Wellfare Sys</th>\n",
       "      <th>Daily Living</th>\n",
       "      <th>Self Care</th>\n",
       "      <th>Relationships &amp; Communication</th>\n",
       "      <th>Housing &amp; Money Management</th>\n",
       "      <th>Work &amp; Study Life</th>\n",
       "      <th>Career &amp; Education Planning</th>\n",
       "      <th>Looking Forward</th>\n",
       "      <th>Total</th>\n",
       "      <th>Catagorical</th>\n",
       "      <th>Result Score</th>\n",
       "      <th>Entry_date</th>\n",
       "    </tr>\n",
       "  </thead>\n",
       "  <tbody>\n",
       "    <tr>\n",
       "      <th>0</th>\n",
       "      <td>1</td>\n",
       "      <td>16-Dec-2019</td>\n",
       "      <td>1.0</td>\n",
       "      <td>18.0</td>\n",
       "      <td>0.0</td>\n",
       "      <td>3.80</td>\n",
       "      <td>4.47</td>\n",
       "      <td>4.41</td>\n",
       "      <td>4.33</td>\n",
       "      <td>3.96</td>\n",
       "      <td>4.10</td>\n",
       "      <td>5.00</td>\n",
       "      <td>5.00</td>\n",
       "      <td>35.07</td>\n",
       "      <td>Good</td>\n",
       "      <td>1.0</td>\n",
       "      <td>2019-12-16</td>\n",
       "    </tr>\n",
       "    <tr>\n",
       "      <th>1</th>\n",
       "      <td>2</td>\n",
       "      <td>22-Nov-2020</td>\n",
       "      <td>1.0</td>\n",
       "      <td>19.0</td>\n",
       "      <td>0.0</td>\n",
       "      <td>4.00</td>\n",
       "      <td>4.41</td>\n",
       "      <td>4.53</td>\n",
       "      <td>4.78</td>\n",
       "      <td>3.70</td>\n",
       "      <td>4.40</td>\n",
       "      <td>4.10</td>\n",
       "      <td>4.00</td>\n",
       "      <td>33.92</td>\n",
       "      <td>Good</td>\n",
       "      <td>1.0</td>\n",
       "      <td>2020-11-22</td>\n",
       "    </tr>\n",
       "    <tr>\n",
       "      <th>2</th>\n",
       "      <td>3</td>\n",
       "      <td>18-Feb-2020</td>\n",
       "      <td>1.0</td>\n",
       "      <td>18.0</td>\n",
       "      <td>0.0</td>\n",
       "      <td>4.30</td>\n",
       "      <td>4.65</td>\n",
       "      <td>4.29</td>\n",
       "      <td>4.78</td>\n",
       "      <td>3.78</td>\n",
       "      <td>4.60</td>\n",
       "      <td>4.11</td>\n",
       "      <td>4.50</td>\n",
       "      <td>35.01</td>\n",
       "      <td>Bad</td>\n",
       "      <td>0.0</td>\n",
       "      <td>2020-02-18</td>\n",
       "    </tr>\n",
       "    <tr>\n",
       "      <th>3</th>\n",
       "      <td>4</td>\n",
       "      <td>7-Apr-2020</td>\n",
       "      <td>1.0</td>\n",
       "      <td>18.0</td>\n",
       "      <td>0.0</td>\n",
       "      <td>3.55</td>\n",
       "      <td>2.24</td>\n",
       "      <td>2.71</td>\n",
       "      <td>3.83</td>\n",
       "      <td>2.09</td>\n",
       "      <td>2.70</td>\n",
       "      <td>2.11</td>\n",
       "      <td>3.25</td>\n",
       "      <td>22.48</td>\n",
       "      <td>Good</td>\n",
       "      <td>1.0</td>\n",
       "      <td>2020-04-07</td>\n",
       "    </tr>\n",
       "    <tr>\n",
       "      <th>4</th>\n",
       "      <td>5</td>\n",
       "      <td>30-Jun-2020</td>\n",
       "      <td>0.0</td>\n",
       "      <td>18.0</td>\n",
       "      <td>1.0</td>\n",
       "      <td>4.90</td>\n",
       "      <td>4.71</td>\n",
       "      <td>4.76</td>\n",
       "      <td>4.83</td>\n",
       "      <td>3.35</td>\n",
       "      <td>4.65</td>\n",
       "      <td>4.78</td>\n",
       "      <td>5.00</td>\n",
       "      <td>36.98</td>\n",
       "      <td>Bad</td>\n",
       "      <td>0.0</td>\n",
       "      <td>2020-06-30</td>\n",
       "    </tr>\n",
       "  </tbody>\n",
       "</table>\n",
       "</div>"
      ],
      "text/plain": [
       "  Youth ID   Entry Date  Gender  Current Age  Parent  \\\n",
       "0        1  16-Dec-2019     1.0         18.0     0.0   \n",
       "1        2  22-Nov-2020     1.0         19.0     0.0   \n",
       "2        3  18-Feb-2020     1.0         18.0     0.0   \n",
       "3        4   7-Apr-2020     1.0         18.0     0.0   \n",
       "4        5  30-Jun-2020     0.0         18.0     1.0   \n",
       "\n",
       "   Permanency/Navigating Wellfare Sys  Daily Living   Self Care  \\\n",
       "0                                3.80           4.47       4.41   \n",
       "1                                4.00           4.41       4.53   \n",
       "2                                4.30           4.65       4.29   \n",
       "3                                3.55           2.24       2.71   \n",
       "4                                4.90           4.71       4.76   \n",
       "\n",
       "   Relationships & Communication  Housing & Money Management   \\\n",
       "0                           4.33                         3.96   \n",
       "1                           4.78                         3.70   \n",
       "2                           4.78                         3.78   \n",
       "3                           3.83                         2.09   \n",
       "4                           4.83                         3.35   \n",
       "\n",
       "   Work & Study Life   Career & Education Planning  Looking Forward  Total  \\\n",
       "0                4.10                         5.00             5.00  35.07   \n",
       "1                4.40                         4.10             4.00  33.92   \n",
       "2                4.60                         4.11             4.50  35.01   \n",
       "3                2.70                         2.11             3.25  22.48   \n",
       "4                4.65                         4.78             5.00  36.98   \n",
       "\n",
       "  Catagorical   Result Score   Entry_date  \n",
       "0         Good            1.0  2019-12-16  \n",
       "1         Good            1.0  2020-11-22  \n",
       "2          Bad            0.0  2020-02-18  \n",
       "3         Good            1.0  2020-04-07  \n",
       "4          Bad            0.0  2020-06-30  "
      ]
     },
     "execution_count": 4,
     "metadata": {},
     "output_type": "execute_result"
    }
   ],
   "source": [
    " # Lets take a subset of our dataframe keeping only the features we want .\n",
    "thp_df = thp_df[['Youth ID','Entry Date', 'Gender', 'Current Age', 'Parent',\n",
    "       'Permanency/Navigating Wellfare Sys', 'Daily Living ', 'Self Care',\n",
    "       'Relationships & Communication', 'Housing & Money Management ',\n",
    "       'Work & Study Life ', 'Career & Education Planning', 'Looking Forward',\n",
    "       'Total','Catagorical ','Result Score ']]\n",
    "# We also want to convert the date_utc to a datetime datatype and then extracting the date leaving the time\n",
    "thp_df['Entry_date'] = pd.to_datetime(thp_df['Entry Date']).dt.date\n",
    " \n",
    "thp_df.head()\n"
   ]
  },
  {
   "cell_type": "code",
   "execution_count": 5,
   "id": "f525dd69-32f2-484c-90a2-032703e99854",
   "metadata": {
    "tags": []
   },
   "outputs": [
    {
     "data": {
      "text/html": [
       "<div>\n",
       "<style scoped>\n",
       "    .dataframe tbody tr th:only-of-type {\n",
       "        vertical-align: middle;\n",
       "    }\n",
       "\n",
       "    .dataframe tbody tr th {\n",
       "        vertical-align: top;\n",
       "    }\n",
       "\n",
       "    .dataframe thead th {\n",
       "        text-align: right;\n",
       "    }\n",
       "</style>\n",
       "<table border=\"1\" class=\"dataframe\">\n",
       "  <thead>\n",
       "    <tr style=\"text-align: right;\">\n",
       "      <th></th>\n",
       "      <th>Youth ID</th>\n",
       "      <th>Gender</th>\n",
       "      <th>Entry_date</th>\n",
       "      <th>Current Age</th>\n",
       "      <th>Parent</th>\n",
       "      <th>Permanency/Navigating Wellfare Sys</th>\n",
       "      <th>Daily Living</th>\n",
       "      <th>Self Care</th>\n",
       "      <th>Relationships &amp; Communication</th>\n",
       "      <th>Housing &amp; Money Management</th>\n",
       "      <th>Work &amp; Study Life</th>\n",
       "      <th>Career &amp; Education Planning</th>\n",
       "      <th>Looking Forward</th>\n",
       "      <th>Total</th>\n",
       "      <th>Catagorical</th>\n",
       "      <th>Result Score</th>\n",
       "    </tr>\n",
       "  </thead>\n",
       "  <tbody>\n",
       "    <tr>\n",
       "      <th>0</th>\n",
       "      <td>1</td>\n",
       "      <td>1.0</td>\n",
       "      <td>2019-12-16</td>\n",
       "      <td>18.0</td>\n",
       "      <td>0.0</td>\n",
       "      <td>3.80</td>\n",
       "      <td>4.47</td>\n",
       "      <td>4.41</td>\n",
       "      <td>4.33</td>\n",
       "      <td>3.96</td>\n",
       "      <td>4.10</td>\n",
       "      <td>5.00</td>\n",
       "      <td>5.00</td>\n",
       "      <td>35.07</td>\n",
       "      <td>Good</td>\n",
       "      <td>1.0</td>\n",
       "    </tr>\n",
       "    <tr>\n",
       "      <th>1</th>\n",
       "      <td>2</td>\n",
       "      <td>1.0</td>\n",
       "      <td>2020-11-22</td>\n",
       "      <td>19.0</td>\n",
       "      <td>0.0</td>\n",
       "      <td>4.00</td>\n",
       "      <td>4.41</td>\n",
       "      <td>4.53</td>\n",
       "      <td>4.78</td>\n",
       "      <td>3.70</td>\n",
       "      <td>4.40</td>\n",
       "      <td>4.10</td>\n",
       "      <td>4.00</td>\n",
       "      <td>33.92</td>\n",
       "      <td>Good</td>\n",
       "      <td>1.0</td>\n",
       "    </tr>\n",
       "    <tr>\n",
       "      <th>2</th>\n",
       "      <td>3</td>\n",
       "      <td>1.0</td>\n",
       "      <td>2020-02-18</td>\n",
       "      <td>18.0</td>\n",
       "      <td>0.0</td>\n",
       "      <td>4.30</td>\n",
       "      <td>4.65</td>\n",
       "      <td>4.29</td>\n",
       "      <td>4.78</td>\n",
       "      <td>3.78</td>\n",
       "      <td>4.60</td>\n",
       "      <td>4.11</td>\n",
       "      <td>4.50</td>\n",
       "      <td>35.01</td>\n",
       "      <td>Bad</td>\n",
       "      <td>0.0</td>\n",
       "    </tr>\n",
       "    <tr>\n",
       "      <th>3</th>\n",
       "      <td>4</td>\n",
       "      <td>1.0</td>\n",
       "      <td>2020-04-07</td>\n",
       "      <td>18.0</td>\n",
       "      <td>0.0</td>\n",
       "      <td>3.55</td>\n",
       "      <td>2.24</td>\n",
       "      <td>2.71</td>\n",
       "      <td>3.83</td>\n",
       "      <td>2.09</td>\n",
       "      <td>2.70</td>\n",
       "      <td>2.11</td>\n",
       "      <td>3.25</td>\n",
       "      <td>22.48</td>\n",
       "      <td>Good</td>\n",
       "      <td>1.0</td>\n",
       "    </tr>\n",
       "    <tr>\n",
       "      <th>4</th>\n",
       "      <td>5</td>\n",
       "      <td>0.0</td>\n",
       "      <td>2020-06-30</td>\n",
       "      <td>18.0</td>\n",
       "      <td>1.0</td>\n",
       "      <td>4.90</td>\n",
       "      <td>4.71</td>\n",
       "      <td>4.76</td>\n",
       "      <td>4.83</td>\n",
       "      <td>3.35</td>\n",
       "      <td>4.65</td>\n",
       "      <td>4.78</td>\n",
       "      <td>5.00</td>\n",
       "      <td>36.98</td>\n",
       "      <td>Bad</td>\n",
       "      <td>0.0</td>\n",
       "    </tr>\n",
       "  </tbody>\n",
       "</table>\n",
       "</div>"
      ],
      "text/plain": [
       "  Youth ID  Gender  Entry_date  Current Age  Parent  \\\n",
       "0        1     1.0  2019-12-16         18.0     0.0   \n",
       "1        2     1.0  2020-11-22         19.0     0.0   \n",
       "2        3     1.0  2020-02-18         18.0     0.0   \n",
       "3        4     1.0  2020-04-07         18.0     0.0   \n",
       "4        5     0.0  2020-06-30         18.0     1.0   \n",
       "\n",
       "   Permanency/Navigating Wellfare Sys  Daily Living   Self Care  \\\n",
       "0                                3.80           4.47       4.41   \n",
       "1                                4.00           4.41       4.53   \n",
       "2                                4.30           4.65       4.29   \n",
       "3                                3.55           2.24       2.71   \n",
       "4                                4.90           4.71       4.76   \n",
       "\n",
       "   Relationships & Communication  Housing & Money Management   \\\n",
       "0                           4.33                         3.96   \n",
       "1                           4.78                         3.70   \n",
       "2                           4.78                         3.78   \n",
       "3                           3.83                         2.09   \n",
       "4                           4.83                         3.35   \n",
       "\n",
       "   Work & Study Life   Career & Education Planning  Looking Forward  Total  \\\n",
       "0                4.10                         5.00             5.00  35.07   \n",
       "1                4.40                         4.10             4.00  33.92   \n",
       "2                4.60                         4.11             4.50  35.01   \n",
       "3                2.70                         2.11             3.25  22.48   \n",
       "4                4.65                         4.78             5.00  36.98   \n",
       "\n",
       "  Catagorical   Result Score   \n",
       "0         Good            1.0  \n",
       "1         Good            1.0  \n",
       "2          Bad            0.0  \n",
       "3         Good            1.0  \n",
       "4          Bad            0.0  "
      ]
     },
     "execution_count": 5,
     "metadata": {},
     "output_type": "execute_result"
    }
   ],
   "source": [
    "#reorder columns in df\n",
    "thp_df1 = thp_df.reindex(['Youth ID','Gender','Entry_date','Current Age','Parent',\n",
    "       'Permanency/Navigating Wellfare Sys', 'Daily Living ', 'Self Care',\n",
    "       'Relationships & Communication', 'Housing & Money Management ',\n",
    "       'Work & Study Life ', 'Career & Education Planning', 'Looking Forward',\n",
    "       'Total','Catagorical ','Result Score '], axis=1)\n",
    "thp_df1.head()"
   ]
  },
  {
   "cell_type": "code",
   "execution_count": 6,
   "id": "20be68c8-f1aa-4f09-870d-b9cd0a318d94",
   "metadata": {
    "tags": []
   },
   "outputs": [
    {
     "data": {
      "text/html": [
       "<div>\n",
       "<style scoped>\n",
       "    .dataframe tbody tr th:only-of-type {\n",
       "        vertical-align: middle;\n",
       "    }\n",
       "\n",
       "    .dataframe tbody tr th {\n",
       "        vertical-align: top;\n",
       "    }\n",
       "\n",
       "    .dataframe thead th {\n",
       "        text-align: right;\n",
       "    }\n",
       "</style>\n",
       "<table border=\"1\" class=\"dataframe\">\n",
       "  <thead>\n",
       "    <tr style=\"text-align: right;\">\n",
       "      <th></th>\n",
       "      <th>Youth ID</th>\n",
       "      <th>Sex</th>\n",
       "      <th>Entry_date</th>\n",
       "      <th>Current Age</th>\n",
       "      <th>Parent</th>\n",
       "      <th>PN</th>\n",
       "      <th>DL</th>\n",
       "      <th>SC</th>\n",
       "      <th>RC</th>\n",
       "      <th>H&amp;M</th>\n",
       "      <th>W&amp;S</th>\n",
       "      <th>C&amp;EP</th>\n",
       "      <th>LF</th>\n",
       "      <th>Total</th>\n",
       "      <th>Catagorical</th>\n",
       "      <th>Class</th>\n",
       "    </tr>\n",
       "  </thead>\n",
       "  <tbody>\n",
       "    <tr>\n",
       "      <th>0</th>\n",
       "      <td>1</td>\n",
       "      <td>1.0</td>\n",
       "      <td>2019-12-16</td>\n",
       "      <td>18.0</td>\n",
       "      <td>0.0</td>\n",
       "      <td>3.80</td>\n",
       "      <td>4.47</td>\n",
       "      <td>4.41</td>\n",
       "      <td>4.33</td>\n",
       "      <td>3.96</td>\n",
       "      <td>4.10</td>\n",
       "      <td>5.00</td>\n",
       "      <td>5.00</td>\n",
       "      <td>35.07</td>\n",
       "      <td>Good</td>\n",
       "      <td>1.0</td>\n",
       "    </tr>\n",
       "    <tr>\n",
       "      <th>1</th>\n",
       "      <td>2</td>\n",
       "      <td>1.0</td>\n",
       "      <td>2020-11-22</td>\n",
       "      <td>19.0</td>\n",
       "      <td>0.0</td>\n",
       "      <td>4.00</td>\n",
       "      <td>4.41</td>\n",
       "      <td>4.53</td>\n",
       "      <td>4.78</td>\n",
       "      <td>3.70</td>\n",
       "      <td>4.40</td>\n",
       "      <td>4.10</td>\n",
       "      <td>4.00</td>\n",
       "      <td>33.92</td>\n",
       "      <td>Good</td>\n",
       "      <td>1.0</td>\n",
       "    </tr>\n",
       "    <tr>\n",
       "      <th>2</th>\n",
       "      <td>3</td>\n",
       "      <td>1.0</td>\n",
       "      <td>2020-02-18</td>\n",
       "      <td>18.0</td>\n",
       "      <td>0.0</td>\n",
       "      <td>4.30</td>\n",
       "      <td>4.65</td>\n",
       "      <td>4.29</td>\n",
       "      <td>4.78</td>\n",
       "      <td>3.78</td>\n",
       "      <td>4.60</td>\n",
       "      <td>4.11</td>\n",
       "      <td>4.50</td>\n",
       "      <td>35.01</td>\n",
       "      <td>Bad</td>\n",
       "      <td>0.0</td>\n",
       "    </tr>\n",
       "    <tr>\n",
       "      <th>3</th>\n",
       "      <td>4</td>\n",
       "      <td>1.0</td>\n",
       "      <td>2020-04-07</td>\n",
       "      <td>18.0</td>\n",
       "      <td>0.0</td>\n",
       "      <td>3.55</td>\n",
       "      <td>2.24</td>\n",
       "      <td>2.71</td>\n",
       "      <td>3.83</td>\n",
       "      <td>2.09</td>\n",
       "      <td>2.70</td>\n",
       "      <td>2.11</td>\n",
       "      <td>3.25</td>\n",
       "      <td>22.48</td>\n",
       "      <td>Good</td>\n",
       "      <td>1.0</td>\n",
       "    </tr>\n",
       "    <tr>\n",
       "      <th>4</th>\n",
       "      <td>5</td>\n",
       "      <td>0.0</td>\n",
       "      <td>2020-06-30</td>\n",
       "      <td>18.0</td>\n",
       "      <td>1.0</td>\n",
       "      <td>4.90</td>\n",
       "      <td>4.71</td>\n",
       "      <td>4.76</td>\n",
       "      <td>4.83</td>\n",
       "      <td>3.35</td>\n",
       "      <td>4.65</td>\n",
       "      <td>4.78</td>\n",
       "      <td>5.00</td>\n",
       "      <td>36.98</td>\n",
       "      <td>Bad</td>\n",
       "      <td>0.0</td>\n",
       "    </tr>\n",
       "  </tbody>\n",
       "</table>\n",
       "</div>"
      ],
      "text/plain": [
       "  Youth ID  Sex  Entry_date  Current Age  Parent    PN    DL    SC    RC  \\\n",
       "0        1  1.0  2019-12-16         18.0     0.0  3.80  4.47  4.41  4.33   \n",
       "1        2  1.0  2020-11-22         19.0     0.0  4.00  4.41  4.53  4.78   \n",
       "2        3  1.0  2020-02-18         18.0     0.0  4.30  4.65  4.29  4.78   \n",
       "3        4  1.0  2020-04-07         18.0     0.0  3.55  2.24  2.71  3.83   \n",
       "4        5  0.0  2020-06-30         18.0     1.0  4.90  4.71  4.76  4.83   \n",
       "\n",
       "    H&M   W&S  C&EP    LF  Total Catagorical   Class  \n",
       "0  3.96  4.10  5.00  5.00  35.07         Good    1.0  \n",
       "1  3.70  4.40  4.10  4.00  33.92         Good    1.0  \n",
       "2  3.78  4.60  4.11  4.50  35.01          Bad    0.0  \n",
       "3  2.09  2.70  2.11  3.25  22.48         Good    1.0  \n",
       "4  3.35  4.65  4.78  5.00  36.98          Bad    0.0  "
      ]
     },
     "execution_count": 6,
     "metadata": {},
     "output_type": "execute_result"
    }
   ],
   "source": [
    "#Renaming the column names\n",
    "thp_df1 = thp_df1.rename(columns={'Gender':'Sex',\"Permanency/Navigating Wellfare Sys\": \"PN\", 'Daily Living ': \"DL\" , \"Self Care\":\"SC\", \"Relationships & Communication\" : \"RC\", \n",
    "                                  'Housing & Money Management ':\"H&M\", 'Work & Study Life ': \"W&S\", \n",
    "                                  \"Career & Education Planning\": \"C&EP\", \"Looking Forward\": \"LF\", 'Result Score ': \"Class\"})\n",
    "thp_df1.head()"
   ]
  },
  {
   "cell_type": "code",
   "execution_count": 7,
   "id": "4a9ea5f9-1019-4da9-b170-8bd4bbe2f2f0",
   "metadata": {},
   "outputs": [
    {
     "data": {
      "text/plain": [
       "Youth ID        20\n",
       "Sex             20\n",
       "Entry_date      20\n",
       "Current Age     20\n",
       "Parent          20\n",
       "PN              20\n",
       "DL              20\n",
       "SC              20\n",
       "RC              20\n",
       "H&M             20\n",
       "W&S             20\n",
       "C&EP            20\n",
       "LF              20\n",
       "Total           20\n",
       "Catagorical     20\n",
       "Class           20\n",
       "dtype: int64"
      ]
     },
     "execution_count": 7,
     "metadata": {},
     "output_type": "execute_result"
    }
   ],
   "source": [
    "# Dropping the missing values. df.count()\n",
    "thp_df1 = thp_df1.dropna()\n",
    "thp_df1.count()   "
   ]
  },
  {
   "cell_type": "code",
   "execution_count": 8,
   "id": "0e055eaf-f5b7-411c-993c-399875091635",
   "metadata": {},
   "outputs": [
    {
     "name": "stdout",
     "output_type": "stream",
     "text": [
      "Youth ID        0\n",
      "Sex             0\n",
      "Entry_date      0\n",
      "Current Age     0\n",
      "Parent          0\n",
      "PN              0\n",
      "DL              0\n",
      "SC              0\n",
      "RC              0\n",
      "H&M             0\n",
      "W&S             0\n",
      "C&EP            0\n",
      "LF              0\n",
      "Total           0\n",
      "Catagorical     0\n",
      "Class           0\n",
      "dtype: int64\n"
     ]
    }
   ],
   "source": [
    "#After Dropping the Values \n",
    "print(thp_df1.isnull().sum())"
   ]
  },
  {
   "cell_type": "code",
   "execution_count": 9,
   "id": "0e771f8c-9f32-48bb-8470-569d06147c3a",
   "metadata": {},
   "outputs": [
    {
     "data": {
      "text/plain": [
       "Index(['Youth ID', 'Sex', 'Entry_date', 'Current Age', 'Parent', 'PN', 'DL',\n",
       "       'SC', 'RC', 'H&M', 'W&S', 'C&EP', 'LF', 'Total', 'Catagorical ',\n",
       "       'Class'],\n",
       "      dtype='object')"
      ]
     },
     "execution_count": 9,
     "metadata": {},
     "output_type": "execute_result"
    }
   ],
   "source": [
    "thp_df1.columns"
   ]
  },
  {
   "cell_type": "code",
   "execution_count": 10,
   "id": "b05dd38e-93ff-4bb2-9e2e-26c4cf3535b3",
   "metadata": {
    "tags": []
   },
   "outputs": [
    {
     "data": {
      "text/html": [
       "<div>\n",
       "<style scoped>\n",
       "    .dataframe tbody tr th:only-of-type {\n",
       "        vertical-align: middle;\n",
       "    }\n",
       "\n",
       "    .dataframe tbody tr th {\n",
       "        vertical-align: top;\n",
       "    }\n",
       "\n",
       "    .dataframe thead th {\n",
       "        text-align: right;\n",
       "    }\n",
       "</style>\n",
       "<table border=\"1\" class=\"dataframe\">\n",
       "  <thead>\n",
       "    <tr style=\"text-align: right;\">\n",
       "      <th></th>\n",
       "      <th>Youth ID</th>\n",
       "      <th>Sex</th>\n",
       "      <th>Entry_date</th>\n",
       "      <th>Current Age</th>\n",
       "      <th>Parent</th>\n",
       "      <th>PN</th>\n",
       "      <th>DL</th>\n",
       "      <th>SC</th>\n",
       "      <th>RC</th>\n",
       "      <th>H&amp;M</th>\n",
       "      <th>...</th>\n",
       "      <th>Catagorical</th>\n",
       "      <th>Class</th>\n",
       "      <th>median</th>\n",
       "      <th>mean</th>\n",
       "      <th>std</th>\n",
       "      <th>var</th>\n",
       "      <th>max</th>\n",
       "      <th>min</th>\n",
       "      <th>sum</th>\n",
       "      <th>quantile</th>\n",
       "    </tr>\n",
       "  </thead>\n",
       "  <tbody>\n",
       "    <tr>\n",
       "      <th>0</th>\n",
       "      <td>1</td>\n",
       "      <td>1.0</td>\n",
       "      <td>2019-12-16</td>\n",
       "      <td>18.0</td>\n",
       "      <td>0.0</td>\n",
       "      <td>3.80</td>\n",
       "      <td>4.47</td>\n",
       "      <td>4.41</td>\n",
       "      <td>4.33</td>\n",
       "      <td>3.96</td>\n",
       "      <td>...</td>\n",
       "      <td>Good</td>\n",
       "      <td>1.0</td>\n",
       "      <td>4.370</td>\n",
       "      <td>4.38375</td>\n",
       "      <td>0.442620</td>\n",
       "      <td>0.195913</td>\n",
       "      <td>5.00</td>\n",
       "      <td>3.80</td>\n",
       "      <td>35.07</td>\n",
       "      <td>4.370</td>\n",
       "    </tr>\n",
       "    <tr>\n",
       "      <th>1</th>\n",
       "      <td>2</td>\n",
       "      <td>1.0</td>\n",
       "      <td>2020-11-22</td>\n",
       "      <td>19.0</td>\n",
       "      <td>0.0</td>\n",
       "      <td>4.00</td>\n",
       "      <td>4.41</td>\n",
       "      <td>4.53</td>\n",
       "      <td>4.78</td>\n",
       "      <td>3.70</td>\n",
       "      <td>...</td>\n",
       "      <td>Good</td>\n",
       "      <td>1.0</td>\n",
       "      <td>4.250</td>\n",
       "      <td>4.24000</td>\n",
       "      <td>0.349816</td>\n",
       "      <td>0.122371</td>\n",
       "      <td>4.78</td>\n",
       "      <td>3.70</td>\n",
       "      <td>33.92</td>\n",
       "      <td>4.250</td>\n",
       "    </tr>\n",
       "    <tr>\n",
       "      <th>2</th>\n",
       "      <td>3</td>\n",
       "      <td>1.0</td>\n",
       "      <td>2020-02-18</td>\n",
       "      <td>18.0</td>\n",
       "      <td>0.0</td>\n",
       "      <td>4.30</td>\n",
       "      <td>4.65</td>\n",
       "      <td>4.29</td>\n",
       "      <td>4.78</td>\n",
       "      <td>3.78</td>\n",
       "      <td>...</td>\n",
       "      <td>Bad</td>\n",
       "      <td>0.0</td>\n",
       "      <td>4.400</td>\n",
       "      <td>4.37625</td>\n",
       "      <td>0.325793</td>\n",
       "      <td>0.106141</td>\n",
       "      <td>4.78</td>\n",
       "      <td>3.78</td>\n",
       "      <td>35.01</td>\n",
       "      <td>4.400</td>\n",
       "    </tr>\n",
       "    <tr>\n",
       "      <th>3</th>\n",
       "      <td>4</td>\n",
       "      <td>1.0</td>\n",
       "      <td>2020-04-07</td>\n",
       "      <td>18.0</td>\n",
       "      <td>0.0</td>\n",
       "      <td>3.55</td>\n",
       "      <td>2.24</td>\n",
       "      <td>2.71</td>\n",
       "      <td>3.83</td>\n",
       "      <td>2.09</td>\n",
       "      <td>...</td>\n",
       "      <td>Good</td>\n",
       "      <td>1.0</td>\n",
       "      <td>2.705</td>\n",
       "      <td>2.81000</td>\n",
       "      <td>0.669435</td>\n",
       "      <td>0.448143</td>\n",
       "      <td>3.83</td>\n",
       "      <td>2.09</td>\n",
       "      <td>22.48</td>\n",
       "      <td>2.705</td>\n",
       "    </tr>\n",
       "    <tr>\n",
       "      <th>4</th>\n",
       "      <td>5</td>\n",
       "      <td>0.0</td>\n",
       "      <td>2020-06-30</td>\n",
       "      <td>18.0</td>\n",
       "      <td>1.0</td>\n",
       "      <td>4.90</td>\n",
       "      <td>4.71</td>\n",
       "      <td>4.76</td>\n",
       "      <td>4.83</td>\n",
       "      <td>3.35</td>\n",
       "      <td>...</td>\n",
       "      <td>Bad</td>\n",
       "      <td>0.0</td>\n",
       "      <td>4.770</td>\n",
       "      <td>4.62250</td>\n",
       "      <td>0.525622</td>\n",
       "      <td>0.276279</td>\n",
       "      <td>5.00</td>\n",
       "      <td>3.35</td>\n",
       "      <td>36.98</td>\n",
       "      <td>4.770</td>\n",
       "    </tr>\n",
       "  </tbody>\n",
       "</table>\n",
       "<p>5 rows × 24 columns</p>\n",
       "</div>"
      ],
      "text/plain": [
       "  Youth ID  Sex  Entry_date  Current Age  Parent    PN    DL    SC    RC  \\\n",
       "0        1  1.0  2019-12-16         18.0     0.0  3.80  4.47  4.41  4.33   \n",
       "1        2  1.0  2020-11-22         19.0     0.0  4.00  4.41  4.53  4.78   \n",
       "2        3  1.0  2020-02-18         18.0     0.0  4.30  4.65  4.29  4.78   \n",
       "3        4  1.0  2020-04-07         18.0     0.0  3.55  2.24  2.71  3.83   \n",
       "4        5  0.0  2020-06-30         18.0     1.0  4.90  4.71  4.76  4.83   \n",
       "\n",
       "    H&M  ...  Catagorical   Class  median     mean       std       var   max  \\\n",
       "0  3.96  ...          Good    1.0   4.370  4.38375  0.442620  0.195913  5.00   \n",
       "1  3.70  ...          Good    1.0   4.250  4.24000  0.349816  0.122371  4.78   \n",
       "2  3.78  ...           Bad    0.0   4.400  4.37625  0.325793  0.106141  4.78   \n",
       "3  2.09  ...          Good    1.0   2.705  2.81000  0.669435  0.448143  3.83   \n",
       "4  3.35  ...           Bad    0.0   4.770  4.62250  0.525622  0.276279  5.00   \n",
       "\n",
       "    min    sum  quantile  \n",
       "0  3.80  35.07     4.370  \n",
       "1  3.70  33.92     4.250  \n",
       "2  3.78  35.01     4.400  \n",
       "3  2.09  22.48     2.705  \n",
       "4  3.35  36.98     4.770  \n",
       "\n",
       "[5 rows x 24 columns]"
      ]
     },
     "execution_count": 10,
     "metadata": {},
     "output_type": "execute_result"
    }
   ],
   "source": [
    "#Adding Statistical measure columns to df\n",
    "thp_df1['median'] = thp_df1[['PN', 'DL','SC', 'RC', 'H&M', 'W&S', 'C&EP', 'LF']].median(axis=1)\n",
    "thp_df1['mean'] = thp_df1[['PN', 'DL','SC', 'RC', 'H&M', 'W&S', 'C&EP', 'LF']].mean(axis=1)\n",
    "thp_df1['std'] = thp_df1[['PN', 'DL','SC', 'RC', 'H&M', 'W&S', 'C&EP', 'LF']].std(axis=1)\n",
    "thp_df1['var'] = thp_df1[['PN', 'DL','SC', 'RC', 'H&M', 'W&S', 'C&EP', 'LF']].var(axis=1)\n",
    "thp_df1['max'] = thp_df1[['PN', 'DL','SC', 'RC', 'H&M', 'W&S', 'C&EP', 'LF']].max(axis=1)\n",
    "thp_df1['min'] = thp_df1[['PN', 'DL','SC', 'RC', 'H&M', 'W&S', 'C&EP', 'LF']].min(axis=1)\n",
    "thp_df1['sum'] = thp_df1[['PN', 'DL','SC', 'RC', 'H&M', 'W&S', 'C&EP', 'LF']].sum(axis=1)\n",
    "thp_df1['quantile'] = thp_df1[['PN', 'DL','SC', 'RC', 'H&M', 'W&S', 'C&EP', 'LF']].quantile(axis=1)\n",
    "\n",
    "thp_df1.head()"
   ]
  },
  {
   "cell_type": "code",
   "execution_count": 11,
   "id": "2277c14d-9beb-4736-a212-67d93af28bd8",
   "metadata": {},
   "outputs": [
    {
     "data": {
      "text/html": [
       "<div>\n",
       "<style scoped>\n",
       "    .dataframe tbody tr th:only-of-type {\n",
       "        vertical-align: middle;\n",
       "    }\n",
       "\n",
       "    .dataframe tbody tr th {\n",
       "        vertical-align: top;\n",
       "    }\n",
       "\n",
       "    .dataframe thead th {\n",
       "        text-align: right;\n",
       "    }\n",
       "</style>\n",
       "<table border=\"1\" class=\"dataframe\">\n",
       "  <thead>\n",
       "    <tr style=\"text-align: right;\">\n",
       "      <th></th>\n",
       "      <th>Youth ID</th>\n",
       "      <th>Sex</th>\n",
       "      <th>Entry_date</th>\n",
       "      <th>Current Age</th>\n",
       "      <th>Parent</th>\n",
       "      <th>PN</th>\n",
       "      <th>DL</th>\n",
       "      <th>SC</th>\n",
       "      <th>RC</th>\n",
       "      <th>H&amp;M</th>\n",
       "      <th>...</th>\n",
       "      <th>Catagorical</th>\n",
       "      <th>Class</th>\n",
       "      <th>median</th>\n",
       "      <th>mean</th>\n",
       "      <th>std</th>\n",
       "      <th>var</th>\n",
       "      <th>max</th>\n",
       "      <th>min</th>\n",
       "      <th>sum</th>\n",
       "      <th>quantile</th>\n",
       "    </tr>\n",
       "  </thead>\n",
       "  <tbody>\n",
       "    <tr>\n",
       "      <th>15</th>\n",
       "      <td>16</td>\n",
       "      <td>0.0</td>\n",
       "      <td>2019-06-13</td>\n",
       "      <td>18.0</td>\n",
       "      <td>0.0</td>\n",
       "      <td>4.95</td>\n",
       "      <td>5.00</td>\n",
       "      <td>4.94</td>\n",
       "      <td>4.94</td>\n",
       "      <td>4.91</td>\n",
       "      <td>...</td>\n",
       "      <td>Good</td>\n",
       "      <td>1.0</td>\n",
       "      <td>4.975</td>\n",
       "      <td>4.96750</td>\n",
       "      <td>0.036547</td>\n",
       "      <td>0.001336</td>\n",
       "      <td>5.0</td>\n",
       "      <td>4.91</td>\n",
       "      <td>39.74</td>\n",
       "      <td>4.975</td>\n",
       "    </tr>\n",
       "    <tr>\n",
       "      <th>16</th>\n",
       "      <td>17</td>\n",
       "      <td>1.0</td>\n",
       "      <td>2022-03-08</td>\n",
       "      <td>20.0</td>\n",
       "      <td>0.0</td>\n",
       "      <td>3.60</td>\n",
       "      <td>4.65</td>\n",
       "      <td>3.94</td>\n",
       "      <td>4.22</td>\n",
       "      <td>3.57</td>\n",
       "      <td>...</td>\n",
       "      <td>Good</td>\n",
       "      <td>1.0</td>\n",
       "      <td>4.020</td>\n",
       "      <td>3.99875</td>\n",
       "      <td>0.568392</td>\n",
       "      <td>0.323070</td>\n",
       "      <td>4.8</td>\n",
       "      <td>3.11</td>\n",
       "      <td>31.99</td>\n",
       "      <td>4.020</td>\n",
       "    </tr>\n",
       "    <tr>\n",
       "      <th>17</th>\n",
       "      <td>18</td>\n",
       "      <td>1.0</td>\n",
       "      <td>2022-07-26</td>\n",
       "      <td>18.0</td>\n",
       "      <td>0.0</td>\n",
       "      <td>5.00</td>\n",
       "      <td>5.00</td>\n",
       "      <td>5.00</td>\n",
       "      <td>5.00</td>\n",
       "      <td>5.00</td>\n",
       "      <td>...</td>\n",
       "      <td>Bad</td>\n",
       "      <td>0.0</td>\n",
       "      <td>5.000</td>\n",
       "      <td>5.00000</td>\n",
       "      <td>0.000000</td>\n",
       "      <td>0.000000</td>\n",
       "      <td>5.0</td>\n",
       "      <td>5.00</td>\n",
       "      <td>40.00</td>\n",
       "      <td>5.000</td>\n",
       "    </tr>\n",
       "    <tr>\n",
       "      <th>18</th>\n",
       "      <td>19</td>\n",
       "      <td>0.0</td>\n",
       "      <td>2022-05-26</td>\n",
       "      <td>19.0</td>\n",
       "      <td>0.0</td>\n",
       "      <td>3.40</td>\n",
       "      <td>4.72</td>\n",
       "      <td>4.78</td>\n",
       "      <td>5.00</td>\n",
       "      <td>4.10</td>\n",
       "      <td>...</td>\n",
       "      <td>Good</td>\n",
       "      <td>1.0</td>\n",
       "      <td>4.640</td>\n",
       "      <td>4.34000</td>\n",
       "      <td>0.622438</td>\n",
       "      <td>0.387429</td>\n",
       "      <td>5.0</td>\n",
       "      <td>3.40</td>\n",
       "      <td>34.72</td>\n",
       "      <td>4.640</td>\n",
       "    </tr>\n",
       "    <tr>\n",
       "      <th>19</th>\n",
       "      <td>20</td>\n",
       "      <td>1.0</td>\n",
       "      <td>2020-06-11</td>\n",
       "      <td>18.0</td>\n",
       "      <td>0.0</td>\n",
       "      <td>5.00</td>\n",
       "      <td>5.00</td>\n",
       "      <td>5.00</td>\n",
       "      <td>5.00</td>\n",
       "      <td>5.00</td>\n",
       "      <td>...</td>\n",
       "      <td>Bad</td>\n",
       "      <td>0.0</td>\n",
       "      <td>5.000</td>\n",
       "      <td>5.00000</td>\n",
       "      <td>0.000000</td>\n",
       "      <td>0.000000</td>\n",
       "      <td>5.0</td>\n",
       "      <td>5.00</td>\n",
       "      <td>40.00</td>\n",
       "      <td>5.000</td>\n",
       "    </tr>\n",
       "  </tbody>\n",
       "</table>\n",
       "<p>5 rows × 24 columns</p>\n",
       "</div>"
      ],
      "text/plain": [
       "   Youth ID  Sex  Entry_date  Current Age  Parent    PN    DL    SC    RC  \\\n",
       "15       16  0.0  2019-06-13         18.0     0.0  4.95  5.00  4.94  4.94   \n",
       "16       17  1.0  2022-03-08         20.0     0.0  3.60  4.65  3.94  4.22   \n",
       "17       18  1.0  2022-07-26         18.0     0.0  5.00  5.00  5.00  5.00   \n",
       "18       19  0.0  2022-05-26         19.0     0.0  3.40  4.72  4.78  5.00   \n",
       "19       20  1.0  2020-06-11         18.0     0.0  5.00  5.00  5.00  5.00   \n",
       "\n",
       "     H&M  ...  Catagorical   Class  median     mean       std       var  max  \\\n",
       "15  4.91  ...          Good    1.0   4.975  4.96750  0.036547  0.001336  5.0   \n",
       "16  3.57  ...          Good    1.0   4.020  3.99875  0.568392  0.323070  4.8   \n",
       "17  5.00  ...           Bad    0.0   5.000  5.00000  0.000000  0.000000  5.0   \n",
       "18  4.10  ...          Good    1.0   4.640  4.34000  0.622438  0.387429  5.0   \n",
       "19  5.00  ...           Bad    0.0   5.000  5.00000  0.000000  0.000000  5.0   \n",
       "\n",
       "     min    sum  quantile  \n",
       "15  4.91  39.74     4.975  \n",
       "16  3.11  31.99     4.020  \n",
       "17  5.00  40.00     5.000  \n",
       "18  3.40  34.72     4.640  \n",
       "19  5.00  40.00     5.000  \n",
       "\n",
       "[5 rows x 24 columns]"
      ]
     },
     "execution_count": 11,
     "metadata": {},
     "output_type": "execute_result"
    }
   ],
   "source": [
    "thp_df1.tail()\n"
   ]
  },
  {
   "cell_type": "code",
   "execution_count": 12,
   "id": "0d1445f0-b11a-462c-ba28-8b112d541d16",
   "metadata": {},
   "outputs": [
    {
     "data": {
      "text/plain": [
       "Index(['Youth ID', 'Sex', 'Entry_date', 'Current Age', 'Parent', 'PN', 'DL',\n",
       "       'SC', 'RC', 'H&M', 'W&S', 'C&EP', 'LF', 'Total', 'Catagorical ',\n",
       "       'Class', 'median', 'mean', 'std', 'var', 'max', 'min', 'sum',\n",
       "       'quantile'],\n",
       "      dtype='object')"
      ]
     },
     "execution_count": 12,
     "metadata": {},
     "output_type": "execute_result"
    }
   ],
   "source": [
    "thp_df1.columns"
   ]
  },
  {
   "cell_type": "code",
   "execution_count": 13,
   "id": "7afb8a69-a9fd-4efa-8b94-62837eafb815",
   "metadata": {},
   "outputs": [
    {
     "data": {
      "text/html": [
       "<div>\n",
       "<style scoped>\n",
       "    .dataframe tbody tr th:only-of-type {\n",
       "        vertical-align: middle;\n",
       "    }\n",
       "\n",
       "    .dataframe tbody tr th {\n",
       "        vertical-align: top;\n",
       "    }\n",
       "\n",
       "    .dataframe thead th {\n",
       "        text-align: right;\n",
       "    }\n",
       "</style>\n",
       "<table border=\"1\" class=\"dataframe\">\n",
       "  <thead>\n",
       "    <tr style=\"text-align: right;\">\n",
       "      <th></th>\n",
       "      <th>Youth ID</th>\n",
       "      <th>Sex</th>\n",
       "      <th>Entry_date</th>\n",
       "      <th>Current Age</th>\n",
       "      <th>Parent</th>\n",
       "      <th>PN</th>\n",
       "      <th>DL</th>\n",
       "      <th>SC</th>\n",
       "      <th>RC</th>\n",
       "      <th>H&amp;M</th>\n",
       "      <th>...</th>\n",
       "      <th>median</th>\n",
       "      <th>mean</th>\n",
       "      <th>std</th>\n",
       "      <th>var</th>\n",
       "      <th>max</th>\n",
       "      <th>min</th>\n",
       "      <th>sum</th>\n",
       "      <th>quantile</th>\n",
       "      <th>Catagorical</th>\n",
       "      <th>Class</th>\n",
       "    </tr>\n",
       "  </thead>\n",
       "  <tbody>\n",
       "    <tr>\n",
       "      <th>15</th>\n",
       "      <td>16</td>\n",
       "      <td>0.0</td>\n",
       "      <td>2019-06-13</td>\n",
       "      <td>18.0</td>\n",
       "      <td>0.0</td>\n",
       "      <td>4.95</td>\n",
       "      <td>5.00</td>\n",
       "      <td>4.94</td>\n",
       "      <td>4.94</td>\n",
       "      <td>4.91</td>\n",
       "      <td>...</td>\n",
       "      <td>4.975</td>\n",
       "      <td>4.96750</td>\n",
       "      <td>0.036547</td>\n",
       "      <td>0.001336</td>\n",
       "      <td>5.0</td>\n",
       "      <td>4.91</td>\n",
       "      <td>39.74</td>\n",
       "      <td>4.975</td>\n",
       "      <td>Good</td>\n",
       "      <td>1.0</td>\n",
       "    </tr>\n",
       "    <tr>\n",
       "      <th>16</th>\n",
       "      <td>17</td>\n",
       "      <td>1.0</td>\n",
       "      <td>2022-03-08</td>\n",
       "      <td>20.0</td>\n",
       "      <td>0.0</td>\n",
       "      <td>3.60</td>\n",
       "      <td>4.65</td>\n",
       "      <td>3.94</td>\n",
       "      <td>4.22</td>\n",
       "      <td>3.57</td>\n",
       "      <td>...</td>\n",
       "      <td>4.020</td>\n",
       "      <td>3.99875</td>\n",
       "      <td>0.568392</td>\n",
       "      <td>0.323070</td>\n",
       "      <td>4.8</td>\n",
       "      <td>3.11</td>\n",
       "      <td>31.99</td>\n",
       "      <td>4.020</td>\n",
       "      <td>Good</td>\n",
       "      <td>1.0</td>\n",
       "    </tr>\n",
       "    <tr>\n",
       "      <th>17</th>\n",
       "      <td>18</td>\n",
       "      <td>1.0</td>\n",
       "      <td>2022-07-26</td>\n",
       "      <td>18.0</td>\n",
       "      <td>0.0</td>\n",
       "      <td>5.00</td>\n",
       "      <td>5.00</td>\n",
       "      <td>5.00</td>\n",
       "      <td>5.00</td>\n",
       "      <td>5.00</td>\n",
       "      <td>...</td>\n",
       "      <td>5.000</td>\n",
       "      <td>5.00000</td>\n",
       "      <td>0.000000</td>\n",
       "      <td>0.000000</td>\n",
       "      <td>5.0</td>\n",
       "      <td>5.00</td>\n",
       "      <td>40.00</td>\n",
       "      <td>5.000</td>\n",
       "      <td>Bad</td>\n",
       "      <td>0.0</td>\n",
       "    </tr>\n",
       "    <tr>\n",
       "      <th>18</th>\n",
       "      <td>19</td>\n",
       "      <td>0.0</td>\n",
       "      <td>2022-05-26</td>\n",
       "      <td>19.0</td>\n",
       "      <td>0.0</td>\n",
       "      <td>3.40</td>\n",
       "      <td>4.72</td>\n",
       "      <td>4.78</td>\n",
       "      <td>5.00</td>\n",
       "      <td>4.10</td>\n",
       "      <td>...</td>\n",
       "      <td>4.640</td>\n",
       "      <td>4.34000</td>\n",
       "      <td>0.622438</td>\n",
       "      <td>0.387429</td>\n",
       "      <td>5.0</td>\n",
       "      <td>3.40</td>\n",
       "      <td>34.72</td>\n",
       "      <td>4.640</td>\n",
       "      <td>Good</td>\n",
       "      <td>1.0</td>\n",
       "    </tr>\n",
       "    <tr>\n",
       "      <th>19</th>\n",
       "      <td>20</td>\n",
       "      <td>1.0</td>\n",
       "      <td>2020-06-11</td>\n",
       "      <td>18.0</td>\n",
       "      <td>0.0</td>\n",
       "      <td>5.00</td>\n",
       "      <td>5.00</td>\n",
       "      <td>5.00</td>\n",
       "      <td>5.00</td>\n",
       "      <td>5.00</td>\n",
       "      <td>...</td>\n",
       "      <td>5.000</td>\n",
       "      <td>5.00000</td>\n",
       "      <td>0.000000</td>\n",
       "      <td>0.000000</td>\n",
       "      <td>5.0</td>\n",
       "      <td>5.00</td>\n",
       "      <td>40.00</td>\n",
       "      <td>5.000</td>\n",
       "      <td>Bad</td>\n",
       "      <td>0.0</td>\n",
       "    </tr>\n",
       "  </tbody>\n",
       "</table>\n",
       "<p>5 rows × 24 columns</p>\n",
       "</div>"
      ],
      "text/plain": [
       "   Youth ID  Sex  Entry_date  Current Age  Parent    PN    DL    SC    RC  \\\n",
       "15       16  0.0  2019-06-13         18.0     0.0  4.95  5.00  4.94  4.94   \n",
       "16       17  1.0  2022-03-08         20.0     0.0  3.60  4.65  3.94  4.22   \n",
       "17       18  1.0  2022-07-26         18.0     0.0  5.00  5.00  5.00  5.00   \n",
       "18       19  0.0  2022-05-26         19.0     0.0  3.40  4.72  4.78  5.00   \n",
       "19       20  1.0  2020-06-11         18.0     0.0  5.00  5.00  5.00  5.00   \n",
       "\n",
       "     H&M  ...  median     mean       std       var  max   min    sum  \\\n",
       "15  4.91  ...   4.975  4.96750  0.036547  0.001336  5.0  4.91  39.74   \n",
       "16  3.57  ...   4.020  3.99875  0.568392  0.323070  4.8  3.11  31.99   \n",
       "17  5.00  ...   5.000  5.00000  0.000000  0.000000  5.0  5.00  40.00   \n",
       "18  4.10  ...   4.640  4.34000  0.622438  0.387429  5.0  3.40  34.72   \n",
       "19  5.00  ...   5.000  5.00000  0.000000  0.000000  5.0  5.00  40.00   \n",
       "\n",
       "    quantile  Catagorical   Class  \n",
       "15     4.975          Good    1.0  \n",
       "16     4.020          Good    1.0  \n",
       "17     5.000           Bad    0.0  \n",
       "18     4.640          Good    1.0  \n",
       "19     5.000           Bad    0.0  \n",
       "\n",
       "[5 rows x 24 columns]"
      ]
     },
     "execution_count": 13,
     "metadata": {},
     "output_type": "execute_result"
    }
   ],
   "source": [
    "#reorder columns in df again!\n",
    "thp_re = thp_df1.reindex(['Youth ID', 'Sex', 'Entry_date', 'Current Age', 'Parent', 'PN', 'DL',\n",
    "       'SC', 'RC', 'H&M', 'W&S', 'C&EP', 'LF', 'Total','median',\n",
    "       'mean', 'std', 'var', 'max', 'min', 'sum', 'quantile','Catagorical ','Class'], axis=1)\n",
    "thp_re.tail()"
   ]
  },
  {
   "cell_type": "code",
   "execution_count": 14,
   "id": "fec440f2-c260-49bd-9427-bfe14d8169b2",
   "metadata": {
    "tags": []
   },
   "outputs": [
    {
     "data": {
      "text/html": [
       "<div>\n",
       "<style scoped>\n",
       "    .dataframe tbody tr th:only-of-type {\n",
       "        vertical-align: middle;\n",
       "    }\n",
       "\n",
       "    .dataframe tbody tr th {\n",
       "        vertical-align: top;\n",
       "    }\n",
       "\n",
       "    .dataframe thead th {\n",
       "        text-align: right;\n",
       "    }\n",
       "</style>\n",
       "<table border=\"1\" class=\"dataframe\">\n",
       "  <thead>\n",
       "    <tr style=\"text-align: right;\">\n",
       "      <th></th>\n",
       "      <th>Youth ID</th>\n",
       "      <th>Sex</th>\n",
       "      <th>Current Age</th>\n",
       "      <th>Parent</th>\n",
       "      <th>PN</th>\n",
       "      <th>DL</th>\n",
       "      <th>SC</th>\n",
       "      <th>RC</th>\n",
       "      <th>H&amp;M</th>\n",
       "      <th>W&amp;S</th>\n",
       "      <th>...</th>\n",
       "      <th>LF</th>\n",
       "      <th>median</th>\n",
       "      <th>mean</th>\n",
       "      <th>std</th>\n",
       "      <th>var</th>\n",
       "      <th>max</th>\n",
       "      <th>min</th>\n",
       "      <th>sum</th>\n",
       "      <th>quantile</th>\n",
       "      <th>Catagorical</th>\n",
       "    </tr>\n",
       "  </thead>\n",
       "  <tbody>\n",
       "    <tr>\n",
       "      <th>0</th>\n",
       "      <td>1</td>\n",
       "      <td>1.0</td>\n",
       "      <td>18.0</td>\n",
       "      <td>0.0</td>\n",
       "      <td>3.80</td>\n",
       "      <td>4.47</td>\n",
       "      <td>4.41</td>\n",
       "      <td>4.33</td>\n",
       "      <td>3.96</td>\n",
       "      <td>4.10</td>\n",
       "      <td>...</td>\n",
       "      <td>5.00</td>\n",
       "      <td>4.370</td>\n",
       "      <td>4.38375</td>\n",
       "      <td>0.442620</td>\n",
       "      <td>0.195913</td>\n",
       "      <td>5.00</td>\n",
       "      <td>3.80</td>\n",
       "      <td>35.07</td>\n",
       "      <td>4.370</td>\n",
       "      <td>Good</td>\n",
       "    </tr>\n",
       "    <tr>\n",
       "      <th>1</th>\n",
       "      <td>2</td>\n",
       "      <td>1.0</td>\n",
       "      <td>19.0</td>\n",
       "      <td>0.0</td>\n",
       "      <td>4.00</td>\n",
       "      <td>4.41</td>\n",
       "      <td>4.53</td>\n",
       "      <td>4.78</td>\n",
       "      <td>3.70</td>\n",
       "      <td>4.40</td>\n",
       "      <td>...</td>\n",
       "      <td>4.00</td>\n",
       "      <td>4.250</td>\n",
       "      <td>4.24000</td>\n",
       "      <td>0.349816</td>\n",
       "      <td>0.122371</td>\n",
       "      <td>4.78</td>\n",
       "      <td>3.70</td>\n",
       "      <td>33.92</td>\n",
       "      <td>4.250</td>\n",
       "      <td>Good</td>\n",
       "    </tr>\n",
       "    <tr>\n",
       "      <th>2</th>\n",
       "      <td>3</td>\n",
       "      <td>1.0</td>\n",
       "      <td>18.0</td>\n",
       "      <td>0.0</td>\n",
       "      <td>4.30</td>\n",
       "      <td>4.65</td>\n",
       "      <td>4.29</td>\n",
       "      <td>4.78</td>\n",
       "      <td>3.78</td>\n",
       "      <td>4.60</td>\n",
       "      <td>...</td>\n",
       "      <td>4.50</td>\n",
       "      <td>4.400</td>\n",
       "      <td>4.37625</td>\n",
       "      <td>0.325793</td>\n",
       "      <td>0.106141</td>\n",
       "      <td>4.78</td>\n",
       "      <td>3.78</td>\n",
       "      <td>35.01</td>\n",
       "      <td>4.400</td>\n",
       "      <td>Bad</td>\n",
       "    </tr>\n",
       "    <tr>\n",
       "      <th>3</th>\n",
       "      <td>4</td>\n",
       "      <td>1.0</td>\n",
       "      <td>18.0</td>\n",
       "      <td>0.0</td>\n",
       "      <td>3.55</td>\n",
       "      <td>2.24</td>\n",
       "      <td>2.71</td>\n",
       "      <td>3.83</td>\n",
       "      <td>2.09</td>\n",
       "      <td>2.70</td>\n",
       "      <td>...</td>\n",
       "      <td>3.25</td>\n",
       "      <td>2.705</td>\n",
       "      <td>2.81000</td>\n",
       "      <td>0.669435</td>\n",
       "      <td>0.448143</td>\n",
       "      <td>3.83</td>\n",
       "      <td>2.09</td>\n",
       "      <td>22.48</td>\n",
       "      <td>2.705</td>\n",
       "      <td>Good</td>\n",
       "    </tr>\n",
       "    <tr>\n",
       "      <th>4</th>\n",
       "      <td>5</td>\n",
       "      <td>0.0</td>\n",
       "      <td>18.0</td>\n",
       "      <td>1.0</td>\n",
       "      <td>4.90</td>\n",
       "      <td>4.71</td>\n",
       "      <td>4.76</td>\n",
       "      <td>4.83</td>\n",
       "      <td>3.35</td>\n",
       "      <td>4.65</td>\n",
       "      <td>...</td>\n",
       "      <td>5.00</td>\n",
       "      <td>4.770</td>\n",
       "      <td>4.62250</td>\n",
       "      <td>0.525622</td>\n",
       "      <td>0.276279</td>\n",
       "      <td>5.00</td>\n",
       "      <td>3.35</td>\n",
       "      <td>36.98</td>\n",
       "      <td>4.770</td>\n",
       "      <td>Bad</td>\n",
       "    </tr>\n",
       "  </tbody>\n",
       "</table>\n",
       "<p>5 rows × 21 columns</p>\n",
       "</div>"
      ],
      "text/plain": [
       "  Youth ID  Sex  Current Age  Parent    PN    DL    SC    RC   H&M   W&S  ...  \\\n",
       "0        1  1.0         18.0     0.0  3.80  4.47  4.41  4.33  3.96  4.10  ...   \n",
       "1        2  1.0         19.0     0.0  4.00  4.41  4.53  4.78  3.70  4.40  ...   \n",
       "2        3  1.0         18.0     0.0  4.30  4.65  4.29  4.78  3.78  4.60  ...   \n",
       "3        4  1.0         18.0     0.0  3.55  2.24  2.71  3.83  2.09  2.70  ...   \n",
       "4        5  0.0         18.0     1.0  4.90  4.71  4.76  4.83  3.35  4.65  ...   \n",
       "\n",
       "     LF  median     mean       std       var   max   min    sum  quantile  \\\n",
       "0  5.00   4.370  4.38375  0.442620  0.195913  5.00  3.80  35.07     4.370   \n",
       "1  4.00   4.250  4.24000  0.349816  0.122371  4.78  3.70  33.92     4.250   \n",
       "2  4.50   4.400  4.37625  0.325793  0.106141  4.78  3.78  35.01     4.400   \n",
       "3  3.25   2.705  2.81000  0.669435  0.448143  3.83  2.09  22.48     2.705   \n",
       "4  5.00   4.770  4.62250  0.525622  0.276279  5.00  3.35  36.98     4.770   \n",
       "\n",
       "   Catagorical   \n",
       "0          Good  \n",
       "1          Good  \n",
       "2           Bad  \n",
       "3          Good  \n",
       "4           Bad  \n",
       "\n",
       "[5 rows x 21 columns]"
      ]
     },
     "execution_count": 14,
     "metadata": {},
     "output_type": "execute_result"
    }
   ],
   "source": [
    " #Drop columns total and Entry date \n",
    "thp_re = thp_re.drop(['Entry_date'], axis=1)\n",
    "thp_re = thp_re.drop(['Total'], axis=1)\n",
    "thp_re = thp_re.drop(['Class'], axis=1) \n",
    "thp_re.head()"
   ]
  },
  {
   "cell_type": "code",
   "execution_count": 15,
   "id": "37adc22a-73cb-4d3d-bc6b-60fe6ba6f499",
   "metadata": {},
   "outputs": [
    {
     "data": {
      "text/html": [
       "<div>\n",
       "<style scoped>\n",
       "    .dataframe tbody tr th:only-of-type {\n",
       "        vertical-align: middle;\n",
       "    }\n",
       "\n",
       "    .dataframe tbody tr th {\n",
       "        vertical-align: top;\n",
       "    }\n",
       "\n",
       "    .dataframe thead th {\n",
       "        text-align: right;\n",
       "    }\n",
       "</style>\n",
       "<table border=\"1\" class=\"dataframe\">\n",
       "  <thead>\n",
       "    <tr style=\"text-align: right;\">\n",
       "      <th></th>\n",
       "      <th>Youth ID</th>\n",
       "      <th>Sex</th>\n",
       "      <th>Current Age</th>\n",
       "      <th>Parent</th>\n",
       "      <th>PN</th>\n",
       "      <th>DL</th>\n",
       "      <th>SC</th>\n",
       "      <th>RC</th>\n",
       "      <th>H&amp;M</th>\n",
       "      <th>W&amp;S</th>\n",
       "      <th>...</th>\n",
       "      <th>LF</th>\n",
       "      <th>median</th>\n",
       "      <th>mean</th>\n",
       "      <th>std</th>\n",
       "      <th>var</th>\n",
       "      <th>max</th>\n",
       "      <th>min</th>\n",
       "      <th>sum</th>\n",
       "      <th>quantile</th>\n",
       "      <th>Catagorical</th>\n",
       "    </tr>\n",
       "  </thead>\n",
       "  <tbody>\n",
       "    <tr>\n",
       "      <th>15</th>\n",
       "      <td>16</td>\n",
       "      <td>0.0</td>\n",
       "      <td>18.0</td>\n",
       "      <td>0.0</td>\n",
       "      <td>0.99</td>\n",
       "      <td>1.000</td>\n",
       "      <td>0.988</td>\n",
       "      <td>0.988</td>\n",
       "      <td>0.982</td>\n",
       "      <td>1.000</td>\n",
       "      <td>...</td>\n",
       "      <td>1.00</td>\n",
       "      <td>0.995</td>\n",
       "      <td>0.99350</td>\n",
       "      <td>0.054594</td>\n",
       "      <td>0.002981</td>\n",
       "      <td>1.00</td>\n",
       "      <td>0.982</td>\n",
       "      <td>0.99350</td>\n",
       "      <td>0.995</td>\n",
       "      <td>Good</td>\n",
       "    </tr>\n",
       "    <tr>\n",
       "      <th>16</th>\n",
       "      <td>17</td>\n",
       "      <td>1.0</td>\n",
       "      <td>20.0</td>\n",
       "      <td>0.0</td>\n",
       "      <td>0.72</td>\n",
       "      <td>0.930</td>\n",
       "      <td>0.788</td>\n",
       "      <td>0.844</td>\n",
       "      <td>0.714</td>\n",
       "      <td>0.820</td>\n",
       "      <td>...</td>\n",
       "      <td>0.96</td>\n",
       "      <td>0.804</td>\n",
       "      <td>0.79975</td>\n",
       "      <td>0.849063</td>\n",
       "      <td>0.720908</td>\n",
       "      <td>0.96</td>\n",
       "      <td>0.622</td>\n",
       "      <td>0.79975</td>\n",
       "      <td>0.804</td>\n",
       "      <td>Good</td>\n",
       "    </tr>\n",
       "    <tr>\n",
       "      <th>17</th>\n",
       "      <td>18</td>\n",
       "      <td>1.0</td>\n",
       "      <td>18.0</td>\n",
       "      <td>0.0</td>\n",
       "      <td>1.00</td>\n",
       "      <td>1.000</td>\n",
       "      <td>1.000</td>\n",
       "      <td>1.000</td>\n",
       "      <td>1.000</td>\n",
       "      <td>1.000</td>\n",
       "      <td>...</td>\n",
       "      <td>1.00</td>\n",
       "      <td>1.000</td>\n",
       "      <td>1.00000</td>\n",
       "      <td>0.000000</td>\n",
       "      <td>0.000000</td>\n",
       "      <td>1.00</td>\n",
       "      <td>1.000</td>\n",
       "      <td>1.00000</td>\n",
       "      <td>1.000</td>\n",
       "      <td>Bad</td>\n",
       "    </tr>\n",
       "    <tr>\n",
       "      <th>18</th>\n",
       "      <td>19</td>\n",
       "      <td>0.0</td>\n",
       "      <td>19.0</td>\n",
       "      <td>0.0</td>\n",
       "      <td>0.68</td>\n",
       "      <td>0.944</td>\n",
       "      <td>0.956</td>\n",
       "      <td>1.000</td>\n",
       "      <td>0.820</td>\n",
       "      <td>0.916</td>\n",
       "      <td>...</td>\n",
       "      <td>0.94</td>\n",
       "      <td>0.928</td>\n",
       "      <td>0.86800</td>\n",
       "      <td>0.929796</td>\n",
       "      <td>0.864520</td>\n",
       "      <td>1.00</td>\n",
       "      <td>0.680</td>\n",
       "      <td>0.86800</td>\n",
       "      <td>0.928</td>\n",
       "      <td>Good</td>\n",
       "    </tr>\n",
       "    <tr>\n",
       "      <th>19</th>\n",
       "      <td>20</td>\n",
       "      <td>1.0</td>\n",
       "      <td>18.0</td>\n",
       "      <td>0.0</td>\n",
       "      <td>1.00</td>\n",
       "      <td>1.000</td>\n",
       "      <td>1.000</td>\n",
       "      <td>1.000</td>\n",
       "      <td>1.000</td>\n",
       "      <td>1.000</td>\n",
       "      <td>...</td>\n",
       "      <td>1.00</td>\n",
       "      <td>1.000</td>\n",
       "      <td>1.00000</td>\n",
       "      <td>0.000000</td>\n",
       "      <td>0.000000</td>\n",
       "      <td>1.00</td>\n",
       "      <td>1.000</td>\n",
       "      <td>1.00000</td>\n",
       "      <td>1.000</td>\n",
       "      <td>Bad</td>\n",
       "    </tr>\n",
       "  </tbody>\n",
       "</table>\n",
       "<p>5 rows × 21 columns</p>\n",
       "</div>"
      ],
      "text/plain": [
       "   Youth ID  Sex  Current Age  Parent    PN     DL     SC     RC    H&M  \\\n",
       "15       16  0.0         18.0     0.0  0.99  1.000  0.988  0.988  0.982   \n",
       "16       17  1.0         20.0     0.0  0.72  0.930  0.788  0.844  0.714   \n",
       "17       18  1.0         18.0     0.0  1.00  1.000  1.000  1.000  1.000   \n",
       "18       19  0.0         19.0     0.0  0.68  0.944  0.956  1.000  0.820   \n",
       "19       20  1.0         18.0     0.0  1.00  1.000  1.000  1.000  1.000   \n",
       "\n",
       "      W&S  ...    LF  median     mean       std       var   max    min  \\\n",
       "15  1.000  ...  1.00   0.995  0.99350  0.054594  0.002981  1.00  0.982   \n",
       "16  0.820  ...  0.96   0.804  0.79975  0.849063  0.720908  0.96  0.622   \n",
       "17  1.000  ...  1.00   1.000  1.00000  0.000000  0.000000  1.00  1.000   \n",
       "18  0.916  ...  0.94   0.928  0.86800  0.929796  0.864520  1.00  0.680   \n",
       "19  1.000  ...  1.00   1.000  1.00000  0.000000  0.000000  1.00  1.000   \n",
       "\n",
       "        sum  quantile  Catagorical   \n",
       "15  0.99350     0.995          Good  \n",
       "16  0.79975     0.804          Good  \n",
       "17  1.00000     1.000           Bad  \n",
       "18  0.86800     0.928          Good  \n",
       "19  1.00000     1.000           Bad  \n",
       "\n",
       "[5 rows x 21 columns]"
      ]
     },
     "execution_count": 15,
     "metadata": {},
     "output_type": "execute_result"
    }
   ],
   "source": [
    "#Data Normilizaton \n",
    "thp_re['PN'] = thp_re['PN']/thp_re['PN'].max()\n",
    "thp_re['DL'] = thp_re['DL']/thp_re['DL'].max()\n",
    "thp_re['SC'] = thp_re['SC']/thp_re['SC'].max()\n",
    "thp_re['RC'] = thp_re['RC']/thp_re['RC'].max()\n",
    "thp_re['H&M'] = thp_re['H&M']/thp_re['H&M'].max()\n",
    "thp_re['W&S'] = thp_re['W&S']/thp_re['W&S'].max()\n",
    "thp_re['C&EP'] = thp_re['C&EP']/thp_re['C&EP'].max()\n",
    "thp_re['LF'] = thp_re['LF']/thp_re['LF'].max()\n",
    "thp_re['median'] = thp_re['median']/thp_re['median'].max() \n",
    "thp_re['mean'] = thp_re['mean']/thp_re['mean'].max()        \n",
    "thp_re['std'] = thp_re['std']/thp_re['std'].max()        \n",
    "thp_re['var'] = thp_re['var']/thp_re['var'].max()   \n",
    "thp_re['max'] = thp_re['max']/thp_re['max'].max()   \n",
    "thp_re['min'] = thp_re['min']/thp_re['min'].max()   \n",
    "thp_re['sum'] = thp_re['sum']/thp_re['sum'].max() \n",
    "thp_re['quantile'] = thp_re['quantile']/thp_re['quantile'].max() \n",
    "thp_re[['PN', 'DL','SC', 'RC', 'H&M', 'W&S', 'C&EP', 'LF','median','mean','std','var','max','min','sum','quantile' ]]\n",
    "\n",
    "thp_re.tail()"
   ]
  },
  {
   "cell_type": "code",
   "execution_count": 16,
   "id": "d6a37dbf-a8cf-4d22-b2b9-4baac87c251e",
   "metadata": {},
   "outputs": [
    {
     "data": {
      "text/plain": [
       "(20, 21)"
      ]
     },
     "execution_count": 16,
     "metadata": {},
     "output_type": "execute_result"
    }
   ],
   "source": [
    "#before Outliers\n",
    "thp_re.shape"
   ]
  },
  {
   "cell_type": "code",
   "execution_count": 17,
   "id": "314724d7-93a5-4ffa-9a16-d6774ee14d59",
   "metadata": {},
   "outputs": [
    {
     "data": {
      "text/html": [
       "<div>\n",
       "<style scoped>\n",
       "    .dataframe tbody tr th:only-of-type {\n",
       "        vertical-align: middle;\n",
       "    }\n",
       "\n",
       "    .dataframe tbody tr th {\n",
       "        vertical-align: top;\n",
       "    }\n",
       "\n",
       "    .dataframe thead th {\n",
       "        text-align: right;\n",
       "    }\n",
       "</style>\n",
       "<table border=\"1\" class=\"dataframe\">\n",
       "  <thead>\n",
       "    <tr style=\"text-align: right;\">\n",
       "      <th></th>\n",
       "      <th>Youth ID</th>\n",
       "      <th>Sex</th>\n",
       "      <th>Current Age</th>\n",
       "      <th>Parent</th>\n",
       "      <th>PN</th>\n",
       "      <th>DL</th>\n",
       "      <th>SC</th>\n",
       "      <th>RC</th>\n",
       "      <th>H&amp;M</th>\n",
       "      <th>W&amp;S</th>\n",
       "      <th>...</th>\n",
       "      <th>LF</th>\n",
       "      <th>median</th>\n",
       "      <th>mean</th>\n",
       "      <th>std</th>\n",
       "      <th>var</th>\n",
       "      <th>max</th>\n",
       "      <th>min</th>\n",
       "      <th>sum</th>\n",
       "      <th>quantile</th>\n",
       "      <th>Catagorical</th>\n",
       "    </tr>\n",
       "  </thead>\n",
       "  <tbody>\n",
       "    <tr>\n",
       "      <th>0</th>\n",
       "      <td>1</td>\n",
       "      <td>1.0</td>\n",
       "      <td>18.0</td>\n",
       "      <td>0.0</td>\n",
       "      <td>0.76</td>\n",
       "      <td>0.894</td>\n",
       "      <td>0.882</td>\n",
       "      <td>0.866</td>\n",
       "      <td>0.792</td>\n",
       "      <td>0.82</td>\n",
       "      <td>...</td>\n",
       "      <td>1.00</td>\n",
       "      <td>0.874</td>\n",
       "      <td>0.87675</td>\n",
       "      <td>0.661185</td>\n",
       "      <td>0.437165</td>\n",
       "      <td>1.000</td>\n",
       "      <td>0.760</td>\n",
       "      <td>0.87675</td>\n",
       "      <td>0.874</td>\n",
       "      <td>Good</td>\n",
       "    </tr>\n",
       "    <tr>\n",
       "      <th>1</th>\n",
       "      <td>2</td>\n",
       "      <td>1.0</td>\n",
       "      <td>19.0</td>\n",
       "      <td>0.0</td>\n",
       "      <td>0.80</td>\n",
       "      <td>0.882</td>\n",
       "      <td>0.906</td>\n",
       "      <td>0.956</td>\n",
       "      <td>0.740</td>\n",
       "      <td>0.88</td>\n",
       "      <td>...</td>\n",
       "      <td>0.80</td>\n",
       "      <td>0.850</td>\n",
       "      <td>0.84800</td>\n",
       "      <td>0.522555</td>\n",
       "      <td>0.273063</td>\n",
       "      <td>0.956</td>\n",
       "      <td>0.740</td>\n",
       "      <td>0.84800</td>\n",
       "      <td>0.850</td>\n",
       "      <td>Good</td>\n",
       "    </tr>\n",
       "    <tr>\n",
       "      <th>2</th>\n",
       "      <td>3</td>\n",
       "      <td>1.0</td>\n",
       "      <td>18.0</td>\n",
       "      <td>0.0</td>\n",
       "      <td>0.86</td>\n",
       "      <td>0.930</td>\n",
       "      <td>0.858</td>\n",
       "      <td>0.956</td>\n",
       "      <td>0.756</td>\n",
       "      <td>0.92</td>\n",
       "      <td>...</td>\n",
       "      <td>0.90</td>\n",
       "      <td>0.880</td>\n",
       "      <td>0.87525</td>\n",
       "      <td>0.486669</td>\n",
       "      <td>0.236847</td>\n",
       "      <td>0.956</td>\n",
       "      <td>0.756</td>\n",
       "      <td>0.87525</td>\n",
       "      <td>0.880</td>\n",
       "      <td>Bad</td>\n",
       "    </tr>\n",
       "    <tr>\n",
       "      <th>3</th>\n",
       "      <td>4</td>\n",
       "      <td>1.0</td>\n",
       "      <td>18.0</td>\n",
       "      <td>0.0</td>\n",
       "      <td>0.71</td>\n",
       "      <td>0.448</td>\n",
       "      <td>0.542</td>\n",
       "      <td>0.766</td>\n",
       "      <td>0.418</td>\n",
       "      <td>0.54</td>\n",
       "      <td>...</td>\n",
       "      <td>0.65</td>\n",
       "      <td>0.541</td>\n",
       "      <td>0.56200</td>\n",
       "      <td>1.000000</td>\n",
       "      <td>1.000000</td>\n",
       "      <td>0.766</td>\n",
       "      <td>0.418</td>\n",
       "      <td>0.56200</td>\n",
       "      <td>0.541</td>\n",
       "      <td>Good</td>\n",
       "    </tr>\n",
       "    <tr>\n",
       "      <th>4</th>\n",
       "      <td>5</td>\n",
       "      <td>0.0</td>\n",
       "      <td>18.0</td>\n",
       "      <td>1.0</td>\n",
       "      <td>0.98</td>\n",
       "      <td>0.942</td>\n",
       "      <td>0.952</td>\n",
       "      <td>0.966</td>\n",
       "      <td>0.670</td>\n",
       "      <td>0.93</td>\n",
       "      <td>...</td>\n",
       "      <td>1.00</td>\n",
       "      <td>0.954</td>\n",
       "      <td>0.92450</td>\n",
       "      <td>0.785173</td>\n",
       "      <td>0.616497</td>\n",
       "      <td>1.000</td>\n",
       "      <td>0.670</td>\n",
       "      <td>0.92450</td>\n",
       "      <td>0.954</td>\n",
       "      <td>Bad</td>\n",
       "    </tr>\n",
       "  </tbody>\n",
       "</table>\n",
       "<p>5 rows × 21 columns</p>\n",
       "</div>"
      ],
      "text/plain": [
       "  Youth ID  Sex  Current Age  Parent    PN     DL     SC     RC    H&M   W&S  \\\n",
       "0        1  1.0         18.0     0.0  0.76  0.894  0.882  0.866  0.792  0.82   \n",
       "1        2  1.0         19.0     0.0  0.80  0.882  0.906  0.956  0.740  0.88   \n",
       "2        3  1.0         18.0     0.0  0.86  0.930  0.858  0.956  0.756  0.92   \n",
       "3        4  1.0         18.0     0.0  0.71  0.448  0.542  0.766  0.418  0.54   \n",
       "4        5  0.0         18.0     1.0  0.98  0.942  0.952  0.966  0.670  0.93   \n",
       "\n",
       "   ...    LF  median     mean       std       var    max    min      sum  \\\n",
       "0  ...  1.00   0.874  0.87675  0.661185  0.437165  1.000  0.760  0.87675   \n",
       "1  ...  0.80   0.850  0.84800  0.522555  0.273063  0.956  0.740  0.84800   \n",
       "2  ...  0.90   0.880  0.87525  0.486669  0.236847  0.956  0.756  0.87525   \n",
       "3  ...  0.65   0.541  0.56200  1.000000  1.000000  0.766  0.418  0.56200   \n",
       "4  ...  1.00   0.954  0.92450  0.785173  0.616497  1.000  0.670  0.92450   \n",
       "\n",
       "   quantile  Catagorical   \n",
       "0     0.874          Good  \n",
       "1     0.850          Good  \n",
       "2     0.880           Bad  \n",
       "3     0.541          Good  \n",
       "4     0.954           Bad  \n",
       "\n",
       "[5 rows x 21 columns]"
      ]
     },
     "execution_count": 17,
     "metadata": {},
     "output_type": "execute_result"
    }
   ],
   "source": [
    " thp_re.head()"
   ]
  },
  {
   "cell_type": "code",
   "execution_count": 18,
   "id": "6a18207d-ec08-4609-a3fe-eee454c4e322",
   "metadata": {},
   "outputs": [
    {
     "data": {
      "text/plain": [
       "Index(['Youth ID', 'Sex', 'Current Age', 'Parent', 'PN', 'DL', 'SC', 'RC',\n",
       "       'H&M', 'W&S', 'C&EP', 'LF', 'median', 'mean', 'std', 'var', 'max',\n",
       "       'min', 'sum', 'quantile', 'Catagorical '],\n",
       "      dtype='object')"
      ]
     },
     "execution_count": 18,
     "metadata": {},
     "output_type": "execute_result"
    }
   ],
   "source": [
    "thp_re.columns"
   ]
  },
  {
   "cell_type": "code",
   "execution_count": 19,
   "id": "2a74e680-b3dd-4629-8646-84d1808e7509",
   "metadata": {},
   "outputs": [
    {
     "data": {
      "text/plain": [
       "<AxesSubplot:xlabel='RC', ylabel='Catagorical '>"
      ]
     },
     "execution_count": 19,
     "metadata": {},
     "output_type": "execute_result"
    },
    {
     "data": {
      "image/png": "[encoded data removed]",
      "text/plain": [
       "<Figure size 432x288 with 1 Axes>"
      ]
     },
     "metadata": {
      "needs_background": "light"
     },
     "output_type": "display_data"
    }
   ],
   "source": [
    "sns.boxplot(x='RC', y='Catagorical ', data=thp_re)"
   ]
  },
  {
   "cell_type": "markdown",
   "id": "7810a18f-92bd-44b1-a7b9-b7c8fc2fb53c",
   "metadata": {},
   "source": [
    " Detecting Outliers\n"
   ]
  },
  {
   "cell_type": "code",
   "execution_count": 25,
   "id": "afb35db8-c111-46c8-8a4e-9bbda9475664",
   "metadata": {},
   "outputs": [
    {
     "data": {
      "text/plain": [
       "<AxesSubplot:xlabel='PN', ylabel='Catagorical '>"
      ]
     },
     "execution_count": 25,
     "metadata": {},
     "output_type": "execute_result"
    },
    {
     "data": {
      "image/png": "[encoded data removed]",
      "text/plain": [
       "<Figure size 432x288 with 1 Axes>"
      ]
     },
     "metadata": {
      "needs_background": "light"
     },
     "output_type": "display_data"
    }
   ],
   "source": [
    "sns.boxplot(x='PN', y='Catagorical ', data=thp_re)"
   ]
  },
  {
   "cell_type": "code",
   "execution_count": 27,
   "id": "d6a3b826-7460-4aee-81e0-60d2016d9583",
   "metadata": {},
   "outputs": [
    {
     "data": {
      "text/plain": [
       "<AxesSubplot:xlabel='median', ylabel='Catagorical '>"
      ]
     },
     "execution_count": 27,
     "metadata": {},
     "output_type": "execute_result"
    },
    {
     "data": {
      "image/png": "[encoded data removed]",
      "text/plain": [
       "<Figure size 432x288 with 1 Axes>"
      ]
     },
     "metadata": {
      "needs_background": "light"
     },
     "output_type": "display_data"
    }
   ],
   "source": [
    "sns.boxplot(x='median', y='Catagorical ', data=thp_re)"
   ]
  },
  {
   "cell_type": "code",
   "execution_count": 28,
   "id": "24a83522-52ac-4b87-b061-3e6a3a4825cc",
   "metadata": {},
   "outputs": [
    {
     "data": {
      "text/plain": [
       "<AxesSubplot:xlabel='mean', ylabel='Catagorical '>"
      ]
     },
     "execution_count": 28,
     "metadata": {},
     "output_type": "execute_result"
    },
    {
     "data": {
      "image/png": "[encoded data removed]",
      "text/plain": [
       "<Figure size 432x288 with 1 Axes>"
      ]
     },
     "metadata": {
      "needs_background": "light"
     },
     "output_type": "display_data"
    }
   ],
   "source": [
    "sns.boxplot(x='mean', y='Catagorical ', data=thp_re)"
   ]
  },
  {
   "cell_type": "code",
   "execution_count": 29,
   "id": "eb2e4fa6-91c2-4435-bac1-32cf26637e92",
   "metadata": {},
   "outputs": [
    {
     "data": {
      "text/plain": [
       "<AxesSubplot:xlabel='sum', ylabel='Catagorical '>"
      ]
     },
     "execution_count": 29,
     "metadata": {},
     "output_type": "execute_result"
    },
    {
     "data": {
      "image/png": "[encoded data removed]",
      "text/plain": [
       "<Figure size 432x288 with 1 Axes>"
      ]
     },
     "metadata": {
      "needs_background": "light"
     },
     "output_type": "display_data"
    }
   ],
   "source": [
    "sns.boxplot(x='sum', y='Catagorical ', data=thp_re)"
   ]
  },
  {
   "cell_type": "code",
   "execution_count": 20,
   "id": "953db768-fca3-4198-ac89-fb877c06553b",
   "metadata": {},
   "outputs": [
    {
     "name": "stdout",
     "output_type": "stream",
     "text": [
      "Sex            1.000000\n",
      "Current Age    1.000000\n",
      "Parent         0.000000\n",
      "PN             0.265000\n",
      "DL             0.061000\n",
      "SC             0.112000\n",
      "RC             0.108500\n",
      "H&M            0.121000\n",
      "W&S            0.135000\n",
      "C&EP           0.306500\n",
      "LF             0.120000\n",
      "median         0.143750\n",
      "mean           0.113375\n",
      "std            0.398665\n",
      "var            0.463959\n",
      "max            0.041000\n",
      "min            0.173000\n",
      "sum            0.113375\n",
      "quantile       0.143750\n",
      "dtype: float64\n"
     ]
    }
   ],
   "source": [
    "Q1 = thp_re.quantile(0.25)\n",
    "Q3 = thp_re.quantile(0.75)\n",
    "IQR = Q3 - Q1\n",
    "print(IQR)"
   ]
  },
  {
   "cell_type": "code",
   "execution_count": 83,
   "id": "43404292-5c13-4e81-a436-b5f871780eb8",
   "metadata": {},
   "outputs": [
    {
     "name": "stderr",
     "output_type": "stream",
     "text": [
      "/var/folders/zx/f1n4qhss7qq5b_ypxdtf1xr00000gn/T/ipykernel_9009/2098103500.py:2: FutureWarning: Automatic reindexing on DataFrame vs Series comparisons is deprecated and will raise ValueError in a future version. Do `left, right = left.align(right, axis=1, copy=False)` before e.g. `left == right`\n",
      "  thp_re= thp_re[~((thp_re < (Q1 - 1.5 * IQR)) |(thp_re > (Q3 + 1.5 * IQR))).any(axis=1)]\n"
     ]
    },
    {
     "data": {
      "text/plain": [
       "(16, 21)"
      ]
     },
     "execution_count": 83,
     "metadata": {},
     "output_type": "execute_result"
    }
   ],
   "source": [
    " #remove outliers & shape after remove \n",
    "thp_re= thp_re[~((thp_re < (Q1 - 1.5 * IQR)) |(thp_re > (Q3 + 1.5 * IQR))).any(axis=1)]\n",
    "thp_re.shape"
   ]
  },
  {
   "cell_type": "markdown",
   "id": "211e6dc9-5953-4a58-b79f-2b17d9e0f3a0",
   "metadata": {},
   "source": [
    " The variables we will use are Youth ID, sum, mean, median, min, PN,RC, sex, parent and age. "
   ]
  },
  {
   "cell_type": "code",
   "execution_count": 137,
   "id": "91798267-56e7-4b9a-a187-173f0579889b",
   "metadata": {},
   "outputs": [
    {
     "data": {
      "text/html": [
       "<div>\n",
       "<style scoped>\n",
       "    .dataframe tbody tr th:only-of-type {\n",
       "        vertical-align: middle;\n",
       "    }\n",
       "\n",
       "    .dataframe tbody tr th {\n",
       "        vertical-align: top;\n",
       "    }\n",
       "\n",
       "    .dataframe thead th {\n",
       "        text-align: right;\n",
       "    }\n",
       "</style>\n",
       "<table border=\"1\" class=\"dataframe\">\n",
       "  <thead>\n",
       "    <tr style=\"text-align: right;\">\n",
       "      <th></th>\n",
       "      <th>Youth ID</th>\n",
       "      <th>Sex</th>\n",
       "      <th>Current Age</th>\n",
       "      <th>Parent</th>\n",
       "      <th>PN</th>\n",
       "      <th>RC</th>\n",
       "      <th>median</th>\n",
       "      <th>mean</th>\n",
       "      <th>sum</th>\n",
       "      <th>Catagorical</th>\n",
       "    </tr>\n",
       "  </thead>\n",
       "  <tbody>\n",
       "    <tr>\n",
       "      <th>0</th>\n",
       "      <td>1</td>\n",
       "      <td>1.0</td>\n",
       "      <td>18.0</td>\n",
       "      <td>0.0</td>\n",
       "      <td>0.76</td>\n",
       "      <td>0.866</td>\n",
       "      <td>0.874</td>\n",
       "      <td>0.87675</td>\n",
       "      <td>0.87675</td>\n",
       "      <td>Good</td>\n",
       "    </tr>\n",
       "    <tr>\n",
       "      <th>1</th>\n",
       "      <td>2</td>\n",
       "      <td>1.0</td>\n",
       "      <td>19.0</td>\n",
       "      <td>0.0</td>\n",
       "      <td>0.80</td>\n",
       "      <td>0.956</td>\n",
       "      <td>0.850</td>\n",
       "      <td>0.84800</td>\n",
       "      <td>0.84800</td>\n",
       "      <td>Good</td>\n",
       "    </tr>\n",
       "    <tr>\n",
       "      <th>2</th>\n",
       "      <td>3</td>\n",
       "      <td>1.0</td>\n",
       "      <td>18.0</td>\n",
       "      <td>0.0</td>\n",
       "      <td>0.86</td>\n",
       "      <td>0.956</td>\n",
       "      <td>0.880</td>\n",
       "      <td>0.87525</td>\n",
       "      <td>0.87525</td>\n",
       "      <td>Bad</td>\n",
       "    </tr>\n",
       "    <tr>\n",
       "      <th>5</th>\n",
       "      <td>6</td>\n",
       "      <td>1.0</td>\n",
       "      <td>18.0</td>\n",
       "      <td>0.0</td>\n",
       "      <td>0.90</td>\n",
       "      <td>0.966</td>\n",
       "      <td>0.909</td>\n",
       "      <td>0.88800</td>\n",
       "      <td>0.88800</td>\n",
       "      <td>Bad</td>\n",
       "    </tr>\n",
       "    <tr>\n",
       "      <th>6</th>\n",
       "      <td>7</td>\n",
       "      <td>1.0</td>\n",
       "      <td>19.0</td>\n",
       "      <td>0.0</td>\n",
       "      <td>0.70</td>\n",
       "      <td>0.888</td>\n",
       "      <td>0.805</td>\n",
       "      <td>0.80925</td>\n",
       "      <td>0.80925</td>\n",
       "      <td>Good</td>\n",
       "    </tr>\n",
       "  </tbody>\n",
       "</table>\n",
       "</div>"
      ],
      "text/plain": [
       "  Youth ID  Sex  Current Age  Parent    PN     RC  median     mean      sum  \\\n",
       "0        1  1.0         18.0     0.0  0.76  0.866   0.874  0.87675  0.87675   \n",
       "1        2  1.0         19.0     0.0  0.80  0.956   0.850  0.84800  0.84800   \n",
       "2        3  1.0         18.0     0.0  0.86  0.956   0.880  0.87525  0.87525   \n",
       "5        6  1.0         18.0     0.0  0.90  0.966   0.909  0.88800  0.88800   \n",
       "6        7  1.0         19.0     0.0  0.70  0.888   0.805  0.80925  0.80925   \n",
       "\n",
       "  Catagorical   \n",
       "0         Good  \n",
       "1         Good  \n",
       "2          Bad  \n",
       "5          Bad  \n",
       "6         Good  "
      ]
     },
     "execution_count": 137,
     "metadata": {},
     "output_type": "execute_result"
    }
   ],
   "source": [
    "#make a new dataframe\n",
    "thp_corr = thp_re[['Youth ID', 'Sex', 'Current Age', 'Parent', 'PN','RC','median', 'mean','sum','Catagorical ']]\n",
    "thp_corr.head() "
   ]
  },
  {
   "cell_type": "code",
   "execution_count": 138,
   "id": "84ab4ce9-c81b-4b41-aa20-c6949b972ffc",
   "metadata": {},
   "outputs": [
    {
     "data": {
      "text/plain": [
       "(16, 10)"
      ]
     },
     "execution_count": 138,
     "metadata": {},
     "output_type": "execute_result"
    }
   ],
   "source": [
    "thp_corr.shape\n"
   ]
  },
  {
   "cell_type": "code",
   "execution_count": 139,
   "id": "7a8bf4e5-eb65-44b4-9246-e79cdb4087db",
   "metadata": {},
   "outputs": [
    {
     "data": {
      "text/plain": [
       "Youth ID         object\n",
       "Sex             float64\n",
       "Current Age     float64\n",
       "Parent          float64\n",
       "PN              float64\n",
       "RC              float64\n",
       "median          float64\n",
       "mean            float64\n",
       "sum             float64\n",
       "Catagorical      object\n",
       "dtype: object"
      ]
     },
     "execution_count": 139,
     "metadata": {},
     "output_type": "execute_result"
    }
   ],
   "source": [
    "thp_corr.dtypes"
   ]
  },
  {
   "cell_type": "code",
   "execution_count": 140,
   "id": "f01dedfb-c3a1-46c7-91ab-6aed27c9d637",
   "metadata": {},
   "outputs": [
    {
     "data": {
      "text/html": [
       "<div>\n",
       "<style scoped>\n",
       "    .dataframe tbody tr th:only-of-type {\n",
       "        vertical-align: middle;\n",
       "    }\n",
       "\n",
       "    .dataframe tbody tr th {\n",
       "        vertical-align: top;\n",
       "    }\n",
       "\n",
       "    .dataframe thead th {\n",
       "        text-align: right;\n",
       "    }\n",
       "</style>\n",
       "<table border=\"1\" class=\"dataframe\">\n",
       "  <thead>\n",
       "    <tr style=\"text-align: right;\">\n",
       "      <th></th>\n",
       "      <th>Youth ID</th>\n",
       "      <th>Sex</th>\n",
       "      <th>Current Age</th>\n",
       "      <th>Parent</th>\n",
       "      <th>PN</th>\n",
       "      <th>RC</th>\n",
       "      <th>median</th>\n",
       "      <th>mean</th>\n",
       "      <th>sum</th>\n",
       "      <th>Class</th>\n",
       "    </tr>\n",
       "  </thead>\n",
       "  <tbody>\n",
       "    <tr>\n",
       "      <th>0</th>\n",
       "      <td>1</td>\n",
       "      <td>1.0</td>\n",
       "      <td>18.0</td>\n",
       "      <td>0.0</td>\n",
       "      <td>0.76</td>\n",
       "      <td>0.866</td>\n",
       "      <td>0.874</td>\n",
       "      <td>0.87675</td>\n",
       "      <td>0.87675</td>\n",
       "      <td>Good</td>\n",
       "    </tr>\n",
       "    <tr>\n",
       "      <th>1</th>\n",
       "      <td>2</td>\n",
       "      <td>1.0</td>\n",
       "      <td>19.0</td>\n",
       "      <td>0.0</td>\n",
       "      <td>0.80</td>\n",
       "      <td>0.956</td>\n",
       "      <td>0.850</td>\n",
       "      <td>0.84800</td>\n",
       "      <td>0.84800</td>\n",
       "      <td>Good</td>\n",
       "    </tr>\n",
       "    <tr>\n",
       "      <th>2</th>\n",
       "      <td>3</td>\n",
       "      <td>1.0</td>\n",
       "      <td>18.0</td>\n",
       "      <td>0.0</td>\n",
       "      <td>0.86</td>\n",
       "      <td>0.956</td>\n",
       "      <td>0.880</td>\n",
       "      <td>0.87525</td>\n",
       "      <td>0.87525</td>\n",
       "      <td>Bad</td>\n",
       "    </tr>\n",
       "    <tr>\n",
       "      <th>5</th>\n",
       "      <td>6</td>\n",
       "      <td>1.0</td>\n",
       "      <td>18.0</td>\n",
       "      <td>0.0</td>\n",
       "      <td>0.90</td>\n",
       "      <td>0.966</td>\n",
       "      <td>0.909</td>\n",
       "      <td>0.88800</td>\n",
       "      <td>0.88800</td>\n",
       "      <td>Bad</td>\n",
       "    </tr>\n",
       "    <tr>\n",
       "      <th>6</th>\n",
       "      <td>7</td>\n",
       "      <td>1.0</td>\n",
       "      <td>19.0</td>\n",
       "      <td>0.0</td>\n",
       "      <td>0.70</td>\n",
       "      <td>0.888</td>\n",
       "      <td>0.805</td>\n",
       "      <td>0.80925</td>\n",
       "      <td>0.80925</td>\n",
       "      <td>Good</td>\n",
       "    </tr>\n",
       "  </tbody>\n",
       "</table>\n",
       "</div>"
      ],
      "text/plain": [
       "  Youth ID  Sex  Current Age  Parent    PN     RC  median     mean      sum  \\\n",
       "0        1  1.0         18.0     0.0  0.76  0.866   0.874  0.87675  0.87675   \n",
       "1        2  1.0         19.0     0.0  0.80  0.956   0.850  0.84800  0.84800   \n",
       "2        3  1.0         18.0     0.0  0.86  0.956   0.880  0.87525  0.87525   \n",
       "5        6  1.0         18.0     0.0  0.90  0.966   0.909  0.88800  0.88800   \n",
       "6        7  1.0         19.0     0.0  0.70  0.888   0.805  0.80925  0.80925   \n",
       "\n",
       "  Class  \n",
       "0  Good  \n",
       "1  Good  \n",
       "2   Bad  \n",
       "5   Bad  \n",
       "6  Good  "
      ]
     },
     "execution_count": 140,
     "metadata": {},
     "output_type": "execute_result"
    }
   ],
   "source": [
    "thp_corr = thp_corr.rename(columns={'Catagorical ':'Class'})\n",
    "thp_corr.head()\n",
    " "
   ]
  },
  {
   "cell_type": "code",
   "execution_count": 141,
   "id": "6624fcdb-1314-4a54-95ce-e0e967172194",
   "metadata": {},
   "outputs": [
    {
     "name": "stdout",
     "output_type": "stream",
     "text": [
      "There are 80 observations in the inflated thp dataset.\n",
      "There are 10 variables in the dataset.\n"
     ]
    },
    {
     "data": {
      "text/html": [
       "<div>\n",
       "<style scoped>\n",
       "    .dataframe tbody tr th:only-of-type {\n",
       "        vertical-align: middle;\n",
       "    }\n",
       "\n",
       "    .dataframe tbody tr th {\n",
       "        vertical-align: top;\n",
       "    }\n",
       "\n",
       "    .dataframe thead th {\n",
       "        text-align: right;\n",
       "    }\n",
       "</style>\n",
       "<table border=\"1\" class=\"dataframe\">\n",
       "  <thead>\n",
       "    <tr style=\"text-align: right;\">\n",
       "      <th></th>\n",
       "      <th>Youth ID</th>\n",
       "      <th>Sex</th>\n",
       "      <th>Current Age</th>\n",
       "      <th>Parent</th>\n",
       "      <th>PN</th>\n",
       "      <th>RC</th>\n",
       "      <th>median</th>\n",
       "      <th>mean</th>\n",
       "      <th>sum</th>\n",
       "      <th>Class</th>\n",
       "    </tr>\n",
       "  </thead>\n",
       "  <tbody>\n",
       "    <tr>\n",
       "      <th>0</th>\n",
       "      <td>1</td>\n",
       "      <td>1.0</td>\n",
       "      <td>18.0</td>\n",
       "      <td>0.0</td>\n",
       "      <td>0.76</td>\n",
       "      <td>0.866</td>\n",
       "      <td>0.874</td>\n",
       "      <td>0.87675</td>\n",
       "      <td>0.87675</td>\n",
       "      <td>Good</td>\n",
       "    </tr>\n",
       "    <tr>\n",
       "      <th>1</th>\n",
       "      <td>1</td>\n",
       "      <td>1.0</td>\n",
       "      <td>18.0</td>\n",
       "      <td>0.0</td>\n",
       "      <td>0.76</td>\n",
       "      <td>0.866</td>\n",
       "      <td>0.874</td>\n",
       "      <td>0.87675</td>\n",
       "      <td>0.87675</td>\n",
       "      <td>Good</td>\n",
       "    </tr>\n",
       "    <tr>\n",
       "      <th>2</th>\n",
       "      <td>1</td>\n",
       "      <td>1.0</td>\n",
       "      <td>18.0</td>\n",
       "      <td>0.0</td>\n",
       "      <td>0.76</td>\n",
       "      <td>0.866</td>\n",
       "      <td>0.874</td>\n",
       "      <td>0.87675</td>\n",
       "      <td>0.87675</td>\n",
       "      <td>Good</td>\n",
       "    </tr>\n",
       "    <tr>\n",
       "      <th>3</th>\n",
       "      <td>1</td>\n",
       "      <td>1.0</td>\n",
       "      <td>18.0</td>\n",
       "      <td>0.0</td>\n",
       "      <td>0.76</td>\n",
       "      <td>0.866</td>\n",
       "      <td>0.874</td>\n",
       "      <td>0.87675</td>\n",
       "      <td>0.87675</td>\n",
       "      <td>Good</td>\n",
       "    </tr>\n",
       "    <tr>\n",
       "      <th>4</th>\n",
       "      <td>1</td>\n",
       "      <td>1.0</td>\n",
       "      <td>18.0</td>\n",
       "      <td>0.0</td>\n",
       "      <td>0.76</td>\n",
       "      <td>0.866</td>\n",
       "      <td>0.874</td>\n",
       "      <td>0.87675</td>\n",
       "      <td>0.87675</td>\n",
       "      <td>Good</td>\n",
       "    </tr>\n",
       "  </tbody>\n",
       "</table>\n",
       "</div>"
      ],
      "text/plain": [
       "  Youth ID  Sex Current Age Parent    PN     RC median     mean      sum Class\n",
       "0        1  1.0        18.0    0.0  0.76  0.866  0.874  0.87675  0.87675  Good\n",
       "1        1  1.0        18.0    0.0  0.76  0.866  0.874  0.87675  0.87675  Good\n",
       "2        1  1.0        18.0    0.0  0.76  0.866  0.874  0.87675  0.87675  Good\n",
       "3        1  1.0        18.0    0.0  0.76  0.866  0.874  0.87675  0.87675  Good\n",
       "4        1  1.0        18.0    0.0  0.76  0.866  0.874  0.87675  0.87675  Good"
      ]
     },
     "execution_count": 141,
     "metadata": {},
     "output_type": "execute_result"
    }
   ],
   "source": [
    "n_replicas = 5\n",
    "\n",
    "# inflate the original dataset\n",
    "big_raw_data = pd.DataFrame(np.repeat(thp_corr.values, n_replicas, axis=0), columns=thp_corr.columns)\n",
    "\n",
    "print(\"There are \" + str(len(big_raw_data)) + \" observations in the inflated thp dataset.\")\n",
    "print(\"There are \" + str(len(big_raw_data.columns)) + \" variables in the dataset.\")\n",
    "\n",
    "# display first rows in the new dataset\n",
    "big_raw_data.head()\n",
    "\n"
   ]
  },
  {
   "cell_type": "code",
   "execution_count": 142,
   "id": "9ce414de-9897-40bd-bf4b-f0b284221b07",
   "metadata": {},
   "outputs": [
    {
     "data": {
      "text/plain": [
       "Index(['Youth ID', 'Sex', 'Current Age', 'Parent', 'PN', 'RC', 'median',\n",
       "       'mean', 'sum', 'Class'],\n",
       "      dtype='object')"
      ]
     },
     "execution_count": 142,
     "metadata": {},
     "output_type": "execute_result"
    }
   ],
   "source": [
    "big_raw_data.columns"
   ]
  },
  {
   "cell_type": "code",
   "execution_count": 143,
   "id": "e2230b63-1d2b-4013-b71d-05911ae59f6f",
   "metadata": {
    "tags": []
   },
   "outputs": [],
   "source": [
    "def plot_confusion_matrix(y,y_predict):\n",
    "    \"this function plots the confusion matrix\"\n",
    "    from sklearn.metrics import confusion_matrix\n",
    "\n",
    "    cm = confusion_matrix(y, y_predict)\n",
    "    ax= plt.subplot()\n",
    "    sns.heatmap(cm, annot=True, ax = ax); #annot=True to annotate cells\n",
    "    ax.set_xlabel('Predicted labels')\n",
    "    ax.set_ylabel('True labels')\n",
    "    ax.set_title('Confusion Matrix'); \n",
    "    ax.xaxis.set_ticklabels(['Good(1)','Bad(0)']); ax.yaxis.set_ticklabels(['Good(1)','Bad(0)']) \n",
    "    plt.show() \n",
    "    \n",
    " "
   ]
  },
  {
   "cell_type": "code",
   "execution_count": 144,
   "id": "9b8d3193-ed61-4d57-aebb-251129c76fbf",
   "metadata": {},
   "outputs": [
    {
     "data": {
      "text/html": [
       "<div>\n",
       "<style scoped>\n",
       "    .dataframe tbody tr th:only-of-type {\n",
       "        vertical-align: middle;\n",
       "    }\n",
       "\n",
       "    .dataframe tbody tr th {\n",
       "        vertical-align: top;\n",
       "    }\n",
       "\n",
       "    .dataframe thead th {\n",
       "        text-align: right;\n",
       "    }\n",
       "</style>\n",
       "<table border=\"1\" class=\"dataframe\">\n",
       "  <thead>\n",
       "    <tr style=\"text-align: right;\">\n",
       "      <th></th>\n",
       "      <th>Youth ID</th>\n",
       "      <th>Sex</th>\n",
       "      <th>Current Age</th>\n",
       "      <th>Parent</th>\n",
       "      <th>PN</th>\n",
       "      <th>RC</th>\n",
       "      <th>median</th>\n",
       "      <th>mean</th>\n",
       "      <th>sum</th>\n",
       "      <th>Class</th>\n",
       "    </tr>\n",
       "  </thead>\n",
       "  <tbody>\n",
       "    <tr>\n",
       "      <th>0</th>\n",
       "      <td>1</td>\n",
       "      <td>1.0</td>\n",
       "      <td>18.0</td>\n",
       "      <td>0.0</td>\n",
       "      <td>0.76</td>\n",
       "      <td>0.866</td>\n",
       "      <td>0.874</td>\n",
       "      <td>0.87675</td>\n",
       "      <td>0.87675</td>\n",
       "      <td>1</td>\n",
       "    </tr>\n",
       "    <tr>\n",
       "      <th>1</th>\n",
       "      <td>1</td>\n",
       "      <td>1.0</td>\n",
       "      <td>18.0</td>\n",
       "      <td>0.0</td>\n",
       "      <td>0.76</td>\n",
       "      <td>0.866</td>\n",
       "      <td>0.874</td>\n",
       "      <td>0.87675</td>\n",
       "      <td>0.87675</td>\n",
       "      <td>1</td>\n",
       "    </tr>\n",
       "    <tr>\n",
       "      <th>2</th>\n",
       "      <td>1</td>\n",
       "      <td>1.0</td>\n",
       "      <td>18.0</td>\n",
       "      <td>0.0</td>\n",
       "      <td>0.76</td>\n",
       "      <td>0.866</td>\n",
       "      <td>0.874</td>\n",
       "      <td>0.87675</td>\n",
       "      <td>0.87675</td>\n",
       "      <td>1</td>\n",
       "    </tr>\n",
       "    <tr>\n",
       "      <th>3</th>\n",
       "      <td>1</td>\n",
       "      <td>1.0</td>\n",
       "      <td>18.0</td>\n",
       "      <td>0.0</td>\n",
       "      <td>0.76</td>\n",
       "      <td>0.866</td>\n",
       "      <td>0.874</td>\n",
       "      <td>0.87675</td>\n",
       "      <td>0.87675</td>\n",
       "      <td>1</td>\n",
       "    </tr>\n",
       "    <tr>\n",
       "      <th>4</th>\n",
       "      <td>1</td>\n",
       "      <td>1.0</td>\n",
       "      <td>18.0</td>\n",
       "      <td>0.0</td>\n",
       "      <td>0.76</td>\n",
       "      <td>0.866</td>\n",
       "      <td>0.874</td>\n",
       "      <td>0.87675</td>\n",
       "      <td>0.87675</td>\n",
       "      <td>1</td>\n",
       "    </tr>\n",
       "  </tbody>\n",
       "</table>\n",
       "</div>"
      ],
      "text/plain": [
       "  Youth ID  Sex Current Age Parent    PN     RC median     mean      sum  \\\n",
       "0        1  1.0        18.0    0.0  0.76  0.866  0.874  0.87675  0.87675   \n",
       "1        1  1.0        18.0    0.0  0.76  0.866  0.874  0.87675  0.87675   \n",
       "2        1  1.0        18.0    0.0  0.76  0.866  0.874  0.87675  0.87675   \n",
       "3        1  1.0        18.0    0.0  0.76  0.866  0.874  0.87675  0.87675   \n",
       "4        1  1.0        18.0    0.0  0.76  0.866  0.874  0.87675  0.87675   \n",
       "\n",
       "   Class  \n",
       "0      1  \n",
       "1      1  \n",
       "2      1  \n",
       "3      1  \n",
       "4      1  "
      ]
     },
     "execution_count": 144,
     "metadata": {},
     "output_type": "execute_result"
    }
   ],
   "source": [
    "replace_values = {'Good':1,'Bad' :0}\n",
    "big_raw_data= big_raw_data.replace({'Class': replace_values})\n",
    "\n",
    "big_raw_data.head()\n"
   ]
  },
  {
   "cell_type": "code",
   "execution_count": 184,
   "id": "71af042e-70dd-48c7-9397-4add21641253",
   "metadata": {},
   "outputs": [
    {
     "data": {
      "text/plain": [
       "array([1, 1, 1, 1, 1, 1, 1, 1, 1, 1, 0, 0, 0, 0, 0, 0, 0, 0, 0, 0, 1, 1,\n",
       "       1, 1, 1, 0, 0, 0, 0, 0, 0, 0, 0, 0, 0, 1, 1, 1, 1, 1, 0, 0, 0, 0,\n",
       "       0, 1, 1, 1, 1, 1, 1, 1, 1, 1, 1, 1, 1, 1, 1, 1, 1, 1, 1, 1, 1, 0,\n",
       "       0, 0, 0, 0, 1, 1, 1, 1, 1, 0, 0, 0, 0, 0])"
      ]
     },
     "execution_count": 184,
     "metadata": {},
     "output_type": "execute_result"
    }
   ],
   "source": [
    "Y=big_raw_data['Class'].to_numpy()\n",
    "Y"
   ]
  },
  {
   "cell_type": "code",
   "execution_count": 185,
   "id": "4631ea7e-8240-4462-a8aa-8077461397e3",
   "metadata": {
    "tags": []
   },
   "outputs": [
    {
     "data": {
      "text/plain": [
       "array([[-1.69376025,  0.57735027, -0.62554324,  0.        , -0.7761128 ,\n",
       "        -1.09681422, -0.27108546, -0.13340455, -0.13340455],\n",
       "       [-1.69376025,  0.57735027, -0.62554324,  0.        , -0.7761128 ,\n",
       "        -1.09681422, -0.27108546, -0.13340455, -0.13340455]])"
      ]
     },
     "execution_count": 185,
     "metadata": {},
     "output_type": "execute_result"
    }
   ],
   "source": [
    "X = big_raw_data[['Youth ID', 'Sex', 'Current Age', 'Parent', 'PN','RC','median', 'mean', 'sum' ]].values\n",
    "X = preprocessing.StandardScaler().fit(X).transform(X.astype(float))\n",
    "X[0:2]"
   ]
  },
  {
   "cell_type": "code",
   "execution_count": 186,
   "id": "8ab94a13-7dd3-4a4d-887a-4250532e224b",
   "metadata": {},
   "outputs": [
    {
     "name": "stdout",
     "output_type": "stream",
     "text": [
      "Train set: (64, 9) (64,)\n",
      "Test set: (16, 9) (16,)\n"
     ]
    }
   ],
   "source": [
    "from sklearn.model_selection import train_test_split\n",
    "X_train, X_test, Y_train, Y_test = train_test_split(X, Y, test_size=0.2, random_state=2)\n",
    "print ('Train set:', X_train.shape,  Y_train.shape)\n",
    "print ('Test set:', X_test.shape,  Y_test.shape)\n"
   ]
  },
  {
   "cell_type": "code",
   "execution_count": 187,
   "id": "398a06c4-a7ce-4b3c-9858-6ef0beecf5b4",
   "metadata": {},
   "outputs": [
    {
     "data": {
      "text/plain": [
       "(16,)"
      ]
     },
     "execution_count": 187,
     "metadata": {},
     "output_type": "execute_result"
    }
   ],
   "source": [
    "Y_test.shape"
   ]
  },
  {
   "cell_type": "markdown",
   "id": "216a4b71-083b-49f8-827c-5e4aa7e575c6",
   "metadata": {},
   "source": [
    "Create a logistic regression object  then create a  GridSearchCV object  <code>logreg_cv</code> with cv = 10.  Fit the object to find the best parameters from the dictionary <code>parameters</code>."
   ]
  },
  {
   "cell_type": "code",
   "execution_count": 150,
   "id": "a083919e-0fe2-4134-ac10-3b3d44bbd3f6",
   "metadata": {},
   "outputs": [],
   "source": [
    " parameters ={'C':[0.01,0.1,1],\n",
    "             'penalty':['l2'],\n",
    "             'solver':['lbfgs']}"
   ]
  },
  {
   "cell_type": "code",
   "execution_count": 151,
   "id": "19fcef8e-1b79-48ac-a480-18d8148560b0",
   "metadata": {},
   "outputs": [],
   "source": [
    "parameters ={\"C\":[0.01,0.1,1],'penalty':['l2'], 'solver':['lbfgs']}# l1 lasso l2 ridge\n",
    "lr=LogisticRegression()\n",
    "\n",
    "\n",
    "grid_search = GridSearchCV(lr,parameters,cv=10)\n",
    "logreg_cv=grid_search.fit(X_train,Y_train)\n",
    "\n",
    " "
   ]
  },
  {
   "cell_type": "code",
   "execution_count": 152,
   "id": "08f3fa2c-f528-4357-ba90-e9dfd4283a13",
   "metadata": {},
   "outputs": [],
   "source": [
    "parameters ={\"C\":[0.01,0.1,1],'penalty':['l2'], 'solver':['lbfgs']}\n",
    "lr=LogisticRegression()"
   ]
  },
  {
   "cell_type": "markdown",
   "id": "2cf0d205-21ce-49f9-ae36-8fed94d3aaab",
   "metadata": {},
   "source": [
    " I output the <code>GridSearchCV</code> object for logistic regression. \n",
    " I display the best parameters using the data attribute <code>best_params\\_</code> and the accuracy on the validation data using the data attribute <code>best_score\\_</code>.#\n",
    "    "
   ]
  },
  {
   "cell_type": "code",
   "execution_count": 153,
   "id": "1333200e-a840-4110-a302-a44ce931d0e5",
   "metadata": {},
   "outputs": [
    {
     "name": "stdout",
     "output_type": "stream",
     "text": [
      "tuned hpyerparameters :(best parameters)  {'C': 1, 'penalty': 'l2', 'solver': 'lbfgs'}\n",
      "accuracy : 0.9714285714285715\n"
     ]
    }
   ],
   "source": [
    "print(\"tuned hpyerparameters :(best parameters) \",logreg_cv.best_params_)\n",
    "print(\"accuracy :\",logreg_cv.best_score_)"
   ]
  },
  {
   "cell_type": "code",
   "execution_count": 154,
   "id": "fea9efb6-d457-48b4-a439-09b73e33adb4",
   "metadata": {},
   "outputs": [
    {
     "data": {
      "text/plain": [
       "0.8125"
      ]
     },
     "execution_count": 154,
     "metadata": {},
     "output_type": "execute_result"
    }
   ],
   "source": [
    "#Calculate the accuracy of the test data using the method score\n",
    "logreg_cv.score(X_test, Y_test)\n"
   ]
  },
  {
   "cell_type": "code",
   "execution_count": 155,
   "id": "7d944c67-409a-459d-badf-08f1043c3f2c",
   "metadata": {},
   "outputs": [
    {
     "data": {
      "image/png": "[encoded data removed]",
      "text/plain": [
       "<Figure size 432x288 with 2 Axes>"
      ]
     },
     "metadata": {
      "needs_background": "light"
     },
     "output_type": "display_data"
    }
   ],
   "source": [
    "#look at the confusion metrix\n",
    "yhat=logreg_cv.predict(X_test)\n",
    "plot_confusion_matrix(Y_test,yhat)"
   ]
  },
  {
   "cell_type": "markdown",
   "id": "bd1ef0b8-dfc7-45ad-ba05-ff024a52d091",
   "metadata": {},
   "source": [
    "Logistic regression-Out of 16 applicants, 8 of them scored 1(Good,applicants who had a positive experince with the program). Out of these 8, the classifier correctly predicted 8 of them as 1(Good), and Zero of them as 0(Bad).This means that for 8 applicants, the actual Good value was 1(Good), in the test set, and the classifier also correctly predicted those as 1(Good).There were no false positives. What about the applicants that were given a Bad score of zero(applicants who were involuntarily discharged with a negative experince in the program)? Let’s look at the second row. It looks like there were 5 applicants whose Bad value was scored correctly with 0(bad).This means that for 8 applicants, the actual score was 0(bad), in the test set, and the classifier correctly predicted those as 0(bad). However the predictor incorrectly classified 3 applicants 1(Good) when they should have been scored 0(Bad).     "
   ]
  },
  {
   "cell_type": "markdown",
   "id": "0ad8c8d6-b8cd-44ae-b062-5968a9adb6ce",
   "metadata": {},
   "source": [
    "**********************************************************************************************************************************"
   ]
  },
  {
   "cell_type": "markdown",
   "id": "51e23e09-3358-4afb-ac4d-e6d49fe65292",
   "metadata": {},
   "source": [
    "Create a support vector machine object then  create a  <code>GridSearchCV</code> object  <code>svm_cv</code> with cv - 10.  Fit the object to find the best parameters from the dictionary <code>parameters</code>."
   ]
  },
  {
   "cell_type": "code",
   "execution_count": 156,
   "id": "6af6f8ba-a4a5-4038-ae12-567c158dccf1",
   "metadata": {},
   "outputs": [],
   "source": [
    "parameters = {'kernel':('linear', 'rbf','poly','rbf', 'sigmoid'),\n",
    "              'C': np.logspace(-3, 3, 5),\n",
    "              'gamma':np.logspace(-3, 3, 5)}\n",
    "svm = SVC()"
   ]
  },
  {
   "cell_type": "code",
   "execution_count": 157,
   "id": "b493c230-2a83-4490-957f-cbc5f6a20989",
   "metadata": {},
   "outputs": [],
   "source": [
    "grid_search = GridSearchCV(svm, parameters, cv=10)\n",
    "svm_cv = grid_search.fit(X_train, Y_train)\n"
   ]
  },
  {
   "cell_type": "code",
   "execution_count": 158,
   "id": "5745bdb9-8517-4064-8470-df710bc2f63a",
   "metadata": {},
   "outputs": [
    {
     "name": "stdout",
     "output_type": "stream",
     "text": [
      "tuned hpyerparameters :(best parameters)  {'C': 0.001, 'gamma': 31.622776601683793, 'kernel': 'poly'}\n",
      "accuracy : 1.0\n"
     ]
    }
   ],
   "source": [
    "print(\"tuned hpyerparameters :(best parameters) \",svm_cv.best_params_)\n",
    "print(\"accuracy :\",svm_cv.best_score_)"
   ]
  },
  {
   "cell_type": "code",
   "execution_count": 159,
   "id": "300b2c83-083b-4b12-b1d7-efc4f3e6d068",
   "metadata": {},
   "outputs": [
    {
     "data": {
      "text/plain": [
       "1.0"
      ]
     },
     "execution_count": 159,
     "metadata": {},
     "output_type": "execute_result"
    }
   ],
   "source": [
    "svm_cv.score(X_test, Y_test)\n"
   ]
  },
  {
   "cell_type": "code",
   "execution_count": 160,
   "id": "7f6217d6-d81e-4f8e-8ea9-0c0b6deab1aa",
   "metadata": {},
   "outputs": [
    {
     "data": {
      "image/png": "[encoded data removed]",
      "text/plain": [
       "<Figure size 432x288 with 2 Axes>"
      ]
     },
     "metadata": {
      "needs_background": "light"
     },
     "output_type": "display_data"
    }
   ],
   "source": [
    "yhat=svm_cv.predict(X_test)\n",
    "plot_confusion_matrix(Y_test,yhat)"
   ]
  },
  {
   "cell_type": "markdown",
   "id": "97a5b5b8-f302-47d0-8824-6c4b83f4b5a6",
   "metadata": {},
   "source": [
    "SVC-Out of 16 applicants, 8 of them scored 1(Good,applicants who had a positive experince with the program). Out of these 8, the classifier correctly predicted 8 of them as 1(Good), and Zero of them as 0(Bad).This means that for 8 applicants, the actual Good value was 1(Good), in the test set, and the classifier also correctly predicted those as 1(Good).There were no false positives. What about the applicants that were given a Bad score of zero(applicants who were involuntarily discharged with a negative experince in the program)? Let’s look at the second row. It looks like there were 8 applicants whose Bad value was scored correctly with 0(bad).This means that for 8 applicants, the actual score was 0(bad), in the test set, and the classifier correctly predicted those as 0(bad). There were no false negatives.    "
   ]
  },
  {
   "cell_type": "code",
   "execution_count": 161,
   "id": "9da63b90-a38b-4401-abd1-3e2d9414e91b",
   "metadata": {},
   "outputs": [
    {
     "data": {
      "text/plain": [
       "Index(['Youth ID', 'Sex', 'Current Age', 'Parent', 'PN', 'RC', 'median',\n",
       "       'mean', 'sum', 'Class'],\n",
       "      dtype='object')"
      ]
     },
     "execution_count": 161,
     "metadata": {},
     "output_type": "execute_result"
    }
   ],
   "source": [
    "big_raw_data.columns"
   ]
  },
  {
   "cell_type": "code",
   "execution_count": 162,
   "id": "61fcfcae-9d3f-480c-bcb8-1569199f0bbe",
   "metadata": {},
   "outputs": [],
   "source": [
    "new_input = [[24, 0, 18, 1, 3, 4, 0.65,0.75,0.65]]"
   ]
  },
  {
   "cell_type": "code",
   "execution_count": 163,
   "id": "abaf19cb-4f8b-4d48-adcb-bcea847cc7fe",
   "metadata": {},
   "outputs": [],
   "source": [
    "#get perdiction from new input\n",
    "new_output=svm_cv.predict(new_input)"
   ]
  },
  {
   "cell_type": "code",
   "execution_count": 164,
   "id": "938657b2-025a-45fa-a08e-9da9e7c1fea0",
   "metadata": {},
   "outputs": [
    {
     "name": "stdout",
     "output_type": "stream",
     "text": [
      "[[24, 0, 18, 1, 3, 4, 0.65, 0.75, 0.65]] [1]\n"
     ]
    }
   ],
   "source": [
    "#Summarize input and output  \n",
    "print(new_input, new_output)"
   ]
  },
  {
   "cell_type": "markdown",
   "id": "7efb8a7e-7143-415e-8a71-b0bd036a8dc2",
   "metadata": {},
   "source": [
    "With these scores (above) it would seem that this applicant will be in the program until the duration.  "
   ]
  },
  {
   "cell_type": "code",
   "execution_count": 165,
   "id": "d9b54ab9-56b4-4853-860e-5ac8e61e0eb6",
   "metadata": {},
   "outputs": [
    {
     "data": {
      "text/plain": [
       "Index(['Youth ID', 'Sex', 'Current Age', 'Parent', 'PN', 'RC', 'median',\n",
       "       'mean', 'sum', 'Class'],\n",
       "      dtype='object')"
      ]
     },
     "execution_count": 165,
     "metadata": {},
     "output_type": "execute_result"
    }
   ],
   "source": [
    "big_raw_data.columns"
   ]
  },
  {
   "cell_type": "markdown",
   "id": "4c5c76fa-fd6f-4a4b-905b-7d28ee5c215f",
   "metadata": {},
   "source": [
    "********************************************************************************************************************"
   ]
  },
  {
   "cell_type": "markdown",
   "id": "02dc51fa-3707-44d8-89f0-0346c7f933b3",
   "metadata": {},
   "source": [
    " Create a decision tree classifier object then  create a  <code>GridSearchCV</code> object  <code>tree_cv</code> with cv = 10.  Fit the object to find the best parameters from the dictionary <code>parameters</code>."
   ]
  },
  {
   "cell_type": "code",
   "execution_count": 166,
   "id": "7a0c5249-e699-4c3b-a3fe-356251f69c0e",
   "metadata": {},
   "outputs": [],
   "source": [
    " #parameters prior to change\n",
    "parameters1 = {'criterion': ['gini', 'entropy'],\n",
    "     'splitter': ['best', 'random'],\n",
    "     'max_depth': [2*n for n in range(1,10)],\n",
    "     'max_features': ['auto', 'sqrt'],\n",
    "     'min_samples_leaf': [1, 2, 4],\n",
    "     'min_samples_split': [2, 5, 10]}\n",
    "\n",
    "tree = DecisionTreeClassifier()\n",
    "\n"
   ]
  },
  {
   "cell_type": "code",
   "execution_count": 167,
   "id": "1ff8ea66-217a-4f6a-84a1-804012bf401b",
   "metadata": {
    "tags": []
   },
   "outputs": [
    {
     "data": {
      "text/plain": [
       "DecisionTreeClassifier()"
      ]
     },
     "execution_count": 167,
     "metadata": {},
     "output_type": "execute_result"
    }
   ],
   "source": [
    "#Changed parameters to test best parameters\n",
    "parameters = {'criterion': ['entropy'],\n",
    "     'splitter': ['random'],\n",
    "     'max_depth': [16],\n",
    "     'max_features': ['sqrt'],\n",
    "     'min_samples_leaf': [ 4],\n",
    "     'min_samples_split': [10]}\n",
    "\n",
    "tree = DecisionTreeClassifier()\n",
    "tree"
   ]
  },
  {
   "cell_type": "code",
   "execution_count": 168,
   "id": "b1d0a127-b6d0-4e4f-b9c3-2ee7848f940b",
   "metadata": {},
   "outputs": [],
   "source": [
    "#create a GridSearchCV object tree_cv with cv = 10. Fit the object to find the best parameters from the dictionary parameters\n",
    "grid_search = GridSearchCV(tree, parameters1, cv=10)\n",
    "tree_cv = grid_search.fit(X_train, Y_train)"
   ]
  },
  {
   "cell_type": "code",
   "execution_count": 169,
   "id": "59da82a3-2ff7-4a36-b5a8-41333be87c0c",
   "metadata": {},
   "outputs": [
    {
     "name": "stdout",
     "output_type": "stream",
     "text": [
      "tuned hpyerparameters :(best parameters)  {'criterion': 'gini', 'max_depth': 4, 'max_features': 'auto', 'min_samples_leaf': 1, 'min_samples_split': 2, 'splitter': 'best'}\n",
      "accuracy : 1.0\n"
     ]
    }
   ],
   "source": [
    "print(\"tuned hpyerparameters :(best parameters) \",tree_cv.best_params_)\n",
    "print(\"accuracy :\",tree_cv.best_score_)"
   ]
  },
  {
   "cell_type": "markdown",
   "id": "2b1ba8dc-b3bd-4b56-9f02-17a99b15db8e",
   "metadata": {},
   "source": [
    "Calculate the accuracy of tree_cv on the test data using the method <code>score</code>:\n"
   ]
  },
  {
   "cell_type": "code",
   "execution_count": 170,
   "id": "0f60a2dd-e994-49c1-abc6-f100fd25fdde",
   "metadata": {},
   "outputs": [
    {
     "data": {
      "text/plain": [
       "1.0"
      ]
     },
     "execution_count": 170,
     "metadata": {},
     "output_type": "execute_result"
    }
   ],
   "source": [
    "tree_cv.score(X_test, Y_test)"
   ]
  },
  {
   "cell_type": "code",
   "execution_count": 171,
   "id": "29a97d39-443a-4294-a9ef-214dbda0e940",
   "metadata": {},
   "outputs": [
    {
     "data": {
      "image/png": "[encoded data removed]",
      "text/plain": [
       "<Figure size 432x288 with 2 Axes>"
      ]
     },
     "metadata": {
      "needs_background": "light"
     },
     "output_type": "display_data"
    }
   ],
   "source": [
    "yhat = tree_cv.predict(X_test)\n",
    "plot_confusion_matrix(Y_test,yhat)"
   ]
  },
  {
   "cell_type": "markdown",
   "id": "657034ef-cdea-48b1-bb9a-712bacf22bd9",
   "metadata": {},
   "source": [
    "Tree-Out of 16 applicants, 8 of them scored 1(Good,applicants who had a positive experince with the program). Out of these 8, the classifier correctly predicted 8 of them as 1(Good), and Zero of them as 0(Bad).This means that for 8 applicants, the actual Good value was 1(Good), in the test set, and the classifier also correctly predicted those as 1(Good).There were no false positives. What about the applicants that were given a Bad score of zero(applicants who were involuntarily discharged with a negative experince in the program)? Let’s look at the second row. It looks like there were 8 applicants whose Bad value was scored correctly with 0(bad).This means that for 8 applicants, the actual score was 0(bad), in the test set, and the classifier correctly predicted those as 0(bad). There were no false negatives.    "
   ]
  },
  {
   "cell_type": "markdown",
   "id": "26b54568-7c36-4790-ac63-5caac30b3583",
   "metadata": {},
   "source": [
    "*****************************************************************************************************************\n",
    "\n"
   ]
  },
  {
   "cell_type": "markdown",
   "id": "1f816f2b-26e0-478a-b16b-f2526ce1c416",
   "metadata": {},
   "source": [
    "Create a k nearest neighbors object then  create a  <code>GridSearchCV</code> object  <code>knn_cv</code> with cv = 10.  Fit the object to find the best parameters from the dictionary <code>parameters</code>.\n"
   ]
  },
  {
   "cell_type": "code",
   "execution_count": 172,
   "id": "17d0728e-fde8-4e0f-98a4-5c10a78a8aaf",
   "metadata": {},
   "outputs": [],
   "source": [
    "#Create a k nearest neighbors object\n",
    "parameters = {'n_neighbors': [1, 2, 3, 4, 5, 6, 7, 8, 9, 10],\n",
    "              'algorithm': ['auto', 'ball_tree', 'kd_tree', 'brute'],\n",
    "              'p': [1,2]}\n",
    "\n",
    "KNN = KNeighborsClassifier()"
   ]
  },
  {
   "cell_type": "code",
   "execution_count": 173,
   "id": "418245d0-c800-4755-b35a-59e413d8d833",
   "metadata": {},
   "outputs": [],
   "source": [
    "#create a GridSearchCV object knn_cv with cv = 10. Fit the object to find the best parameters from the dictionary parameters.\n",
    "grid_search = GridSearchCV(KNN, parameters, cv=10)\n",
    "knn_cv = grid_search.fit(X_train, Y_train)"
   ]
  },
  {
   "cell_type": "code",
   "execution_count": 174,
   "id": "dc0d65b3-ad54-4c1d-84b9-7a8c31c651d2",
   "metadata": {},
   "outputs": [
    {
     "name": "stdout",
     "output_type": "stream",
     "text": [
      "tuned hpyerparameters :(best parameters)  {'algorithm': 'auto', 'n_neighbors': 1, 'p': 1}\n",
      "accuracy : 1.0\n"
     ]
    }
   ],
   "source": [
    " print(\"tuned hpyerparameters :(best parameters) \",knn_cv.best_params_)\n",
    "print(\"accuracy :\",knn_cv.best_score_)"
   ]
  },
  {
   "cell_type": "code",
   "execution_count": 175,
   "id": "8f5ff127-ac60-4662-8297-48aa6d5c03e9",
   "metadata": {},
   "outputs": [
    {
     "data": {
      "text/plain": [
       "1.0"
      ]
     },
     "execution_count": 175,
     "metadata": {},
     "output_type": "execute_result"
    }
   ],
   "source": [
    " #Calculate the accuracy of knn_cv on the test data using the method score\n",
    "\n",
    "knn_cv.score(X_test, Y_test)"
   ]
  },
  {
   "cell_type": "code",
   "execution_count": 176,
   "id": "560f7b83-7044-4321-9a50-7ebbc24ec504",
   "metadata": {},
   "outputs": [
    {
     "data": {
      "image/png": "[encoded data removed]",
      "text/plain": [
       "<Figure size 432x288 with 2 Axes>"
      ]
     },
     "metadata": {
      "needs_background": "light"
     },
     "output_type": "display_data"
    }
   ],
   "source": [
    "yhat = knn_cv.predict(X_test)\n",
    "plot_confusion_matrix(Y_test,yhat)"
   ]
  },
  {
   "cell_type": "markdown",
   "id": "c27d27f7-d3d8-425c-b39c-64f6947699fd",
   "metadata": {},
   "source": [
    "knn-Out of 16 applicants, 8 of them scored 1(Good,applicants who had a positive experince with the program). Out of these 8, the classifier correctly predicted 8 of them as 1(Good), and Zero of them as 0(Bad).This means that for 8 applicants, the actual Good value was 1(Good), in the test set, and the classifier also correctly predicted those as 1(Good).There were no false positives. What about the applicants that were given a Bad score of zero(applicants who were involuntarily discharged with a negative experince in the program)? Let’s look at the second row. It looks like there were 8 applicants whose Bad value was scored correctly with 0(bad).This means that for 8 applicants, the actual score was 0(bad), in the test set, and the classifier correctly predicted those as 0(bad). There were no false negatives.    "
   ]
  },
  {
   "cell_type": "markdown",
   "id": "a3d17349-071e-4df9-9ebb-a796977f6b53",
   "metadata": {},
   "source": [
    "Find the method that performs the best"
   ]
  },
  {
   "cell_type": "code",
   "execution_count": 177,
   "id": "7a69e0e7-284b-4800-a7e6-359aa6f26263",
   "metadata": {},
   "outputs": [
    {
     "name": "stdout",
     "output_type": "stream",
     "text": [
      "Accuracy for Logistics Regression method: 0.8125\n",
      "Accuracy for Support Vector Machine method: 1.0\n",
      "Accuracy for Decision tree method: 1.0\n",
      "Accuracy for K nearest neighbors method: 1.0\n"
     ]
    }
   ],
   "source": [
    "print('Accuracy for Logistics Regression method:', logreg_cv.score(X_test, Y_test))\n",
    "print( 'Accuracy for Support Vector Machine method:', svm_cv.score(X_test, Y_test))\n",
    "print('Accuracy for Decision tree method:', tree_cv.score(X_test, Y_test))\n",
    "print('Accuracy for K nearest neighbors method:', knn_cv.score(X_test, Y_test))"
   ]
  },
  {
   "cell_type": "code",
   "execution_count": 181,
   "id": "61589320-8920-484f-9e31-d315c2da1766",
   "metadata": {},
   "outputs": [
    {
     "data": {
      "text/html": [
       "<div>\n",
       "<style scoped>\n",
       "    .dataframe tbody tr th:only-of-type {\n",
       "        vertical-align: middle;\n",
       "    }\n",
       "\n",
       "    .dataframe tbody tr th {\n",
       "        vertical-align: top;\n",
       "    }\n",
       "\n",
       "    .dataframe thead th {\n",
       "        text-align: right;\n",
       "    }\n",
       "</style>\n",
       "<table border=\"1\" class=\"dataframe\">\n",
       "  <thead>\n",
       "    <tr style=\"text-align: right;\">\n",
       "      <th></th>\n",
       "      <th>Metric</th>\n",
       "      <th>Accuracy Score</th>\n",
       "    </tr>\n",
       "  </thead>\n",
       "  <tbody>\n",
       "    <tr>\n",
       "      <th>0</th>\n",
       "      <td>LogisR</td>\n",
       "      <td>0.8125</td>\n",
       "    </tr>\n",
       "    <tr>\n",
       "      <th>1</th>\n",
       "      <td>SVM</td>\n",
       "      <td>1.0000</td>\n",
       "    </tr>\n",
       "    <tr>\n",
       "      <th>2</th>\n",
       "      <td>DTree</td>\n",
       "      <td>1.0000</td>\n",
       "    </tr>\n",
       "    <tr>\n",
       "      <th>3</th>\n",
       "      <td>KNN</td>\n",
       "      <td>1.0000</td>\n",
       "    </tr>\n",
       "  </tbody>\n",
       "</table>\n",
       "</div>"
      ],
      "text/plain": [
       "   Metric  Accuracy Score\n",
       "0  LogisR          0.8125\n",
       "1     SVM          1.0000\n",
       "2   DTree          1.0000\n",
       "3     KNN          1.0000"
      ]
     },
     "execution_count": 181,
     "metadata": {},
     "output_type": "execute_result"
    }
   ],
   "source": [
    "AccuracyScore=[0.8125,1.0,1.0,1.0]\n",
    "Metric=['LogisR','SVM','DTree','KNN']\n",
    "Accuracy_Metrics={'Metric':Metric,'Accuracy Score':AccuracyScore}\n",
    "Metrics_df=pd.DataFrame(Accuracy_Metrics)\n",
    "Metrics_df"
   ]
  },
  {
   "cell_type": "code",
   "execution_count": 182,
   "id": "7f00981e-9e82-4f3f-bf03-0946f91f4b13",
   "metadata": {},
   "outputs": [
    {
     "data": {
      "image/png": "[encoded data removed]",
      "text/plain": [
       "<Figure size 432x288 with 1 Axes>"
      ]
     },
     "metadata": {
      "needs_background": "light"
     },
     "output_type": "display_data"
    }
   ],
   "source": [
    "plt.bar(Metric,AccuracyScore, color ='maroon',width = 0.4 )\n",
    "plt.xlabel(\"Metric\")\n",
    "plt.ylabel(\"Accuracy Score\")\n",
    "plt.show()"
   ]
  },
  {
   "cell_type": "markdown",
   "id": "f3f52cde-09d5-40d0-9e27-fdf8dda9ab2c",
   "metadata": {},
   "source": [
    " "
   ]
  },
  {
   "cell_type": "markdown",
   "id": "5eae5c17-f493-41f8-9c70-17c7a0474afe",
   "metadata": {},
   "source": [
    " "
   ]
  },
  {
   "cell_type": "code",
   "execution_count": null,
   "id": "71fcfac3-3ec8-4aef-a479-e1c14473dd24",
   "metadata": {},
   "outputs": [],
   "source": []
  }
 ],
 "metadata": {
  "kernelspec": {
   "display_name": "Python 3 (ipykernel)",
   "language": "python",
   "name": "python3"
  },
  "language_info": {
   "codemirror_mode": {
    "name": "ipython",
    "version": 3
   },
   "file_extension": ".py",
   "mimetype": "text/x-python",
   "name": "python",
   "nbconvert_exporter": "python",
   "pygments_lexer": "ipython3",
   "version": "3.9.12"
  }
 },
 "nbformat": 4,
 "nbformat_minor": 5
}
