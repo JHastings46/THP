{
 "cells": [
  {
   "cell_type": "code",
   "execution_count": 1,
   "id": "06137994",
   "metadata": {},
   "outputs": [],
   "source": [
    "# Pandas is a software library written for the Python programming language for data manipulation and analysis.\n",
    "import pandas as pd\n",
    "# NumPy is a library for the Python programming language, adding support for large, multi-dimensional arrays and matrices, along with a large collection of high-level mathematical functions to operate on these arrays\n",
    "import numpy as np\n",
    "# Matplotlib is a plotting library for python and pyplot gives us a MatLab like plotting framework. We will use this in our plotter function to plot data.\n",
    "import matplotlib.pyplot as plt\n",
    "#Seaborn is a Python data visualization library based on matplotlib. It provides a high-level interface for drawing attractive and informative statistical graphics\n",
    "import seaborn as sns\n",
    "# Preprocessing allows us to standarsize our data\n",
    "from sklearn import preprocessing\n",
    "# Allows us to split our data into training and testing data\n",
    "from sklearn.model_selection import train_test_split\n",
    "# Allows us to test parameters of classification algorithms and find the best one\n",
    "from sklearn.model_selection import GridSearchCV\n",
    "# Logistic Regression classification algorithm\n",
    "from sklearn.linear_model import LogisticRegression\n",
    "# Support Vector Machine classification algorithm\n",
    "from sklearn.svm import SVC\n",
    "# Decision Tree classification algorithm\n",
    "from sklearn import metrics\n",
    "import matplotlib.pyplot as plt\n",
    "from sklearn.tree import DecisionTreeClassifier\n",
    "# K Nearest Neighbors classification algorithm\n",
    "from sklearn.neighbors import KNeighborsClassifier"
   ]
  },
  {
   "cell_type": "code",
   "execution_count": 2,
   "id": "4f84d907",
   "metadata": {},
   "outputs": [],
   "source": [
    "df=pd.read_csv(\"/Users/oakmoreroadinc./Desktop/Data Science /Portfolio Data Science /After exploring THP/thp_explored.csv\",index_col=0)"
   ]
  },
  {
   "cell_type": "code",
   "execution_count": 35,
   "id": "5d9669e6",
   "metadata": {},
   "outputs": [
    {
     "data": {
      "text/html": [
       "<div>\n",
       "<style scoped>\n",
       "    .dataframe tbody tr th:only-of-type {\n",
       "        vertical-align: middle;\n",
       "    }\n",
       "\n",
       "    .dataframe tbody tr th {\n",
       "        vertical-align: top;\n",
       "    }\n",
       "\n",
       "    .dataframe thead th {\n",
       "        text-align: right;\n",
       "    }\n",
       "</style>\n",
       "<table border=\"1\" class=\"dataframe\">\n",
       "  <thead>\n",
       "    <tr style=\"text-align: right;\">\n",
       "      <th></th>\n",
       "      <th>Youth ID</th>\n",
       "      <th>Gender</th>\n",
       "      <th>PWS</th>\n",
       "      <th>DL</th>\n",
       "      <th>SC</th>\n",
       "      <th>RC</th>\n",
       "      <th>HMM</th>\n",
       "      <th>WSL</th>\n",
       "      <th>CEP</th>\n",
       "      <th>LF</th>\n",
       "      <th>grand_total</th>\n",
       "      <th>Days_in_Program</th>\n",
       "      <th>Category</th>\n",
       "      <th>result_score</th>\n",
       "      <th>fraud_alert</th>\n",
       "      <th>row_std</th>\n",
       "    </tr>\n",
       "  </thead>\n",
       "  <tbody>\n",
       "    <tr>\n",
       "      <th>0</th>\n",
       "      <td>1</td>\n",
       "      <td>M</td>\n",
       "      <td>-0.590365</td>\n",
       "      <td>0.042684</td>\n",
       "      <td>-0.092478</td>\n",
       "      <td>-0.656277</td>\n",
       "      <td>0.082394</td>\n",
       "      <td>-0.326418</td>\n",
       "      <td>1.196633</td>\n",
       "      <td>0.830634</td>\n",
       "      <td>0.486806</td>\n",
       "      <td>-0.703683</td>\n",
       "      <td>Good</td>\n",
       "      <td>0</td>\n",
       "      <td>0.132497</td>\n",
       "      <td>0.396010</td>\n",
       "    </tr>\n",
       "    <tr>\n",
       "      <th>1</th>\n",
       "      <td>2</td>\n",
       "      <td>M</td>\n",
       "      <td>-0.289815</td>\n",
       "      <td>-0.048471</td>\n",
       "      <td>0.121325</td>\n",
       "      <td>0.420427</td>\n",
       "      <td>-0.289400</td>\n",
       "      <td>0.160888</td>\n",
       "      <td>0.120688</td>\n",
       "      <td>-1.156075</td>\n",
       "      <td>-0.960433</td>\n",
       "      <td>0.010385</td>\n",
       "      <td>Good</td>\n",
       "      <td>0</td>\n",
       "      <td>-0.128074</td>\n",
       "      <td>-0.058791</td>\n",
       "    </tr>\n",
       "    <tr>\n",
       "      <th>2</th>\n",
       "      <td>3</td>\n",
       "      <td>M</td>\n",
       "      <td>0.161009</td>\n",
       "      <td>0.316148</td>\n",
       "      <td>-0.306282</td>\n",
       "      <td>0.420427</td>\n",
       "      <td>-0.175002</td>\n",
       "      <td>0.485759</td>\n",
       "      <td>0.132643</td>\n",
       "      <td>-0.162721</td>\n",
       "      <td>0.871981</td>\n",
       "      <td>-1.459962</td>\n",
       "      <td>Bad</td>\n",
       "      <td>1</td>\n",
       "      <td>0.118902</td>\n",
       "      <td>-0.176521</td>\n",
       "    </tr>\n",
       "    <tr>\n",
       "      <th>3</th>\n",
       "      <td>4</td>\n",
       "      <td>M</td>\n",
       "      <td>-0.966051</td>\n",
       "      <td>-3.345231</td>\n",
       "      <td>-3.121361</td>\n",
       "      <td>-1.852614</td>\n",
       "      <td>-2.591658</td>\n",
       "      <td>-2.600515</td>\n",
       "      <td>-2.258345</td>\n",
       "      <td>-2.646107</td>\n",
       "      <td>-19.381884</td>\n",
       "      <td>1.561637</td>\n",
       "      <td>Good</td>\n",
       "      <td>0</td>\n",
       "      <td>-2.720186</td>\n",
       "      <td>1.507556</td>\n",
       "    </tr>\n",
       "    <tr>\n",
       "      <th>4</th>\n",
       "      <td>5</td>\n",
       "      <td>F</td>\n",
       "      <td>1.062656</td>\n",
       "      <td>0.407302</td>\n",
       "      <td>0.531115</td>\n",
       "      <td>0.540061</td>\n",
       "      <td>-0.789891</td>\n",
       "      <td>0.566977</td>\n",
       "      <td>0.933624</td>\n",
       "      <td>0.830634</td>\n",
       "      <td>4.082479</td>\n",
       "      <td>-0.784587</td>\n",
       "      <td>Bad</td>\n",
       "      <td>1</td>\n",
       "      <td>0.565271</td>\n",
       "      <td>0.802777</td>\n",
       "    </tr>\n",
       "    <tr>\n",
       "      <th>5</th>\n",
       "      <td>6</td>\n",
       "      <td>M</td>\n",
       "      <td>0.461558</td>\n",
       "      <td>0.224993</td>\n",
       "      <td>0.335128</td>\n",
       "      <td>0.540061</td>\n",
       "      <td>0.268290</td>\n",
       "      <td>0.079671</td>\n",
       "      <td>-0.130366</td>\n",
       "      <td>0.075684</td>\n",
       "      <td>1.855020</td>\n",
       "      <td>0.108877</td>\n",
       "      <td>Bad</td>\n",
       "      <td>1</td>\n",
       "      <td>0.234460</td>\n",
       "      <td>-0.236962</td>\n",
       "    </tr>\n",
       "    <tr>\n",
       "      <th>6</th>\n",
       "      <td>7</td>\n",
       "      <td>M</td>\n",
       "      <td>-1.041189</td>\n",
       "      <td>0.133838</td>\n",
       "      <td>0.638017</td>\n",
       "      <td>-0.393082</td>\n",
       "      <td>-0.289400</td>\n",
       "      <td>-0.407636</td>\n",
       "      <td>-0.799843</td>\n",
       "      <td>-1.156075</td>\n",
       "      <td>-3.315369</td>\n",
       "      <td>0.661137</td>\n",
       "      <td>Good</td>\n",
       "      <td>0</td>\n",
       "      <td>-0.479278</td>\n",
       "      <td>0.794263</td>\n",
       "    </tr>\n",
       "    <tr>\n",
       "      <th>7</th>\n",
       "      <td>8</td>\n",
       "      <td>M</td>\n",
       "      <td>1.212931</td>\n",
       "      <td>0.346532</td>\n",
       "      <td>0.851820</td>\n",
       "      <td>0.946816</td>\n",
       "      <td>0.711582</td>\n",
       "      <td>0.875605</td>\n",
       "      <td>0.933624</td>\n",
       "      <td>0.830634</td>\n",
       "      <td>6.709544</td>\n",
       "      <td>-0.985089</td>\n",
       "      <td>Bad</td>\n",
       "      <td>1</td>\n",
       "      <td>0.939134</td>\n",
       "      <td>-0.738686</td>\n",
       "    </tr>\n",
       "    <tr>\n",
       "      <th>8</th>\n",
       "      <td>9</td>\n",
       "      <td>M</td>\n",
       "      <td>-1.792562</td>\n",
       "      <td>-2.099451</td>\n",
       "      <td>-0.929876</td>\n",
       "      <td>-1.445859</td>\n",
       "      <td>-0.932888</td>\n",
       "      <td>-2.113208</td>\n",
       "      <td>-1.194356</td>\n",
       "      <td>-1.156075</td>\n",
       "      <td>-11.664275</td>\n",
       "      <td>-0.074037</td>\n",
       "      <td>Bad</td>\n",
       "      <td>1</td>\n",
       "      <td>-1.639384</td>\n",
       "      <td>0.591263</td>\n",
       "    </tr>\n",
       "    <tr>\n",
       "      <th>9</th>\n",
       "      <td>10</td>\n",
       "      <td>F</td>\n",
       "      <td>0.837244</td>\n",
       "      <td>-0.048471</td>\n",
       "      <td>-0.306282</td>\n",
       "      <td>0.803255</td>\n",
       "      <td>-0.175002</td>\n",
       "      <td>-0.570071</td>\n",
       "      <td>-0.931347</td>\n",
       "      <td>0.592228</td>\n",
       "      <td>0.201555</td>\n",
       "      <td>0.042043</td>\n",
       "      <td>Bad</td>\n",
       "      <td>1</td>\n",
       "      <td>-0.060099</td>\n",
       "      <td>1.164915</td>\n",
       "    </tr>\n",
       "    <tr>\n",
       "      <th>10</th>\n",
       "      <td>11</td>\n",
       "      <td>M</td>\n",
       "      <td>-1.266601</td>\n",
       "      <td>-0.671361</td>\n",
       "      <td>-1.036777</td>\n",
       "      <td>-1.852614</td>\n",
       "      <td>-0.475296</td>\n",
       "      <td>-1.057378</td>\n",
       "      <td>-0.931347</td>\n",
       "      <td>0.333956</td>\n",
       "      <td>-6.957418</td>\n",
       "      <td>0.858121</td>\n",
       "      <td>Good</td>\n",
       "      <td>0</td>\n",
       "      <td>-0.959634</td>\n",
       "      <td>0.541326</td>\n",
       "    </tr>\n",
       "    <tr>\n",
       "      <th>11</th>\n",
       "      <td>12</td>\n",
       "      <td>M</td>\n",
       "      <td>0.536695</td>\n",
       "      <td>0.665574</td>\n",
       "      <td>0.442030</td>\n",
       "      <td>0.540061</td>\n",
       "      <td>0.268290</td>\n",
       "      <td>0.404542</td>\n",
       "      <td>0.527156</td>\n",
       "      <td>0.592228</td>\n",
       "      <td>3.976577</td>\n",
       "      <td>0.027973</td>\n",
       "      <td>Bad</td>\n",
       "      <td>1</td>\n",
       "      <td>0.553942</td>\n",
       "      <td>-0.449831</td>\n",
       "    </tr>\n",
       "    <tr>\n",
       "      <th>12</th>\n",
       "      <td>13</td>\n",
       "      <td>F</td>\n",
       "      <td>0.236146</td>\n",
       "      <td>0.133838</td>\n",
       "      <td>0.638017</td>\n",
       "      <td>0.157233</td>\n",
       "      <td>-0.289400</td>\n",
       "      <td>0.810630</td>\n",
       "      <td>-0.130366</td>\n",
       "      <td>0.592228</td>\n",
       "      <td>2.148327</td>\n",
       "      <td>1.202844</td>\n",
       "      <td>Good</td>\n",
       "      <td>0</td>\n",
       "      <td>0.261650</td>\n",
       "      <td>0.406749</td>\n",
       "    </tr>\n",
       "    <tr>\n",
       "      <th>13</th>\n",
       "      <td>14</td>\n",
       "      <td>F</td>\n",
       "      <td>1.212931</td>\n",
       "      <td>0.756728</td>\n",
       "      <td>0.958722</td>\n",
       "      <td>0.946816</td>\n",
       "      <td>1.569567</td>\n",
       "      <td>0.729413</td>\n",
       "      <td>1.196633</td>\n",
       "      <td>0.830634</td>\n",
       "      <td>8.201443</td>\n",
       "      <td>-0.840869</td>\n",
       "      <td>Good</td>\n",
       "      <td>0</td>\n",
       "      <td>1.179312</td>\n",
       "      <td>-1.342348</td>\n",
       "    </tr>\n",
       "    <tr>\n",
       "      <th>14</th>\n",
       "      <td>15</td>\n",
       "      <td>M</td>\n",
       "      <td>-0.364953</td>\n",
       "      <td>0.042684</td>\n",
       "      <td>0.014423</td>\n",
       "      <td>-0.249522</td>\n",
       "      <td>-0.675493</td>\n",
       "      <td>-0.326418</td>\n",
       "      <td>0.001139</td>\n",
       "      <td>-0.917670</td>\n",
       "      <td>-2.475810</td>\n",
       "      <td>1.976711</td>\n",
       "      <td>Good</td>\n",
       "      <td>0</td>\n",
       "      <td>-0.327467</td>\n",
       "      <td>-0.007717</td>\n",
       "    </tr>\n",
       "    <tr>\n",
       "      <th>15</th>\n",
       "      <td>16</td>\n",
       "      <td>F</td>\n",
       "      <td>1.137794</td>\n",
       "      <td>0.847883</td>\n",
       "      <td>0.851820</td>\n",
       "      <td>0.803255</td>\n",
       "      <td>1.440869</td>\n",
       "      <td>1.135501</td>\n",
       "      <td>1.196633</td>\n",
       "      <td>0.830634</td>\n",
       "      <td>8.244389</td>\n",
       "      <td>-1.083581</td>\n",
       "      <td>Good</td>\n",
       "      <td>0</td>\n",
       "      <td>1.190641</td>\n",
       "      <td>-1.594021</td>\n",
       "    </tr>\n",
       "    <tr>\n",
       "      <th>16</th>\n",
       "      <td>17</td>\n",
       "      <td>M</td>\n",
       "      <td>-0.890914</td>\n",
       "      <td>0.316148</td>\n",
       "      <td>-0.929876</td>\n",
       "      <td>-0.919471</td>\n",
       "      <td>-0.475296</td>\n",
       "      <td>-0.326418</td>\n",
       "      <td>-1.062851</td>\n",
       "      <td>0.333956</td>\n",
       "      <td>-3.954722</td>\n",
       "      <td>-0.717753</td>\n",
       "      <td>Good</td>\n",
       "      <td>0</td>\n",
       "      <td>-0.576708</td>\n",
       "      <td>0.963960</td>\n",
       "    </tr>\n",
       "    <tr>\n",
       "      <th>17</th>\n",
       "      <td>18</td>\n",
       "      <td>M</td>\n",
       "      <td>1.212931</td>\n",
       "      <td>0.847883</td>\n",
       "      <td>0.958722</td>\n",
       "      <td>0.946816</td>\n",
       "      <td>1.569567</td>\n",
       "      <td>1.135501</td>\n",
       "      <td>1.196633</td>\n",
       "      <td>0.830634</td>\n",
       "      <td>8.698687</td>\n",
       "      <td>-1.139863</td>\n",
       "      <td>Bad</td>\n",
       "      <td>1</td>\n",
       "      <td>1.249553</td>\n",
       "      <td>-1.773128</td>\n",
       "    </tr>\n",
       "    <tr>\n",
       "      <th>18</th>\n",
       "      <td>19</td>\n",
       "      <td>F</td>\n",
       "      <td>-1.191463</td>\n",
       "      <td>0.422495</td>\n",
       "      <td>0.566749</td>\n",
       "      <td>0.946816</td>\n",
       "      <td>0.282590</td>\n",
       "      <td>0.453272</td>\n",
       "      <td>-0.668338</td>\n",
       "      <td>0.254488</td>\n",
       "      <td>1.066608</td>\n",
       "      <td>-0.742376</td>\n",
       "      <td>Good</td>\n",
       "      <td>0</td>\n",
       "      <td>0.055459</td>\n",
       "      <td>1.281334</td>\n",
       "    </tr>\n",
       "    <tr>\n",
       "      <th>19</th>\n",
       "      <td>20</td>\n",
       "      <td>M</td>\n",
       "      <td>1.212931</td>\n",
       "      <td>0.847883</td>\n",
       "      <td>0.958722</td>\n",
       "      <td>0.946816</td>\n",
       "      <td>1.569567</td>\n",
       "      <td>1.135501</td>\n",
       "      <td>1.196633</td>\n",
       "      <td>0.830634</td>\n",
       "      <td>8.698687</td>\n",
       "      <td>0.601338</td>\n",
       "      <td>Bad</td>\n",
       "      <td>1</td>\n",
       "      <td>1.249553</td>\n",
       "      <td>-1.773128</td>\n",
       "    </tr>\n",
       "    <tr>\n",
       "      <th>20</th>\n",
       "      <td>21</td>\n",
       "      <td>M</td>\n",
       "      <td>-0.890914</td>\n",
       "      <td>-0.139626</td>\n",
       "      <td>-1.143679</td>\n",
       "      <td>-1.589420</td>\n",
       "      <td>-0.603994</td>\n",
       "      <td>-0.245200</td>\n",
       "      <td>-0.524879</td>\n",
       "      <td>-1.394480</td>\n",
       "      <td>-6.532192</td>\n",
       "      <td>1.480733</td>\n",
       "      <td>Good</td>\n",
       "      <td>0</td>\n",
       "      <td>-0.839545</td>\n",
       "      <td>-0.299021</td>\n",
       "    </tr>\n",
       "  </tbody>\n",
       "</table>\n",
       "</div>"
      ],
      "text/plain": [
       "    Youth ID Gender       PWS        DL        SC        RC       HMM  \\\n",
       "0          1      M -0.590365  0.042684 -0.092478 -0.656277  0.082394   \n",
       "1          2      M -0.289815 -0.048471  0.121325  0.420427 -0.289400   \n",
       "2          3      M  0.161009  0.316148 -0.306282  0.420427 -0.175002   \n",
       "3          4      M -0.966051 -3.345231 -3.121361 -1.852614 -2.591658   \n",
       "4          5      F  1.062656  0.407302  0.531115  0.540061 -0.789891   \n",
       "5          6      M  0.461558  0.224993  0.335128  0.540061  0.268290   \n",
       "6          7      M -1.041189  0.133838  0.638017 -0.393082 -0.289400   \n",
       "7          8      M  1.212931  0.346532  0.851820  0.946816  0.711582   \n",
       "8          9      M -1.792562 -2.099451 -0.929876 -1.445859 -0.932888   \n",
       "9         10      F  0.837244 -0.048471 -0.306282  0.803255 -0.175002   \n",
       "10        11      M -1.266601 -0.671361 -1.036777 -1.852614 -0.475296   \n",
       "11        12      M  0.536695  0.665574  0.442030  0.540061  0.268290   \n",
       "12        13      F  0.236146  0.133838  0.638017  0.157233 -0.289400   \n",
       "13        14      F  1.212931  0.756728  0.958722  0.946816  1.569567   \n",
       "14        15      M -0.364953  0.042684  0.014423 -0.249522 -0.675493   \n",
       "15        16      F  1.137794  0.847883  0.851820  0.803255  1.440869   \n",
       "16        17      M -0.890914  0.316148 -0.929876 -0.919471 -0.475296   \n",
       "17        18      M  1.212931  0.847883  0.958722  0.946816  1.569567   \n",
       "18        19      F -1.191463  0.422495  0.566749  0.946816  0.282590   \n",
       "19        20      M  1.212931  0.847883  0.958722  0.946816  1.569567   \n",
       "20        21      M -0.890914 -0.139626 -1.143679 -1.589420 -0.603994   \n",
       "\n",
       "         WSL       CEP        LF  grand_total  Days_in_Program Category  \\\n",
       "0  -0.326418  1.196633  0.830634     0.486806        -0.703683     Good   \n",
       "1   0.160888  0.120688 -1.156075    -0.960433         0.010385     Good   \n",
       "2   0.485759  0.132643 -0.162721     0.871981        -1.459962      Bad   \n",
       "3  -2.600515 -2.258345 -2.646107   -19.381884         1.561637     Good   \n",
       "4   0.566977  0.933624  0.830634     4.082479        -0.784587      Bad   \n",
       "5   0.079671 -0.130366  0.075684     1.855020         0.108877      Bad   \n",
       "6  -0.407636 -0.799843 -1.156075    -3.315369         0.661137     Good   \n",
       "7   0.875605  0.933624  0.830634     6.709544        -0.985089      Bad   \n",
       "8  -2.113208 -1.194356 -1.156075   -11.664275        -0.074037      Bad   \n",
       "9  -0.570071 -0.931347  0.592228     0.201555         0.042043      Bad   \n",
       "10 -1.057378 -0.931347  0.333956    -6.957418         0.858121     Good   \n",
       "11  0.404542  0.527156  0.592228     3.976577         0.027973      Bad   \n",
       "12  0.810630 -0.130366  0.592228     2.148327         1.202844     Good   \n",
       "13  0.729413  1.196633  0.830634     8.201443        -0.840869     Good   \n",
       "14 -0.326418  0.001139 -0.917670    -2.475810         1.976711     Good   \n",
       "15  1.135501  1.196633  0.830634     8.244389        -1.083581     Good   \n",
       "16 -0.326418 -1.062851  0.333956    -3.954722        -0.717753     Good   \n",
       "17  1.135501  1.196633  0.830634     8.698687        -1.139863      Bad   \n",
       "18  0.453272 -0.668338  0.254488     1.066608        -0.742376     Good   \n",
       "19  1.135501  1.196633  0.830634     8.698687         0.601338      Bad   \n",
       "20 -0.245200 -0.524879 -1.394480    -6.532192         1.480733     Good   \n",
       "\n",
       "    result_score  fraud_alert   row_std  \n",
       "0              0     0.132497  0.396010  \n",
       "1              0    -0.128074 -0.058791  \n",
       "2              1     0.118902 -0.176521  \n",
       "3              0    -2.720186  1.507556  \n",
       "4              1     0.565271  0.802777  \n",
       "5              1     0.234460 -0.236962  \n",
       "6              0    -0.479278  0.794263  \n",
       "7              1     0.939134 -0.738686  \n",
       "8              1    -1.639384  0.591263  \n",
       "9              1    -0.060099  1.164915  \n",
       "10             0    -0.959634  0.541326  \n",
       "11             1     0.553942 -0.449831  \n",
       "12             0     0.261650  0.406749  \n",
       "13             0     1.179312 -1.342348  \n",
       "14             0    -0.327467 -0.007717  \n",
       "15             0     1.190641 -1.594021  \n",
       "16             0    -0.576708  0.963960  \n",
       "17             1     1.249553 -1.773128  \n",
       "18             0     0.055459  1.281334  \n",
       "19             1     1.249553 -1.773128  \n",
       "20             0    -0.839545 -0.299021  "
      ]
     },
     "execution_count": 35,
     "metadata": {},
     "output_type": "execute_result"
    }
   ],
   "source": [
    "df.head(21)"
   ]
  },
  {
   "cell_type": "code",
   "execution_count": 4,
   "id": "b196adc9",
   "metadata": {},
   "outputs": [
    {
     "name": "stdout",
     "output_type": "stream",
     "text": [
      "0.999148058070389\n"
     ]
    }
   ],
   "source": [
    "print(df[\"grand_total\"].corr(df[\"fraud_alert\"]))"
   ]
  },
  {
   "cell_type": "code",
   "execution_count": 5,
   "id": "46dbe825",
   "metadata": {},
   "outputs": [
    {
     "data": {
      "image/png": "[encoded data removed]",
      "text/plain": [
       "<Figure size 640x480 with 1 Axes>"
      ]
     },
     "metadata": {},
     "output_type": "display_data"
    }
   ],
   "source": [
    "#linear regression with trendline.\n",
    "sns.regplot(x='grand_total', y=\"fraud_alert\", data=df, ci=None)\n",
    "plt.show()"
   ]
  },
  {
   "cell_type": "code",
   "execution_count": 7,
   "id": "ef69fd4c",
   "metadata": {},
   "outputs": [],
   "source": [
    "### Response variable = fraud_alert or y variable \n",
    "### Explanatory variable = grand_total or x variable \n",
    "\n",
    "#Estimate -2.7 as the intercept. \n",
    "## (0.5,3)\n",
    "## (-1.1,-11)\n",
    "\n",
    "\n",
    "## Change in Y values = 3 + 11 = 14\n",
    "## Change in X values = 0.5 + 1.1 = 1.6\n",
    "## Estimated slope = 14/1.6 = "
   ]
  },
  {
   "cell_type": "code",
   "execution_count": 6,
   "id": "1369ccdc",
   "metadata": {},
   "outputs": [
    {
     "data": {
      "text/plain": [
       "<statsmodels.regression.linear_model.OLS at 0x7fb1794ef490>"
      ]
     },
     "execution_count": 6,
     "metadata": {},
     "output_type": "execute_result"
    }
   ],
   "source": [
    "from statsmodels.formula.api import ols\n",
    "#create the model object\n",
    "mdl_fraud_vs_grand = ols(\"fraud_alert~grand_total\", data = df)\n",
    "mdl_fraud_vs_grand "
   ]
  },
  {
   "cell_type": "code",
   "execution_count": 7,
   "id": "b585523c",
   "metadata": {},
   "outputs": [
    {
     "name": "stdout",
     "output_type": "stream",
     "text": [
      "Intercept      4.092643e-11\n",
      "grand_total    1.405461e-01\n",
      "dtype: float64\n"
     ]
    }
   ],
   "source": [
    "## fit the new created model** mdl_fraud_vs_grand***\n",
    "mdl_fraud_vs_grand= mdl_fraud_vs_grand.fit()\n",
    "## calculate intercept & slope\n",
    "print(mdl_fraud_vs_grand.params)"
   ]
  },
  {
   "cell_type": "code",
   "execution_count": 10,
   "id": "c5f0db6e",
   "metadata": {},
   "outputs": [],
   "source": [
    "## fraud_alert =0+0.1405*grand_total \n",
    "### That means that we expect the 'fraud_alert' score to be 0 + 0.1405 times the 'grand_total'. \n",
    "## So, for every additional 'grand_total', we expect the 'fraud_alert' score to increase by 0.1405."
   ]
  },
  {
   "cell_type": "markdown",
   "id": "93615d64",
   "metadata": {},
   "source": [
    "## Categorical Explanatory variables \n"
   ]
  },
  {
   "cell_type": "code",
   "execution_count": 8,
   "id": "822550ec",
   "metadata": {
    "scrolled": false
   },
   "outputs": [
    {
     "data": {
      "image/png": "[encoded data removed]",
      "text/plain": [
       "<Figure size 1000x500 with 2 Axes>"
      ]
     },
     "metadata": {},
     "output_type": "display_data"
    }
   ],
   "source": [
    "sns.displot(data=df, x='Days_in_Program', col='Gender', col_wrap=2, bins=5)\n",
    "plt.show()"
   ]
  },
  {
   "cell_type": "code",
   "execution_count": 9,
   "id": "6f065c8d",
   "metadata": {},
   "outputs": [
    {
     "data": {
      "text/plain": [
       "Gender\n",
       "F   -0.367754\n",
       "M    0.147102\n",
       "Name: Days_in_Program, dtype: float64"
      ]
     },
     "execution_count": 9,
     "metadata": {},
     "output_type": "execute_result"
    }
   ],
   "source": [
    "## Calculating differences in average days spent in the program for M & W\n",
    "summary_stats=df.groupby(\"Gender\")[\"Days_in_Program\"].mean()\n",
    "summary_stats"
   ]
  },
  {
   "cell_type": "code",
   "execution_count": 10,
   "id": "7d52a126",
   "metadata": {},
   "outputs": [
    {
     "name": "stdout",
     "output_type": "stream",
     "text": [
      "Gender[F]   -0.367754\n",
      "Gender[M]    0.147102\n",
      "dtype: float64\n"
     ]
    }
   ],
   "source": [
    "from statsmodels.formula.api import ols\n",
    "mdl_fraud_vs_gender = ols(\"Days_in_Program~Gender + 0\", data=df).fit()\n",
    "print(mdl_fraud_vs_gender.params)"
   ]
  },
  {
   "cell_type": "code",
   "execution_count": 32,
   "id": "f9c31f5a",
   "metadata": {},
   "outputs": [],
   "source": [
    "##  Men tend to stay longer in the program then Female"
   ]
  },
  {
   "cell_type": "markdown",
   "id": "2233afde",
   "metadata": {},
   "source": [
    "## Making Predictions "
   ]
  },
  {
   "cell_type": "code",
   "execution_count": 11,
   "id": "e017a98b",
   "metadata": {},
   "outputs": [
    {
     "data": {
      "text/html": [
       "<div>\n",
       "<style scoped>\n",
       "    .dataframe tbody tr th:only-of-type {\n",
       "        vertical-align: middle;\n",
       "    }\n",
       "\n",
       "    .dataframe tbody tr th {\n",
       "        vertical-align: top;\n",
       "    }\n",
       "\n",
       "    .dataframe thead th {\n",
       "        text-align: right;\n",
       "    }\n",
       "</style>\n",
       "<table border=\"1\" class=\"dataframe\">\n",
       "  <thead>\n",
       "    <tr style=\"text-align: right;\">\n",
       "      <th></th>\n",
       "      <th>Youth ID</th>\n",
       "      <th>Gender</th>\n",
       "      <th>PWS</th>\n",
       "      <th>DL</th>\n",
       "      <th>SC</th>\n",
       "      <th>RC</th>\n",
       "      <th>HMM</th>\n",
       "      <th>WSL</th>\n",
       "      <th>CEP</th>\n",
       "      <th>LF</th>\n",
       "      <th>grand_total</th>\n",
       "      <th>Days_in_Program</th>\n",
       "      <th>Category</th>\n",
       "      <th>result_score</th>\n",
       "      <th>fraud_alert</th>\n",
       "      <th>row_std</th>\n",
       "    </tr>\n",
       "  </thead>\n",
       "  <tbody>\n",
       "    <tr>\n",
       "      <th>2</th>\n",
       "      <td>3</td>\n",
       "      <td>M</td>\n",
       "      <td>0.161009</td>\n",
       "      <td>0.316148</td>\n",
       "      <td>-0.306282</td>\n",
       "      <td>0.420427</td>\n",
       "      <td>-0.175002</td>\n",
       "      <td>0.485759</td>\n",
       "      <td>0.132643</td>\n",
       "      <td>-0.162721</td>\n",
       "      <td>0.871981</td>\n",
       "      <td>-1.459962</td>\n",
       "      <td>Bad</td>\n",
       "      <td>1</td>\n",
       "      <td>0.118902</td>\n",
       "      <td>-0.176521</td>\n",
       "    </tr>\n",
       "    <tr>\n",
       "      <th>4</th>\n",
       "      <td>5</td>\n",
       "      <td>F</td>\n",
       "      <td>1.062656</td>\n",
       "      <td>0.407302</td>\n",
       "      <td>0.531115</td>\n",
       "      <td>0.540061</td>\n",
       "      <td>-0.789891</td>\n",
       "      <td>0.566977</td>\n",
       "      <td>0.933624</td>\n",
       "      <td>0.830634</td>\n",
       "      <td>4.082479</td>\n",
       "      <td>-0.784587</td>\n",
       "      <td>Bad</td>\n",
       "      <td>1</td>\n",
       "      <td>0.565271</td>\n",
       "      <td>0.802777</td>\n",
       "    </tr>\n",
       "    <tr>\n",
       "      <th>5</th>\n",
       "      <td>6</td>\n",
       "      <td>M</td>\n",
       "      <td>0.461558</td>\n",
       "      <td>0.224993</td>\n",
       "      <td>0.335128</td>\n",
       "      <td>0.540061</td>\n",
       "      <td>0.268290</td>\n",
       "      <td>0.079671</td>\n",
       "      <td>-0.130366</td>\n",
       "      <td>0.075684</td>\n",
       "      <td>1.855020</td>\n",
       "      <td>0.108877</td>\n",
       "      <td>Bad</td>\n",
       "      <td>1</td>\n",
       "      <td>0.234460</td>\n",
       "      <td>-0.236962</td>\n",
       "    </tr>\n",
       "    <tr>\n",
       "      <th>7</th>\n",
       "      <td>8</td>\n",
       "      <td>M</td>\n",
       "      <td>1.212931</td>\n",
       "      <td>0.346532</td>\n",
       "      <td>0.851820</td>\n",
       "      <td>0.946816</td>\n",
       "      <td>0.711582</td>\n",
       "      <td>0.875605</td>\n",
       "      <td>0.933624</td>\n",
       "      <td>0.830634</td>\n",
       "      <td>6.709544</td>\n",
       "      <td>-0.985089</td>\n",
       "      <td>Bad</td>\n",
       "      <td>1</td>\n",
       "      <td>0.939134</td>\n",
       "      <td>-0.738686</td>\n",
       "    </tr>\n",
       "    <tr>\n",
       "      <th>8</th>\n",
       "      <td>9</td>\n",
       "      <td>M</td>\n",
       "      <td>-1.792562</td>\n",
       "      <td>-2.099451</td>\n",
       "      <td>-0.929876</td>\n",
       "      <td>-1.445859</td>\n",
       "      <td>-0.932888</td>\n",
       "      <td>-2.113208</td>\n",
       "      <td>-1.194356</td>\n",
       "      <td>-1.156075</td>\n",
       "      <td>-11.664275</td>\n",
       "      <td>-0.074037</td>\n",
       "      <td>Bad</td>\n",
       "      <td>1</td>\n",
       "      <td>-1.639384</td>\n",
       "      <td>0.591263</td>\n",
       "    </tr>\n",
       "    <tr>\n",
       "      <th>9</th>\n",
       "      <td>10</td>\n",
       "      <td>F</td>\n",
       "      <td>0.837244</td>\n",
       "      <td>-0.048471</td>\n",
       "      <td>-0.306282</td>\n",
       "      <td>0.803255</td>\n",
       "      <td>-0.175002</td>\n",
       "      <td>-0.570071</td>\n",
       "      <td>-0.931347</td>\n",
       "      <td>0.592228</td>\n",
       "      <td>0.201555</td>\n",
       "      <td>0.042043</td>\n",
       "      <td>Bad</td>\n",
       "      <td>1</td>\n",
       "      <td>-0.060099</td>\n",
       "      <td>1.164915</td>\n",
       "    </tr>\n",
       "    <tr>\n",
       "      <th>11</th>\n",
       "      <td>12</td>\n",
       "      <td>M</td>\n",
       "      <td>0.536695</td>\n",
       "      <td>0.665574</td>\n",
       "      <td>0.442030</td>\n",
       "      <td>0.540061</td>\n",
       "      <td>0.268290</td>\n",
       "      <td>0.404542</td>\n",
       "      <td>0.527156</td>\n",
       "      <td>0.592228</td>\n",
       "      <td>3.976577</td>\n",
       "      <td>0.027973</td>\n",
       "      <td>Bad</td>\n",
       "      <td>1</td>\n",
       "      <td>0.553942</td>\n",
       "      <td>-0.449831</td>\n",
       "    </tr>\n",
       "    <tr>\n",
       "      <th>17</th>\n",
       "      <td>18</td>\n",
       "      <td>M</td>\n",
       "      <td>1.212931</td>\n",
       "      <td>0.847883</td>\n",
       "      <td>0.958722</td>\n",
       "      <td>0.946816</td>\n",
       "      <td>1.569567</td>\n",
       "      <td>1.135501</td>\n",
       "      <td>1.196633</td>\n",
       "      <td>0.830634</td>\n",
       "      <td>8.698687</td>\n",
       "      <td>-1.139863</td>\n",
       "      <td>Bad</td>\n",
       "      <td>1</td>\n",
       "      <td>1.249553</td>\n",
       "      <td>-1.773128</td>\n",
       "    </tr>\n",
       "    <tr>\n",
       "      <th>19</th>\n",
       "      <td>20</td>\n",
       "      <td>M</td>\n",
       "      <td>1.212931</td>\n",
       "      <td>0.847883</td>\n",
       "      <td>0.958722</td>\n",
       "      <td>0.946816</td>\n",
       "      <td>1.569567</td>\n",
       "      <td>1.135501</td>\n",
       "      <td>1.196633</td>\n",
       "      <td>0.830634</td>\n",
       "      <td>8.698687</td>\n",
       "      <td>0.601338</td>\n",
       "      <td>Bad</td>\n",
       "      <td>1</td>\n",
       "      <td>1.249553</td>\n",
       "      <td>-1.773128</td>\n",
       "    </tr>\n",
       "  </tbody>\n",
       "</table>\n",
       "</div>"
      ],
      "text/plain": [
       "    Youth ID Gender       PWS        DL        SC        RC       HMM  \\\n",
       "2          3      M  0.161009  0.316148 -0.306282  0.420427 -0.175002   \n",
       "4          5      F  1.062656  0.407302  0.531115  0.540061 -0.789891   \n",
       "5          6      M  0.461558  0.224993  0.335128  0.540061  0.268290   \n",
       "7          8      M  1.212931  0.346532  0.851820  0.946816  0.711582   \n",
       "8          9      M -1.792562 -2.099451 -0.929876 -1.445859 -0.932888   \n",
       "9         10      F  0.837244 -0.048471 -0.306282  0.803255 -0.175002   \n",
       "11        12      M  0.536695  0.665574  0.442030  0.540061  0.268290   \n",
       "17        18      M  1.212931  0.847883  0.958722  0.946816  1.569567   \n",
       "19        20      M  1.212931  0.847883  0.958722  0.946816  1.569567   \n",
       "\n",
       "         WSL       CEP        LF  grand_total  Days_in_Program Category  \\\n",
       "2   0.485759  0.132643 -0.162721     0.871981        -1.459962      Bad   \n",
       "4   0.566977  0.933624  0.830634     4.082479        -0.784587      Bad   \n",
       "5   0.079671 -0.130366  0.075684     1.855020         0.108877      Bad   \n",
       "7   0.875605  0.933624  0.830634     6.709544        -0.985089      Bad   \n",
       "8  -2.113208 -1.194356 -1.156075   -11.664275        -0.074037      Bad   \n",
       "9  -0.570071 -0.931347  0.592228     0.201555         0.042043      Bad   \n",
       "11  0.404542  0.527156  0.592228     3.976577         0.027973      Bad   \n",
       "17  1.135501  1.196633  0.830634     8.698687        -1.139863      Bad   \n",
       "19  1.135501  1.196633  0.830634     8.698687         0.601338      Bad   \n",
       "\n",
       "    result_score  fraud_alert   row_std  \n",
       "2              1     0.118902 -0.176521  \n",
       "4              1     0.565271  0.802777  \n",
       "5              1     0.234460 -0.236962  \n",
       "7              1     0.939134 -0.738686  \n",
       "8              1    -1.639384  0.591263  \n",
       "9              1    -0.060099  1.164915  \n",
       "11             1     0.553942 -0.449831  \n",
       "17             1     1.249553 -1.773128  \n",
       "19             1     1.249553 -1.773128  "
      ]
     },
     "execution_count": 11,
     "metadata": {},
     "output_type": "execute_result"
    }
   ],
   "source": [
    "bad_peeps=df[df[\"Category\"]==\"Bad\"]\n",
    "bad_peeps"
   ]
  },
  {
   "cell_type": "code",
   "execution_count": 12,
   "id": "acf62027",
   "metadata": {
    "scrolled": true
   },
   "outputs": [
    {
     "data": {
      "image/png": "[encoded data removed]",
      "text/plain": [
       "<Figure size 640x480 with 1 Axes>"
      ]
     },
     "metadata": {},
     "output_type": "display_data"
    }
   ],
   "source": [
    "#scatter plot with trendline \n",
    "sns.regplot(x=\"grand_total\", y=\"fraud_alert\",data=df, ci=None)\n",
    "plt.show()"
   ]
  },
  {
   "cell_type": "code",
   "execution_count": 13,
   "id": "4a72ba91",
   "metadata": {},
   "outputs": [
    {
     "data": {
      "text/plain": [
       "<statsmodels.regression.linear_model.RegressionResultsWrapper at 0x7fb13815f580>"
      ]
     },
     "execution_count": 13,
     "metadata": {},
     "output_type": "execute_result"
    }
   ],
   "source": [
    "#Create model and fit\n",
    "mdl_fraud_vs_grand_total=ols(\"fraud_alert~grand_total\", data=df).fit()\n",
    "mdl_fraud_vs_grand_total"
   ]
  },
  {
   "cell_type": "code",
   "execution_count": 14,
   "id": "87b6c1b7",
   "metadata": {},
   "outputs": [
    {
     "data": {
      "text/html": [
       "<div>\n",
       "<style scoped>\n",
       "    .dataframe tbody tr th:only-of-type {\n",
       "        vertical-align: middle;\n",
       "    }\n",
       "\n",
       "    .dataframe tbody tr th {\n",
       "        vertical-align: top;\n",
       "    }\n",
       "\n",
       "    .dataframe thead th {\n",
       "        text-align: right;\n",
       "    }\n",
       "</style>\n",
       "<table border=\"1\" class=\"dataframe\">\n",
       "  <thead>\n",
       "    <tr style=\"text-align: right;\">\n",
       "      <th></th>\n",
       "      <th>grand_total</th>\n",
       "    </tr>\n",
       "  </thead>\n",
       "  <tbody>\n",
       "    <tr>\n",
       "      <th>0</th>\n",
       "      <td>-12</td>\n",
       "    </tr>\n",
       "    <tr>\n",
       "      <th>1</th>\n",
       "      <td>-11</td>\n",
       "    </tr>\n",
       "    <tr>\n",
       "      <th>2</th>\n",
       "      <td>-10</td>\n",
       "    </tr>\n",
       "    <tr>\n",
       "      <th>3</th>\n",
       "      <td>-9</td>\n",
       "    </tr>\n",
       "    <tr>\n",
       "      <th>4</th>\n",
       "      <td>-8</td>\n",
       "    </tr>\n",
       "  </tbody>\n",
       "</table>\n",
       "</div>"
      ],
      "text/plain": [
       "   grand_total\n",
       "0          -12\n",
       "1          -11\n",
       "2          -10\n",
       "3           -9\n",
       "4           -8"
      ]
     },
     "execution_count": 14,
     "metadata": {},
     "output_type": "execute_result"
    }
   ],
   "source": [
    "#choosing explanatory variables 20-40\n",
    "explanatory_data=pd.DataFrame({\"grand_total\":np.arange(-12,10)})\n",
    "explanatory_data.head()"
   ]
  },
  {
   "cell_type": "code",
   "execution_count": 15,
   "id": "042f9104",
   "metadata": {
    "scrolled": true
   },
   "outputs": [
    {
     "name": "stdout",
     "output_type": "stream",
     "text": [
      "0    -1.686553e+00\n",
      "1    -1.546007e+00\n",
      "2    -1.405461e+00\n",
      "3    -1.264915e+00\n",
      "4    -1.124369e+00\n",
      "5    -9.838228e-01\n",
      "6    -8.432767e-01\n",
      "7    -7.027306e-01\n",
      "8    -5.621845e-01\n",
      "9    -4.216383e-01\n",
      "10   -2.810922e-01\n",
      "11   -1.405461e-01\n",
      "12    4.092643e-11\n",
      "13    1.405461e-01\n",
      "14    2.810922e-01\n",
      "15    4.216383e-01\n",
      "16    5.621845e-01\n",
      "17    7.027306e-01\n",
      "18    8.432767e-01\n",
      "19    9.838228e-01\n",
      "20    1.124369e+00\n",
      "21    1.264915e+00\n",
      "dtype: float64\n"
     ]
    }
   ],
   "source": [
    "#making predictions\n",
    "print(mdl_fraud_vs_grand_total.predict(explanatory_data))"
   ]
  },
  {
   "cell_type": "markdown",
   "id": "1f88185f",
   "metadata": {},
   "source": [
    "#### The predict function returns a Series of predictions, one for each row of the explanatory data."
   ]
  },
  {
   "cell_type": "code",
   "execution_count": 16,
   "id": "b2e0570a",
   "metadata": {
    "scrolled": true
   },
   "outputs": [
    {
     "name": "stdout",
     "output_type": "stream",
     "text": [
      "    grand_total   fraud_alert\n",
      "0           -12 -1.686553e+00\n",
      "1           -11 -1.546007e+00\n",
      "2           -10 -1.405461e+00\n",
      "3            -9 -1.264915e+00\n",
      "4            -8 -1.124369e+00\n",
      "5            -7 -9.838228e-01\n",
      "6            -6 -8.432767e-01\n",
      "7            -5 -7.027306e-01\n",
      "8            -4 -5.621845e-01\n",
      "9            -3 -4.216383e-01\n",
      "10           -2 -2.810922e-01\n",
      "11           -1 -1.405461e-01\n",
      "12            0  4.092643e-11\n",
      "13            1  1.405461e-01\n",
      "14            2  2.810922e-01\n",
      "15            3  4.216383e-01\n",
      "16            4  5.621845e-01\n",
      "17            5  7.027306e-01\n",
      "18            6  8.432767e-01\n",
      "19            7  9.838228e-01\n",
      "20            8  1.124369e+00\n",
      "21            9  1.264915e+00\n"
     ]
    }
   ],
   "source": [
    "#create side by side analysis with explanatory data & fraud_alert predictions\n",
    "prediction_data= explanatory_data.assign(fraud_alert=mdl_fraud_vs_grand_total.predict(explanatory_data))\n",
    "print(prediction_data)"
   ]
  },
  {
   "cell_type": "code",
   "execution_count": 17,
   "id": "c4586ea0",
   "metadata": {},
   "outputs": [
    {
     "data": {
      "image/png": "[encoded data removed]",
      "text/plain": [
       "<Figure size 640x480 with 1 Axes>"
      ]
     },
     "metadata": {},
     "output_type": "display_data"
    }
   ],
   "source": [
    "#visualize predictions on scatter plt with real results. \n",
    "fig=plt.figure()\n",
    "sns.regplot(x=\"grand_total\", y=\"fraud_alert\",data=df, ci=None)\n",
    "sns.scatterplot(x= \"grand_total\", y=\"fraud_alert\", data=prediction_data, color='red', marker='s')\n",
    "plt.show()"
   ]
  },
  {
   "cell_type": "code",
   "execution_count": 18,
   "id": "86448618",
   "metadata": {},
   "outputs": [
    {
     "name": "stdout",
     "output_type": "stream",
     "text": [
      "   grand_total  fraud_alert\n",
      "0          -50    -7.027306\n"
     ]
    }
   ],
   "source": [
    "# Extrapolating with predictions outside of range\n",
    "small_total=pd.DataFrame({\"grand_total\":[-50] })\n",
    "pred_small_total=small_total.assign(fraud_alert=mdl_fraud_vs_grand_total.predict(small_total))\n",
    "print(pred_small_total)"
   ]
  },
  {
   "cell_type": "code",
   "execution_count": 19,
   "id": "46bca294",
   "metadata": {},
   "outputs": [
    {
     "data": {
      "image/png": "[encoded data removed]",
      "text/plain": [
       "<Figure size 640x480 with 1 Axes>"
      ]
     },
     "metadata": {},
     "output_type": "display_data"
    }
   ],
   "source": [
    "fig=plt.figure()\n",
    "sns.regplot(x=\"grand_total\", y=\"fraud_alert\",data=df, ci=None)\n",
    "sns.scatterplot(x= \"grand_total\", y=\"fraud_alert\", data=pred_small_total, color='red', marker='s')\n",
    "plt.show()"
   ]
  },
  {
   "cell_type": "code",
   "execution_count": 20,
   "id": "9d5d05a1",
   "metadata": {},
   "outputs": [
    {
     "name": "stdout",
     "output_type": "stream",
     "text": [
      "0     0.064079\n",
      "1     0.006912\n",
      "2    -0.003651\n",
      "3     0.003862\n",
      "4    -0.008505\n",
      "5    -0.026256\n",
      "6    -0.013315\n",
      "7    -0.003867\n",
      "8    -0.000015\n",
      "9    -0.088426\n",
      "10    0.018204\n",
      "11   -0.004950\n",
      "12   -0.040289\n",
      "13    0.026631\n",
      "14    0.020499\n",
      "15    0.031924\n",
      "16   -0.020888\n",
      "17    0.026986\n",
      "18   -0.094449\n",
      "19    0.026986\n",
      "20    0.078529\n",
      "dtype: float64\n"
     ]
    }
   ],
   "source": [
    "## Working with Model Objects with residuals. \n",
    "## Is the model of quality? \n",
    "print(mdl_fraud_vs_grand_total.resid)"
   ]
  },
  {
   "cell_type": "code",
   "execution_count": 21,
   "id": "0af19343",
   "metadata": {},
   "outputs": [
    {
     "data": {
      "text/html": [
       "<table class=\"simpletable\">\n",
       "<caption>OLS Regression Results</caption>\n",
       "<tr>\n",
       "  <th>Dep. Variable:</th>       <td>fraud_alert</td>   <th>  R-squared:         </th> <td>   0.998</td> \n",
       "</tr>\n",
       "<tr>\n",
       "  <th>Model:</th>                   <td>OLS</td>       <th>  Adj. R-squared:    </th> <td>   0.998</td> \n",
       "</tr>\n",
       "<tr>\n",
       "  <th>Method:</th>             <td>Least Squares</td>  <th>  F-statistic:       </th> <td>1.114e+04</td>\n",
       "</tr>\n",
       "<tr>\n",
       "  <th>Date:</th>             <td>Tue, 09 Jan 2024</td> <th>  Prob (F-statistic):</th> <td>9.00e-28</td> \n",
       "</tr>\n",
       "<tr>\n",
       "  <th>Time:</th>                 <td>05:25:14</td>     <th>  Log-Likelihood:    </th> <td>  37.655</td> \n",
       "</tr>\n",
       "<tr>\n",
       "  <th>No. Observations:</th>      <td>    21</td>      <th>  AIC:               </th> <td>  -71.31</td> \n",
       "</tr>\n",
       "<tr>\n",
       "  <th>Df Residuals:</th>          <td>    19</td>      <th>  BIC:               </th> <td>  -69.22</td> \n",
       "</tr>\n",
       "<tr>\n",
       "  <th>Df Model:</th>              <td>     1</td>      <th>                     </th>     <td> </td>    \n",
       "</tr>\n",
       "<tr>\n",
       "  <th>Covariance Type:</th>      <td>nonrobust</td>    <th>                     </th>     <td> </td>    \n",
       "</tr>\n",
       "</table>\n",
       "<table class=\"simpletable\">\n",
       "<tr>\n",
       "       <td></td>          <th>coef</th>     <th>std err</th>      <th>t</th>      <th>P>|t|</th>  <th>[0.025</th>    <th>0.975]</th>  \n",
       "</tr>\n",
       "<tr>\n",
       "  <th>Intercept</th>   <td> 4.093e-11</td> <td>    0.009</td> <td> 4.43e-09</td> <td> 1.000</td> <td>   -0.019</td> <td>    0.019</td>\n",
       "</tr>\n",
       "<tr>\n",
       "  <th>grand_total</th> <td>    0.1405</td> <td>    0.001</td> <td>  105.531</td> <td> 0.000</td> <td>    0.138</td> <td>    0.143</td>\n",
       "</tr>\n",
       "</table>\n",
       "<table class=\"simpletable\">\n",
       "<tr>\n",
       "  <th>Omnibus:</th>       <td> 3.177</td> <th>  Durbin-Watson:     </th> <td>   1.968</td>\n",
       "</tr>\n",
       "<tr>\n",
       "  <th>Prob(Omnibus):</th> <td> 0.204</td> <th>  Jarque-Bera (JB):  </th> <td>   1.495</td>\n",
       "</tr>\n",
       "<tr>\n",
       "  <th>Skew:</th>          <td>-0.566</td> <th>  Prob(JB):          </th> <td>   0.474</td>\n",
       "</tr>\n",
       "<tr>\n",
       "  <th>Kurtosis:</th>      <td> 3.653</td> <th>  Cond. No.          </th> <td>    6.94</td>\n",
       "</tr>\n",
       "</table><br/><br/>Notes:<br/>[1] Standard Errors assume that the covariance matrix of the errors is correctly specified."
      ],
      "text/plain": [
       "<class 'statsmodels.iolib.summary.Summary'>\n",
       "\"\"\"\n",
       "                            OLS Regression Results                            \n",
       "==============================================================================\n",
       "Dep. Variable:            fraud_alert   R-squared:                       0.998\n",
       "Model:                            OLS   Adj. R-squared:                  0.998\n",
       "Method:                 Least Squares   F-statistic:                 1.114e+04\n",
       "Date:                Tue, 09 Jan 2024   Prob (F-statistic):           9.00e-28\n",
       "Time:                        05:25:14   Log-Likelihood:                 37.655\n",
       "No. Observations:                  21   AIC:                            -71.31\n",
       "Df Residuals:                      19   BIC:                            -69.22\n",
       "Df Model:                           1                                         \n",
       "Covariance Type:            nonrobust                                         \n",
       "===============================================================================\n",
       "                  coef    std err          t      P>|t|      [0.025      0.975]\n",
       "-------------------------------------------------------------------------------\n",
       "Intercept    4.093e-11      0.009   4.43e-09      1.000      -0.019       0.019\n",
       "grand_total     0.1405      0.001    105.531      0.000       0.138       0.143\n",
       "==============================================================================\n",
       "Omnibus:                        3.177   Durbin-Watson:                   1.968\n",
       "Prob(Omnibus):                  0.204   Jarque-Bera (JB):                1.495\n",
       "Skew:                          -0.566   Prob(JB):                        0.474\n",
       "Kurtosis:                       3.653   Cond. No.                         6.94\n",
       "==============================================================================\n",
       "\n",
       "Notes:\n",
       "[1] Standard Errors assume that the covariance matrix of the errors is correctly specified.\n",
       "\"\"\""
      ]
     },
     "execution_count": 21,
     "metadata": {},
     "output_type": "execute_result"
    }
   ],
   "source": [
    "mdl_fraud_vs_grand_total.summary()"
   ]
  },
  {
   "cell_type": "markdown",
   "id": "8865505a",
   "metadata": {},
   "source": [
    "#### the model has a score of r-squared of 0.998. Nearly a perfect fit.  "
   ]
  },
  {
   "cell_type": "code",
   "execution_count": 22,
   "id": "4ca4b82b",
   "metadata": {},
   "outputs": [
    {
     "data": {
      "text/plain": [
       "0.9982968419458293"
      ]
     },
     "execution_count": 22,
     "metadata": {},
     "output_type": "execute_result"
    }
   ],
   "source": [
    "## Quantifying model fit \n",
    "# interpretation in simple linear regression\n",
    "coeffr_determination=df[\"grand_total\"].corr(df[\"fraud_alert\"])**2\n",
    "coeffr_determination"
   ]
  },
  {
   "cell_type": "code",
   "execution_count": 23,
   "id": "f8309846",
   "metadata": {
    "scrolled": true
   },
   "outputs": [
    {
     "name": "stdout",
     "output_type": "stream",
     "text": [
      "mse: 0     0.064079\n",
      "1     0.006912\n",
      "2    -0.003651\n",
      "3     0.003862\n",
      "4    -0.008505\n",
      "5    -0.026256\n",
      "6    -0.013315\n",
      "7    -0.003867\n",
      "8    -0.000015\n",
      "9    -0.088426\n",
      "10    0.018204\n",
      "11   -0.004950\n",
      "12   -0.040289\n",
      "13    0.026631\n",
      "14    0.020499\n",
      "15    0.031924\n",
      "16   -0.020888\n",
      "17    0.026986\n",
      "18   -0.094449\n",
      "19    0.026986\n",
      "20    0.078529\n",
      "dtype: float64\n"
     ]
    }
   ],
   "source": [
    "#Calculate the residuale standard error \n",
    "mse=mdl_fraud_vs_grand_total.resid\n",
    "print('mse:', mse)"
   ]
  },
  {
   "cell_type": "code",
   "execution_count": 24,
   "id": "a9ab0476",
   "metadata": {
    "scrolled": true
   },
   "outputs": [
    {
     "name": "stdout",
     "output_type": "stream",
     "text": [
      "res: 0     0.253138\n",
      "1     0.083136\n",
      "2          NaN\n",
      "3     0.062147\n",
      "4          NaN\n",
      "5          NaN\n",
      "6          NaN\n",
      "7          NaN\n",
      "8          NaN\n",
      "9          NaN\n",
      "10    0.134922\n",
      "11         NaN\n",
      "12         NaN\n",
      "13    0.163190\n",
      "14    0.143174\n",
      "15    0.178674\n",
      "16         NaN\n",
      "17    0.164275\n",
      "18         NaN\n",
      "19    0.164275\n",
      "20    0.280231\n",
      "dtype: float64\n"
     ]
    },
    {
     "name": "stderr",
     "output_type": "stream",
     "text": [
      "/Users/oakmoreroadinc./anaconda3/lib/python3.10/site-packages/pandas/core/arraylike.py:402: RuntimeWarning: invalid value encountered in sqrt\n",
      "  result = getattr(ufunc, method)(*inputs, **kwargs)\n"
     ]
    }
   ],
   "source": [
    "rse=np.sqrt(mse)\n",
    "print('res:',rse)"
   ]
  },
  {
   "cell_type": "markdown",
   "id": "d8ff3c80",
   "metadata": {},
   "source": [
    "### a smaller 'rse' means more accurate. \n",
    "## '0.253' is the difference between predicted 'fraud_alert' and observed 'grand_total'.\n",
    "## How much predictions are typically wrong? wrong by 0.253"
   ]
  },
  {
   "cell_type": "code",
   "execution_count": null,
   "id": "0e6a8ba0",
   "metadata": {},
   "outputs": [],
   "source": [
    "## Visualizing model fit "
   ]
  },
  {
   "cell_type": "code",
   "execution_count": 25,
   "id": "a188283f",
   "metadata": {
    "scrolled": false
   },
   "outputs": [
    {
     "data": {
      "text/plain": [
       "Text(0, 0.5, 'Residuals')"
      ]
     },
     "execution_count": 25,
     "metadata": {},
     "output_type": "execute_result"
    },
    {
     "data": {
      "image/png": "[encoded data removed]",
      "text/plain": [
       "<Figure size 640x480 with 1 Axes>"
      ]
     },
     "metadata": {},
     "output_type": "display_data"
    }
   ],
   "source": [
    "#Residual versus fitted plot\n",
    "sns.residplot(x=\"grand_total\", y=\"fraud_alert\", data=df,lowess=True)\n",
    "plt.xlabel(\"Fitted values\")\n",
    "plt.ylabel(\"Residuals\")"
   ]
  },
  {
   "cell_type": "markdown",
   "id": "472a7188",
   "metadata": {},
   "source": [
    "### The plot above is a good fit becasue the residuals aprox normally distributed with a mean of \"0\".\n",
    "### In addition the lowless trend line closely follows the y=0 line, suggest the residuals are normally distributed with mean zero.\n"
   ]
  },
  {
   "cell_type": "code",
   "execution_count": 26,
   "id": "fd0233cd",
   "metadata": {},
   "outputs": [
    {
     "data": {
      "image/png": "[encoded data removed]",
      "text/plain": [
       "<Figure size 640x480 with 1 Axes>"
      ]
     },
     "metadata": {},
     "output_type": "display_data"
    }
   ],
   "source": [
    "# Creating QQ plot \n",
    "from statsmodels.api import qqplot \n",
    "qqplot(data=mdl_fraud_vs_grand_total.resid, fit=True, line=\"45\")\n",
    "plt.show()"
   ]
  },
  {
   "cell_type": "markdown",
   "id": "16789103",
   "metadata": {},
   "source": [
    "### For QQQ>>> Points track around a straight line indicating a good fit."
   ]
  },
  {
   "cell_type": "markdown",
   "id": "d103025f",
   "metadata": {},
   "source": [
    "### Logistics Regression "
   ]
  },
  {
   "cell_type": "code",
   "execution_count": 29,
   "id": "0bd277ef",
   "metadata": {
    "scrolled": false
   },
   "outputs": [
    {
     "name": "stdout",
     "output_type": "stream",
     "text": [
      "Optimization terminated successfully.\n",
      "         Current function value: 0.627531\n",
      "         Iterations 5\n",
      "Intercept     -0.347520\n",
      "fraud_alert    0.790281\n",
      "dtype: float64\n"
     ]
    }
   ],
   "source": [
    "from statsmodels.formula.api import logit\n",
    "mdl_result_vs_fraud_logit=logit(\"result_score~fraud_alert\", data=df).fit()\n",
    "print(mdl_result_vs_fraud_logit.params)"
   ]
  },
  {
   "cell_type": "code",
   "execution_count": 31,
   "id": "8b1cdb13",
   "metadata": {},
   "outputs": [
    {
     "data": {
      "image/png": "[encoded data removed]",
      "text/plain": [
       "<Figure size 640x480 with 1 Axes>"
      ]
     },
     "metadata": {},
     "output_type": "display_data"
    }
   ],
   "source": [
    "sns.regplot(x='fraud_alert', y='result_score', data=df, ci=None, logistic=True,\n",
    "                line_kws={\"color\":\"blue\"})\n",
    "\n",
    "\n",
    "plt.show()"
   ]
  },
  {
   "cell_type": "markdown",
   "id": "906defef",
   "metadata": {},
   "source": [
    "#### To interpret this curve, when the 'fraud_alert' is very small, the probability of 'result_score' is close to zero. \n",
    "### 0=Good; 1=Bad"
   ]
  },
  {
   "cell_type": "code",
   "execution_count": 33,
   "id": "b15157e9",
   "metadata": {},
   "outputs": [
    {
     "data": {
      "image/png": "[encoded data removed]",
      "text/plain": [
       "<Figure size 1094.61x500 with 2 Axes>"
      ]
     },
     "metadata": {},
     "output_type": "display_data"
    }
   ],
   "source": [
    "sns.displot(data=df,x='fraud_alert', hue='result_score', kind='hist', col='result_score')\n",
    "plt.show()"
   ]
  },
  {
   "cell_type": "markdown",
   "id": "66b5f313",
   "metadata": {},
   "source": [
    "### The hist above shows how the explanatory variable('fraud_alert') is distributed\n",
    "### Skewed to the left is the 'result_score=1' which means higher 'faud_alert' values results in 1=Bad. \n",
    "### Skewed a bit to the right is the 'result_score=0' which means lower 'faud_alert' values results in 0=Good. "
   ]
  },
  {
   "cell_type": "code",
   "execution_count": null,
   "id": "243c6d04",
   "metadata": {},
   "outputs": [],
   "source": [
    "## Most Likely Outcome "
   ]
  },
  {
   "cell_type": "code",
   "execution_count": 40,
   "id": "632ef13e",
   "metadata": {},
   "outputs": [
    {
     "name": "stdout",
     "output_type": "stream",
     "text": [
      "Optimization terminated successfully.\n",
      "         Current function value: 0.627531\n",
      "         Iterations 5\n"
     ]
    }
   ],
   "source": [
    "# Making predictions with logistic regression\n",
    "mdl_fraud=logit(\"result_score~fraud_alert\", data=df).fit()\n",
    "\n",
    "explanatory_data=pd.DataFrame({\"fraud_alert\":np.arange(-2,3.999,0.000025)})\n",
    "\n",
    "prediction_data=explanatory_data.assign(result_score=mdl_fraud.predict(explanatory_data))"
   ]
  },
  {
   "cell_type": "code",
   "execution_count": 41,
   "id": "079e9ce1",
   "metadata": {},
   "outputs": [
    {
     "data": {
      "image/png": "[encoded data removed]",
      "text/plain": [
       "<Figure size 640x480 with 1 Axes>"
      ]
     },
     "metadata": {},
     "output_type": "display_data"
    }
   ],
   "source": [
    "#Adding point predictions to a plot \n",
    "sns.regplot(x='fraud_alert', y='result_score', data=df, ci=None, logistic=True)\n",
    "\n",
    "sns.scatterplot(x='fraud_alert',y='result_score', data=prediction_data, color=\"red\" )\n",
    "\n",
    "\n",
    "plt.show()"
   ]
  },
  {
   "cell_type": "code",
   "execution_count": 44,
   "id": "b832247a",
   "metadata": {},
   "outputs": [],
   "source": [
    "# Calculating most likely outcome\n",
    "# Using numpy round() function to predict 'most likely outcome'\n",
    "prediction_data = explanatory_data.assign(result_score=mdl_fraud.predict(explanatory_data))\n",
    "\n",
    "prediction_data['most_likely_outcome']=np.round(prediction_data['result_score'])"
   ]
  },
  {
   "cell_type": "code",
   "execution_count": 45,
   "id": "aae5ad5a",
   "metadata": {},
   "outputs": [
    {
     "data": {
      "image/png": "[encoded data removed]",
      "text/plain": [
       "<Figure size 640x480 with 1 Axes>"
      ]
     },
     "metadata": {},
     "output_type": "display_data"
    }
   ],
   "source": [
    "#visualizing most likely outcome\n",
    "sns.regplot(x='fraud_alert', y='result_score', data=df, ci=None, logistic=True)\n",
    "\n",
    "sns.scatterplot(x='fraud_alert',y='most_likely_outcome', data=prediction_data, color=\"red\" )\n",
    "plt.show()"
   ]
  },
  {
   "cell_type": "markdown",
   "id": "2bc69662",
   "metadata": {},
   "source": [
    "### AS fraud alert goes up the 'most likely outcome' is the result score approaches 1"
   ]
  },
  {
   "cell_type": "code",
   "execution_count": 46,
   "id": "2c58cca8",
   "metadata": {},
   "outputs": [
    {
     "data": {
      "text/plain": [
       "0          0.145427\n",
       "1          0.145430\n",
       "2          0.145433\n",
       "3          0.145435\n",
       "4          0.145438\n",
       "            ...    \n",
       "239955    16.655067\n",
       "239956    16.655396\n",
       "239957    16.655726\n",
       "239958    16.656055\n",
       "239959    16.656384\n",
       "Name: odds_ratio, Length: 239960, dtype: float64"
      ]
     },
     "execution_count": 46,
     "metadata": {},
     "output_type": "execute_result"
    }
   ],
   "source": [
    "# Calculating Odds Ratio\n",
    "prediction_data['odds_ratio']=prediction_data['result_score']/(1-prediction_data['result_score'])\n",
    "prediction_data['odds_ratio']"
   ]
  },
  {
   "cell_type": "code",
   "execution_count": 49,
   "id": "4b4c4dfa",
   "metadata": {},
   "outputs": [
    {
     "data": {
      "image/png": "[encoded data removed]",
      "text/plain": [
       "<Figure size 640x480 with 1 Axes>"
      ]
     },
     "metadata": {},
     "output_type": "display_data"
    }
   ],
   "source": [
    "# Visualizing odds ratio \n",
    "sns.lineplot(x='fraud_alert',y='odds_ratio', data=prediction_data)\n",
    "\n",
    "plt.axhline(y=1, \n",
    "           linestyle=\"dotted\")\n",
    "plt.show()"
   ]
  },
  {
   "cell_type": "code",
   "execution_count": null,
   "id": "2072a2c9",
   "metadata": {},
   "outputs": [],
   "source": [
    "## In the bottom-left, the predictions are below one, so the chance of \"Bad=1\" is less than the chance of 'Good=0'. \n",
    "\n",
    "## In the top-right, the chance of 'Bad=1' is about 15 times more than the chance of 'Good=0'."
   ]
  },
  {
   "cell_type": "code",
   "execution_count": 50,
   "id": "a1811671",
   "metadata": {},
   "outputs": [
    {
     "data": {
      "image/png": "[encoded data removed]",
      "text/plain": [
       "<Figure size 640x480 with 1 Axes>"
      ]
     },
     "metadata": {},
     "output_type": "display_data"
    }
   ],
   "source": [
    "# Visualizing log odds ratio \n",
    "\n",
    "sns.lineplot(x='fraud_alert',y='odds_ratio', data=prediction_data)\n",
    "\n",
    "plt.axhline(y=1, \n",
    "           linestyle=\"dotted\")\n",
    "plt.yscale(\"log\")\n",
    "plt.show()"
   ]
  },
  {
   "cell_type": "code",
   "execution_count": 51,
   "id": "235ae34f",
   "metadata": {},
   "outputs": [
    {
     "data": {
      "text/plain": [
       "0        -1.928082\n",
       "1        -1.928062\n",
       "2        -1.928042\n",
       "3        -1.928023\n",
       "4        -1.928003\n",
       "            ...   \n",
       "239955    2.812715\n",
       "239956    2.812734\n",
       "239957    2.812754\n",
       "239958    2.812774\n",
       "239959    2.812794\n",
       "Name: log_odds_ratio, Length: 239960, dtype: float64"
      ]
     },
     "execution_count": 51,
     "metadata": {},
     "output_type": "execute_result"
    }
   ],
   "source": [
    "# predicting log odds ratio\n",
    "prediction_data[\"log_odds_ratio\"] = np.log(prediction_data[\"odds_ratio\"])\n",
    "prediction_data[\"log_odds_ratio\"]"
   ]
  },
  {
   "cell_type": "markdown",
   "id": "75da7a67",
   "metadata": {},
   "source": [
    "### log odds ratio makes it easier to interpret when the explanatory variable is changed."
   ]
  },
  {
   "cell_type": "code",
   "execution_count": 54,
   "id": "e2610e32",
   "metadata": {},
   "outputs": [
    {
     "name": "stdout",
     "output_type": "stream",
     "text": [
      "actual_response  predicted_response\n",
      "0                0.0                   10\n",
      "                 1.0                    2\n",
      "1                0.0                    4\n",
      "                 1.0                    5\n",
      "dtype: int64\n"
     ]
    }
   ],
   "source": [
    "#Quantifying logistic regression fit with confusion matrix\n",
    "\n",
    "#get the actual response from the \"result_score\"column.\n",
    "actual_response = df[\"result_score\"]\n",
    "\n",
    "#cal the perdict method on the fitted logistic regression model \n",
    "predicted_response = np.round(mdl_fraud.predict())\n",
    "\n",
    "#combine the actual & predicted responses in a DataFrame\n",
    "outcomes = pd.DataFrame({\"actual_response\":actual_response, \"predicted_response\":predicted_response})\n",
    "\n",
    "print(outcomes.value_counts(sort=False))"
   ]
  },
  {
   "cell_type": "markdown",
   "id": "64803c1b",
   "metadata": {},
   "source": [
    "### We correctly predicted that 10 youths did \"Good=0\" in the program and 5 youths did \"Bad=1\". \n",
    "\n",
    "### There were 2 false positives and 4 false negatives."
   ]
  },
  {
   "cell_type": "code",
   "execution_count": 55,
   "id": "2aa8af53",
   "metadata": {},
   "outputs": [
    {
     "name": "stdout",
     "output_type": "stream",
     "text": [
      "[[10.  2.]\n",
      " [ 4.  5.]]\n"
     ]
    }
   ],
   "source": [
    "# Visualizing the confusion matrix\n",
    "conf_matrix=mdl_fraud.pred_table()\n",
    "print(conf_matrix)"
   ]
  },
  {
   "cell_type": "code",
   "execution_count": 57,
   "id": "da503e2b",
   "metadata": {},
   "outputs": [
    {
     "data": {
      "text/plain": [
       "(<Figure size 640x480 with 3 Axes>,\n",
       " {('0', '0'): (0.0, 0.0, 0.5685856432125089, 0.8305647840531561),\n",
       "  ('0', '1'): (0.0,\n",
       "   0.8338870431893687,\n",
       "   0.5685856432125089,\n",
       "   0.16611295681063118),\n",
       "  ('1', '0'): (0.5735607675906184,\n",
       "   0.0,\n",
       "   0.42643923240938175,\n",
       "   0.44296788482834987),\n",
       "  ('1', '1'): (0.5735607675906184,\n",
       "   0.4462901439645625,\n",
       "   0.42643923240938175,\n",
       "   0.5537098560354374)})"
      ]
     },
     "execution_count": 57,
     "metadata": {},
     "output_type": "execute_result"
    },
    {
     "data": {
      "image/png": "[encoded data removed]",
      "text/plain": [
       "<Figure size 640x480 with 3 Axes>"
      ]
     },
     "metadata": {},
     "output_type": "display_data"
    }
   ],
   "source": [
    "from statsmodels.graphics.mosaicplot import mosaic\n",
    "mosaic(conf_matrix)"
   ]
  },
  {
   "cell_type": "code",
   "execution_count": 62,
   "id": "d8087cb6",
   "metadata": {},
   "outputs": [],
   "source": [
    "# Accuracy= represents the proportion of correct predictions (both true positives and true negatives) \n",
    "# out of all predictions made.\n",
    "TN = conf_matrix[0,0]\n",
    "TP = conf_matrix[1,1]\n",
    "FN = conf_matrix[1,0]\n",
    "FP = conf_matrix[0,1]"
   ]
  },
  {
   "cell_type": "code",
   "execution_count": 60,
   "id": "15a9d121",
   "metadata": {},
   "outputs": [
    {
     "name": "stdout",
     "output_type": "stream",
     "text": [
      "0.7142857142857143\n"
     ]
    }
   ],
   "source": [
    "# Accuracy \n",
    "ac=(TN+TP)/(TN+TP+FN+FP)\n",
    "print(ac)"
   ]
  },
  {
   "cell_type": "code",
   "execution_count": 63,
   "id": "325d5c1c",
   "metadata": {},
   "outputs": [
    {
     "name": "stdout",
     "output_type": "stream",
     "text": [
      "0.5555555555555556\n"
     ]
    }
   ],
   "source": [
    "#Sensitivity = identifying positive outcomes correctly\n",
    "sns=TP/(FN+TP)\n",
    "print(sns)"
   ]
  },
  {
   "cell_type": "code",
   "execution_count": 65,
   "id": "c9d4d86a",
   "metadata": {},
   "outputs": [
    {
     "name": "stdout",
     "output_type": "stream",
     "text": [
      "0.8333333333333334\n"
     ]
    }
   ],
   "source": [
    "#Specifity = identifying negative outcomes correctly\n",
    "spec= TN/(TN+FP)\n",
    "print(spec)"
   ]
  },
  {
   "cell_type": "code",
   "execution_count": 66,
   "id": "1ddbc28b",
   "metadata": {},
   "outputs": [],
   "source": [
    "df.to_csv(\"simple_lin_log_reg.csv\")"
   ]
  },
  {
   "cell_type": "code",
   "execution_count": null,
   "id": "fe763a8c",
   "metadata": {},
   "outputs": [],
   "source": []
  }
 ],
 "metadata": {
  "kernelspec": {
   "display_name": "Python 3",
   "language": "python",
   "name": "python3"
  },
  "language_info": {
   "codemirror_mode": {
    "name": "ipython",
    "version": 3
   },
   "file_extension": ".py",
   "mimetype": "text/x-python",
   "name": "python",
   "nbconvert_exporter": "python",
   "pygments_lexer": "ipython3",
   "version": "3.11.3 (v3.11.3:f3909b8bc8, Apr  4 2023, 20:12:10) [Clang 13.0.0 (clang-1300.0.29.30)]"
  },
  "vscode": {
   "interpreter": {
    "hash": "31f2aee4e71d21fbe5cf8b01ff0e069b9275f58929596ceb00d14d90e3e16cd6"
   }
  }
 },
 "nbformat": 4,
 "nbformat_minor": 5
}
